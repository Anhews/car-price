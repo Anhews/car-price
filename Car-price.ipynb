{
 "cells": [
  {
   "cell_type": "markdown",
   "metadata": {},
   "source": [
    "# Определение стоимости автомобилей"
   ]
  },
  {
   "cell_type": "markdown",
   "metadata": {},
   "source": [
    "**Вводная информация:** Сервис по продаже автомобилей с пробегом разрабатывает приложение для привлечения новых клиентов. В нём можно быстро узнать рыночную стоимость своего автомобиля. \n",
    "\n",
    "**Цель:** построить модель для определения стоимости автомобиля.\n",
    "\n",
    "**Данные:** технические характеристики, комплектации и цены автомобилей. \n",
    "\n",
    "**Заказчику важны:**\n",
    "\n",
    "- качество предсказания;\n",
    "- скорость предсказания;\n",
    "- время обучения.\n",
    "\n",
    "**Описание данных:**\n",
    "\n",
    "Данные находятся в файле /datasets/autos.csv. Скачать датасет. \n",
    "\n",
    "Признаки:\n",
    "- DateCrawled — дата скачивания анкеты из базы\n",
    "- VehicleType — тип автомобильного кузова\n",
    "- RegistrationYear — год регистрации автомобиля\n",
    "- Gearbox — тип коробки передач\n",
    "- Power — мощность (л. с.)\n",
    "- Model — модель автомобиля\n",
    "- Kilometer — пробег (км)\n",
    "- RegistrationMonth — месяц регистрации автомобиля\n",
    "- FuelType — тип топлива\n",
    "- Brand — марка автомобиля\n",
    "- Repaired — была машина в ремонте или нет\n",
    "- DateCreated — дата создания анкеты\n",
    "- NumberOfPictures — количество фотографий автомобиля\n",
    "- PostalCode — почтовый индекс владельца анкеты (пользователя)\n",
    "- LastSeen — дата последней активности пользователя\n",
    "\n",
    "Целевой признак:\n",
    "- Price — цена (евро)"
   ]
  },
  {
   "cell_type": "markdown",
   "metadata": {},
   "source": [
    "## Подготовка данных"
   ]
  },
  {
   "cell_type": "code",
   "execution_count": 1,
   "metadata": {},
   "outputs": [],
   "source": [
    "# импорт библиотек\n",
    "import pandas as pd\n",
    "import numpy as np\n",
    "import seaborn as sns\n",
    "import matplotlib.pyplot as plt\n",
    "from IPython.display import display\n",
    "from sklearn.preprocessing import StandardScaler\n",
    "from sklearn.model_selection import train_test_split\n",
    "from sklearn.model_selection import cross_val_score, KFold, GridSearchCV\n",
    "from sklearn.linear_model import LinearRegression\n",
    "from sklearn.tree import DecisionTreeRegressor\n",
    "from sklearn.ensemble import RandomForestRegressor\n",
    "from sklearn import linear_model\n",
    "from lightgbm import LGBMRegressor\n",
    "from sklearn.metrics import mean_squared_error\n",
    "from sklearn.metrics import make_scorer, mean_squared_error \n",
    "from sklearn.pipeline import make_pipeline\n",
    "from sklearn.preprocessing import (\n",
    "    OneHotEncoder,\n",
    "    OrdinalEncoder,\n",
    "    StandardScaler\n",
    ")"
   ]
  },
  {
   "cell_type": "code",
   "execution_count": 2,
   "metadata": {},
   "outputs": [],
   "source": [
    "try:\n",
    "    data = pd.read_csv('/datasets/autos.csv')\n",
    "except:\n",
    "    data = pd.read_csv('datasets/autos.csv')"
   ]
  },
  {
   "cell_type": "code",
   "execution_count": 3,
   "metadata": {},
   "outputs": [
    {
     "data": {
      "text/html": [
       "<div>\n",
       "<style scoped>\n",
       "    .dataframe tbody tr th:only-of-type {\n",
       "        vertical-align: middle;\n",
       "    }\n",
       "\n",
       "    .dataframe tbody tr th {\n",
       "        vertical-align: top;\n",
       "    }\n",
       "\n",
       "    .dataframe thead th {\n",
       "        text-align: right;\n",
       "    }\n",
       "</style>\n",
       "<table border=\"1\" class=\"dataframe\">\n",
       "  <thead>\n",
       "    <tr style=\"text-align: right;\">\n",
       "      <th></th>\n",
       "      <th>DateCrawled</th>\n",
       "      <th>Price</th>\n",
       "      <th>VehicleType</th>\n",
       "      <th>RegistrationYear</th>\n",
       "      <th>Gearbox</th>\n",
       "      <th>Power</th>\n",
       "      <th>Model</th>\n",
       "      <th>Kilometer</th>\n",
       "      <th>RegistrationMonth</th>\n",
       "      <th>FuelType</th>\n",
       "      <th>Brand</th>\n",
       "      <th>Repaired</th>\n",
       "      <th>DateCreated</th>\n",
       "      <th>NumberOfPictures</th>\n",
       "      <th>PostalCode</th>\n",
       "      <th>LastSeen</th>\n",
       "    </tr>\n",
       "  </thead>\n",
       "  <tbody>\n",
       "    <tr>\n",
       "      <th>0</th>\n",
       "      <td>2016-03-24 11:52:17</td>\n",
       "      <td>480</td>\n",
       "      <td>NaN</td>\n",
       "      <td>1993</td>\n",
       "      <td>manual</td>\n",
       "      <td>0</td>\n",
       "      <td>golf</td>\n",
       "      <td>150000</td>\n",
       "      <td>0</td>\n",
       "      <td>petrol</td>\n",
       "      <td>volkswagen</td>\n",
       "      <td>NaN</td>\n",
       "      <td>2016-03-24 00:00:00</td>\n",
       "      <td>0</td>\n",
       "      <td>70435</td>\n",
       "      <td>2016-04-07 03:16:57</td>\n",
       "    </tr>\n",
       "    <tr>\n",
       "      <th>1</th>\n",
       "      <td>2016-03-24 10:58:45</td>\n",
       "      <td>18300</td>\n",
       "      <td>coupe</td>\n",
       "      <td>2011</td>\n",
       "      <td>manual</td>\n",
       "      <td>190</td>\n",
       "      <td>NaN</td>\n",
       "      <td>125000</td>\n",
       "      <td>5</td>\n",
       "      <td>gasoline</td>\n",
       "      <td>audi</td>\n",
       "      <td>yes</td>\n",
       "      <td>2016-03-24 00:00:00</td>\n",
       "      <td>0</td>\n",
       "      <td>66954</td>\n",
       "      <td>2016-04-07 01:46:50</td>\n",
       "    </tr>\n",
       "    <tr>\n",
       "      <th>2</th>\n",
       "      <td>2016-03-14 12:52:21</td>\n",
       "      <td>9800</td>\n",
       "      <td>suv</td>\n",
       "      <td>2004</td>\n",
       "      <td>auto</td>\n",
       "      <td>163</td>\n",
       "      <td>grand</td>\n",
       "      <td>125000</td>\n",
       "      <td>8</td>\n",
       "      <td>gasoline</td>\n",
       "      <td>jeep</td>\n",
       "      <td>NaN</td>\n",
       "      <td>2016-03-14 00:00:00</td>\n",
       "      <td>0</td>\n",
       "      <td>90480</td>\n",
       "      <td>2016-04-05 12:47:46</td>\n",
       "    </tr>\n",
       "    <tr>\n",
       "      <th>3</th>\n",
       "      <td>2016-03-17 16:54:04</td>\n",
       "      <td>1500</td>\n",
       "      <td>small</td>\n",
       "      <td>2001</td>\n",
       "      <td>manual</td>\n",
       "      <td>75</td>\n",
       "      <td>golf</td>\n",
       "      <td>150000</td>\n",
       "      <td>6</td>\n",
       "      <td>petrol</td>\n",
       "      <td>volkswagen</td>\n",
       "      <td>no</td>\n",
       "      <td>2016-03-17 00:00:00</td>\n",
       "      <td>0</td>\n",
       "      <td>91074</td>\n",
       "      <td>2016-03-17 17:40:17</td>\n",
       "    </tr>\n",
       "    <tr>\n",
       "      <th>4</th>\n",
       "      <td>2016-03-31 17:25:20</td>\n",
       "      <td>3600</td>\n",
       "      <td>small</td>\n",
       "      <td>2008</td>\n",
       "      <td>manual</td>\n",
       "      <td>69</td>\n",
       "      <td>fabia</td>\n",
       "      <td>90000</td>\n",
       "      <td>7</td>\n",
       "      <td>gasoline</td>\n",
       "      <td>skoda</td>\n",
       "      <td>no</td>\n",
       "      <td>2016-03-31 00:00:00</td>\n",
       "      <td>0</td>\n",
       "      <td>60437</td>\n",
       "      <td>2016-04-06 10:17:21</td>\n",
       "    </tr>\n",
       "    <tr>\n",
       "      <th>5</th>\n",
       "      <td>2016-04-04 17:36:23</td>\n",
       "      <td>650</td>\n",
       "      <td>sedan</td>\n",
       "      <td>1995</td>\n",
       "      <td>manual</td>\n",
       "      <td>102</td>\n",
       "      <td>3er</td>\n",
       "      <td>150000</td>\n",
       "      <td>10</td>\n",
       "      <td>petrol</td>\n",
       "      <td>bmw</td>\n",
       "      <td>yes</td>\n",
       "      <td>2016-04-04 00:00:00</td>\n",
       "      <td>0</td>\n",
       "      <td>33775</td>\n",
       "      <td>2016-04-06 19:17:07</td>\n",
       "    </tr>\n",
       "    <tr>\n",
       "      <th>6</th>\n",
       "      <td>2016-04-01 20:48:51</td>\n",
       "      <td>2200</td>\n",
       "      <td>convertible</td>\n",
       "      <td>2004</td>\n",
       "      <td>manual</td>\n",
       "      <td>109</td>\n",
       "      <td>2_reihe</td>\n",
       "      <td>150000</td>\n",
       "      <td>8</td>\n",
       "      <td>petrol</td>\n",
       "      <td>peugeot</td>\n",
       "      <td>no</td>\n",
       "      <td>2016-04-01 00:00:00</td>\n",
       "      <td>0</td>\n",
       "      <td>67112</td>\n",
       "      <td>2016-04-05 18:18:39</td>\n",
       "    </tr>\n",
       "    <tr>\n",
       "      <th>7</th>\n",
       "      <td>2016-03-21 18:54:38</td>\n",
       "      <td>0</td>\n",
       "      <td>sedan</td>\n",
       "      <td>1980</td>\n",
       "      <td>manual</td>\n",
       "      <td>50</td>\n",
       "      <td>other</td>\n",
       "      <td>40000</td>\n",
       "      <td>7</td>\n",
       "      <td>petrol</td>\n",
       "      <td>volkswagen</td>\n",
       "      <td>no</td>\n",
       "      <td>2016-03-21 00:00:00</td>\n",
       "      <td>0</td>\n",
       "      <td>19348</td>\n",
       "      <td>2016-03-25 16:47:58</td>\n",
       "    </tr>\n",
       "    <tr>\n",
       "      <th>8</th>\n",
       "      <td>2016-04-04 23:42:13</td>\n",
       "      <td>14500</td>\n",
       "      <td>bus</td>\n",
       "      <td>2014</td>\n",
       "      <td>manual</td>\n",
       "      <td>125</td>\n",
       "      <td>c_max</td>\n",
       "      <td>30000</td>\n",
       "      <td>8</td>\n",
       "      <td>petrol</td>\n",
       "      <td>ford</td>\n",
       "      <td>NaN</td>\n",
       "      <td>2016-04-04 00:00:00</td>\n",
       "      <td>0</td>\n",
       "      <td>94505</td>\n",
       "      <td>2016-04-04 23:42:13</td>\n",
       "    </tr>\n",
       "    <tr>\n",
       "      <th>9</th>\n",
       "      <td>2016-03-17 10:53:50</td>\n",
       "      <td>999</td>\n",
       "      <td>small</td>\n",
       "      <td>1998</td>\n",
       "      <td>manual</td>\n",
       "      <td>101</td>\n",
       "      <td>golf</td>\n",
       "      <td>150000</td>\n",
       "      <td>0</td>\n",
       "      <td>NaN</td>\n",
       "      <td>volkswagen</td>\n",
       "      <td>NaN</td>\n",
       "      <td>2016-03-17 00:00:00</td>\n",
       "      <td>0</td>\n",
       "      <td>27472</td>\n",
       "      <td>2016-03-31 17:17:06</td>\n",
       "    </tr>\n",
       "  </tbody>\n",
       "</table>\n",
       "</div>"
      ],
      "text/plain": [
       "           DateCrawled  Price  VehicleType  RegistrationYear Gearbox  Power  \\\n",
       "0  2016-03-24 11:52:17    480          NaN              1993  manual      0   \n",
       "1  2016-03-24 10:58:45  18300        coupe              2011  manual    190   \n",
       "2  2016-03-14 12:52:21   9800          suv              2004    auto    163   \n",
       "3  2016-03-17 16:54:04   1500        small              2001  manual     75   \n",
       "4  2016-03-31 17:25:20   3600        small              2008  manual     69   \n",
       "5  2016-04-04 17:36:23    650        sedan              1995  manual    102   \n",
       "6  2016-04-01 20:48:51   2200  convertible              2004  manual    109   \n",
       "7  2016-03-21 18:54:38      0        sedan              1980  manual     50   \n",
       "8  2016-04-04 23:42:13  14500          bus              2014  manual    125   \n",
       "9  2016-03-17 10:53:50    999        small              1998  manual    101   \n",
       "\n",
       "     Model  Kilometer  RegistrationMonth  FuelType       Brand Repaired  \\\n",
       "0     golf     150000                  0    petrol  volkswagen      NaN   \n",
       "1      NaN     125000                  5  gasoline        audi      yes   \n",
       "2    grand     125000                  8  gasoline        jeep      NaN   \n",
       "3     golf     150000                  6    petrol  volkswagen       no   \n",
       "4    fabia      90000                  7  gasoline       skoda       no   \n",
       "5      3er     150000                 10    petrol         bmw      yes   \n",
       "6  2_reihe     150000                  8    petrol     peugeot       no   \n",
       "7    other      40000                  7    petrol  volkswagen       no   \n",
       "8    c_max      30000                  8    petrol        ford      NaN   \n",
       "9     golf     150000                  0       NaN  volkswagen      NaN   \n",
       "\n",
       "           DateCreated  NumberOfPictures  PostalCode             LastSeen  \n",
       "0  2016-03-24 00:00:00                 0       70435  2016-04-07 03:16:57  \n",
       "1  2016-03-24 00:00:00                 0       66954  2016-04-07 01:46:50  \n",
       "2  2016-03-14 00:00:00                 0       90480  2016-04-05 12:47:46  \n",
       "3  2016-03-17 00:00:00                 0       91074  2016-03-17 17:40:17  \n",
       "4  2016-03-31 00:00:00                 0       60437  2016-04-06 10:17:21  \n",
       "5  2016-04-04 00:00:00                 0       33775  2016-04-06 19:17:07  \n",
       "6  2016-04-01 00:00:00                 0       67112  2016-04-05 18:18:39  \n",
       "7  2016-03-21 00:00:00                 0       19348  2016-03-25 16:47:58  \n",
       "8  2016-04-04 00:00:00                 0       94505  2016-04-04 23:42:13  \n",
       "9  2016-03-17 00:00:00                 0       27472  2016-03-31 17:17:06  "
      ]
     },
     "execution_count": 3,
     "metadata": {},
     "output_type": "execute_result"
    }
   ],
   "source": [
    "data.head(10)"
   ]
  },
  {
   "cell_type": "code",
   "execution_count": 4,
   "metadata": {},
   "outputs": [
    {
     "name": "stdout",
     "output_type": "stream",
     "text": [
      "<class 'pandas.core.frame.DataFrame'>\n",
      "RangeIndex: 354369 entries, 0 to 354368\n",
      "Data columns (total 16 columns):\n",
      " #   Column             Non-Null Count   Dtype \n",
      "---  ------             --------------   ----- \n",
      " 0   DateCrawled        354369 non-null  object\n",
      " 1   Price              354369 non-null  int64 \n",
      " 2   VehicleType        316879 non-null  object\n",
      " 3   RegistrationYear   354369 non-null  int64 \n",
      " 4   Gearbox            334536 non-null  object\n",
      " 5   Power              354369 non-null  int64 \n",
      " 6   Model              334664 non-null  object\n",
      " 7   Kilometer          354369 non-null  int64 \n",
      " 8   RegistrationMonth  354369 non-null  int64 \n",
      " 9   FuelType           321474 non-null  object\n",
      " 10  Brand              354369 non-null  object\n",
      " 11  Repaired           283215 non-null  object\n",
      " 12  DateCreated        354369 non-null  object\n",
      " 13  NumberOfPictures   354369 non-null  int64 \n",
      " 14  PostalCode         354369 non-null  int64 \n",
      " 15  LastSeen           354369 non-null  object\n",
      "dtypes: int64(7), object(9)\n",
      "memory usage: 43.3+ MB\n"
     ]
    },
    {
     "data": {
      "text/plain": [
       "None"
      ]
     },
     "metadata": {},
     "output_type": "display_data"
    },
    {
     "data": {
      "text/html": [
       "<div>\n",
       "<style scoped>\n",
       "    .dataframe tbody tr th:only-of-type {\n",
       "        vertical-align: middle;\n",
       "    }\n",
       "\n",
       "    .dataframe tbody tr th {\n",
       "        vertical-align: top;\n",
       "    }\n",
       "\n",
       "    .dataframe thead th {\n",
       "        text-align: right;\n",
       "    }\n",
       "</style>\n",
       "<table border=\"1\" class=\"dataframe\">\n",
       "  <thead>\n",
       "    <tr style=\"text-align: right;\">\n",
       "      <th></th>\n",
       "      <th>Price</th>\n",
       "      <th>RegistrationYear</th>\n",
       "      <th>Power</th>\n",
       "      <th>Kilometer</th>\n",
       "      <th>RegistrationMonth</th>\n",
       "      <th>NumberOfPictures</th>\n",
       "      <th>PostalCode</th>\n",
       "    </tr>\n",
       "  </thead>\n",
       "  <tbody>\n",
       "    <tr>\n",
       "      <th>count</th>\n",
       "      <td>354369.000000</td>\n",
       "      <td>354369.000000</td>\n",
       "      <td>354369.000000</td>\n",
       "      <td>354369.000000</td>\n",
       "      <td>354369.000000</td>\n",
       "      <td>354369.0</td>\n",
       "      <td>354369.000000</td>\n",
       "    </tr>\n",
       "    <tr>\n",
       "      <th>mean</th>\n",
       "      <td>4416.656776</td>\n",
       "      <td>2004.234448</td>\n",
       "      <td>110.094337</td>\n",
       "      <td>128211.172535</td>\n",
       "      <td>5.714645</td>\n",
       "      <td>0.0</td>\n",
       "      <td>50508.689087</td>\n",
       "    </tr>\n",
       "    <tr>\n",
       "      <th>std</th>\n",
       "      <td>4514.158514</td>\n",
       "      <td>90.227958</td>\n",
       "      <td>189.850405</td>\n",
       "      <td>37905.341530</td>\n",
       "      <td>3.726421</td>\n",
       "      <td>0.0</td>\n",
       "      <td>25783.096248</td>\n",
       "    </tr>\n",
       "    <tr>\n",
       "      <th>min</th>\n",
       "      <td>0.000000</td>\n",
       "      <td>1000.000000</td>\n",
       "      <td>0.000000</td>\n",
       "      <td>5000.000000</td>\n",
       "      <td>0.000000</td>\n",
       "      <td>0.0</td>\n",
       "      <td>1067.000000</td>\n",
       "    </tr>\n",
       "    <tr>\n",
       "      <th>25%</th>\n",
       "      <td>1050.000000</td>\n",
       "      <td>1999.000000</td>\n",
       "      <td>69.000000</td>\n",
       "      <td>125000.000000</td>\n",
       "      <td>3.000000</td>\n",
       "      <td>0.0</td>\n",
       "      <td>30165.000000</td>\n",
       "    </tr>\n",
       "    <tr>\n",
       "      <th>50%</th>\n",
       "      <td>2700.000000</td>\n",
       "      <td>2003.000000</td>\n",
       "      <td>105.000000</td>\n",
       "      <td>150000.000000</td>\n",
       "      <td>6.000000</td>\n",
       "      <td>0.0</td>\n",
       "      <td>49413.000000</td>\n",
       "    </tr>\n",
       "    <tr>\n",
       "      <th>75%</th>\n",
       "      <td>6400.000000</td>\n",
       "      <td>2008.000000</td>\n",
       "      <td>143.000000</td>\n",
       "      <td>150000.000000</td>\n",
       "      <td>9.000000</td>\n",
       "      <td>0.0</td>\n",
       "      <td>71083.000000</td>\n",
       "    </tr>\n",
       "    <tr>\n",
       "      <th>max</th>\n",
       "      <td>20000.000000</td>\n",
       "      <td>9999.000000</td>\n",
       "      <td>20000.000000</td>\n",
       "      <td>150000.000000</td>\n",
       "      <td>12.000000</td>\n",
       "      <td>0.0</td>\n",
       "      <td>99998.000000</td>\n",
       "    </tr>\n",
       "  </tbody>\n",
       "</table>\n",
       "</div>"
      ],
      "text/plain": [
       "               Price  RegistrationYear          Power      Kilometer  \\\n",
       "count  354369.000000     354369.000000  354369.000000  354369.000000   \n",
       "mean     4416.656776       2004.234448     110.094337  128211.172535   \n",
       "std      4514.158514         90.227958     189.850405   37905.341530   \n",
       "min         0.000000       1000.000000       0.000000    5000.000000   \n",
       "25%      1050.000000       1999.000000      69.000000  125000.000000   \n",
       "50%      2700.000000       2003.000000     105.000000  150000.000000   \n",
       "75%      6400.000000       2008.000000     143.000000  150000.000000   \n",
       "max     20000.000000       9999.000000   20000.000000  150000.000000   \n",
       "\n",
       "       RegistrationMonth  NumberOfPictures     PostalCode  \n",
       "count      354369.000000          354369.0  354369.000000  \n",
       "mean            5.714645               0.0   50508.689087  \n",
       "std             3.726421               0.0   25783.096248  \n",
       "min             0.000000               0.0    1067.000000  \n",
       "25%             3.000000               0.0   30165.000000  \n",
       "50%             6.000000               0.0   49413.000000  \n",
       "75%             9.000000               0.0   71083.000000  \n",
       "max            12.000000               0.0   99998.000000  "
      ]
     },
     "metadata": {},
     "output_type": "display_data"
    }
   ],
   "source": [
    "display(data.info())\n",
    "display(data.describe())"
   ]
  },
  {
   "cell_type": "markdown",
   "metadata": {},
   "source": [
    "Посмотрим пропуски"
   ]
  },
  {
   "cell_type": "code",
   "execution_count": 5,
   "metadata": {},
   "outputs": [
    {
     "data": {
      "text/plain": [
       "DateCrawled              0\n",
       "Price                    0\n",
       "VehicleType          37490\n",
       "RegistrationYear         0\n",
       "Gearbox              19833\n",
       "Power                    0\n",
       "Model                19705\n",
       "Kilometer                0\n",
       "RegistrationMonth        0\n",
       "FuelType             32895\n",
       "Brand                    0\n",
       "Repaired             71154\n",
       "DateCreated              0\n",
       "NumberOfPictures         0\n",
       "PostalCode               0\n",
       "LastSeen                 0\n",
       "dtype: int64"
      ]
     },
     "execution_count": 5,
     "metadata": {},
     "output_type": "execute_result"
    }
   ],
   "source": [
    "data.isna().sum()"
   ]
  },
  {
   "cell_type": "markdown",
   "metadata": {},
   "source": [
    "Проверим на дубликаты, удалим"
   ]
  },
  {
   "cell_type": "code",
   "execution_count": 6,
   "metadata": {},
   "outputs": [
    {
     "data": {
      "text/plain": [
       "4"
      ]
     },
     "execution_count": 6,
     "metadata": {},
     "output_type": "execute_result"
    }
   ],
   "source": [
    "data.duplicated().sum()"
   ]
  },
  {
   "cell_type": "code",
   "execution_count": 7,
   "metadata": {},
   "outputs": [
    {
     "data": {
      "text/plain": [
       "0"
      ]
     },
     "execution_count": 7,
     "metadata": {},
     "output_type": "execute_result"
    }
   ],
   "source": [
    "data = data.drop_duplicates()\n",
    "data.duplicated().sum()"
   ]
  },
  {
   "cell_type": "markdown",
   "metadata": {},
   "source": [
    "Есть пропуски в данных. VehicleType, Gearbox,  Model, FuelType,  Repaired. Все эти данные для модели важны. Эти пропуски необходимо обработать. С нулевыми значениями NumberOfPictures столбец не нужен. Данные PostalCode — почтовый индекс владельца анкеты (пользователя), LastSeen — дата последней активности пользователя, RegistrationMonth — месяц регистрации автомобиля, DateCrawled — дата скачивания анкеты из базы - для задачи не потребуются."
   ]
  },
  {
   "cell_type": "markdown",
   "metadata": {},
   "source": [
    "Итак, оставим только необходимые для модели колонки. "
   ]
  },
  {
   "cell_type": "code",
   "execution_count": 8,
   "metadata": {},
   "outputs": [
    {
     "name": "stdout",
     "output_type": "stream",
     "text": [
      "<class 'pandas.core.frame.DataFrame'>\n",
      "Int64Index: 354365 entries, 0 to 354368\n",
      "Data columns (total 10 columns):\n",
      " #   Column            Non-Null Count   Dtype \n",
      "---  ------            --------------   ----- \n",
      " 0   VehicleType       316875 non-null  object\n",
      " 1   Gearbox           334532 non-null  object\n",
      " 2   Power             354365 non-null  int64 \n",
      " 3   Kilometer         354365 non-null  int64 \n",
      " 4   FuelType          321470 non-null  object\n",
      " 5   Brand             354365 non-null  object\n",
      " 6   Repaired          283211 non-null  object\n",
      " 7   RegistrationYear  354365 non-null  int64 \n",
      " 8   Model             334660 non-null  object\n",
      " 9   Price             354365 non-null  int64 \n",
      "dtypes: int64(4), object(6)\n",
      "memory usage: 29.7+ MB\n"
     ]
    }
   ],
   "source": [
    "data_new = data[['VehicleType','Gearbox', 'Power','Kilometer','FuelType','Brand','Repaired','RegistrationYear','Model','Price']]\n",
    "data_new.info()"
   ]
  },
  {
   "cell_type": "markdown",
   "metadata": {},
   "source": [
    "Необходимо обработать:\n",
    "\n",
    "- Gearbox. Для всех пропусков установим популяный ручной.\n",
    "- Repaired. Тут пропуски нужно заменить 'no'.\n",
    "- Model. Можно установить неизвестное значение."
   ]
  },
  {
   "cell_type": "code",
   "execution_count": 10,
   "metadata": {},
   "outputs": [
    {
     "data": {
      "text/plain": [
       "VehicleType         0.105795\n",
       "Gearbox             0.000000\n",
       "Power               0.000000\n",
       "Kilometer           0.000000\n",
       "FuelType            0.092828\n",
       "Brand               0.000000\n",
       "Repaired            0.000000\n",
       "RegistrationYear    0.000000\n",
       "Model               0.000000\n",
       "Price               0.000000\n",
       "dtype: float64"
      ]
     },
     "execution_count": 10,
     "metadata": {},
     "output_type": "execute_result"
    }
   ],
   "source": [
    "data_new.fillna({'Gearbox':'manual','Repaired':'no','Model':'unknown'}, inplace=True)\n",
    "pd.options.mode.chained_assignment = None\n",
    "data_new.isna().mean()"
   ]
  },
  {
   "cell_type": "markdown",
   "metadata": {},
   "source": [
    "- VehicleType. Можно взять из столбца Brand по модели по популярности.\n",
    "- FuelType. Можно взять из столбца Brand по модели по популярности."
   ]
  },
  {
   "cell_type": "code",
   "execution_count": 11,
   "metadata": {},
   "outputs": [
    {
     "data": {
      "text/plain": [
       "VehicleType         0\n",
       "Gearbox             0\n",
       "Power               0\n",
       "Kilometer           0\n",
       "FuelType            0\n",
       "Brand               0\n",
       "Repaired            0\n",
       "RegistrationYear    0\n",
       "Model               0\n",
       "Price               0\n",
       "dtype: int64"
      ]
     },
     "execution_count": 11,
     "metadata": {},
     "output_type": "execute_result"
    }
   ],
   "source": [
    "# заполнение пропусков по столбщаем \n",
    "data_new['VehicleType'] = (data_new.groupby(['Brand', 'Model'])['VehicleType'].transform(lambda x: x.fillna(value=(x.mode()[0] if not x.mode().empty else \"unknown\"))))\n",
    "data_new['FuelType'] = (data_new.groupby(['Brand', 'Model'])['FuelType'].transform(lambda x: x.fillna(value=(x.mode()[0] if not x.mode().empty else \"unknown\"))))\n",
    "data_new.isnull().sum()"
   ]
  },
  {
   "cell_type": "markdown",
   "metadata": {},
   "source": [
    "Проверим данные на выбросы и аномальные значения по количественным признакам"
   ]
  },
  {
   "cell_type": "code",
   "execution_count": 12,
   "metadata": {},
   "outputs": [
    {
     "data": {
      "text/html": [
       "<div>\n",
       "<style scoped>\n",
       "    .dataframe tbody tr th:only-of-type {\n",
       "        vertical-align: middle;\n",
       "    }\n",
       "\n",
       "    .dataframe tbody tr th {\n",
       "        vertical-align: top;\n",
       "    }\n",
       "\n",
       "    .dataframe thead th {\n",
       "        text-align: right;\n",
       "    }\n",
       "</style>\n",
       "<table border=\"1\" class=\"dataframe\">\n",
       "  <thead>\n",
       "    <tr style=\"text-align: right;\">\n",
       "      <th></th>\n",
       "      <th>Power</th>\n",
       "      <th>Kilometer</th>\n",
       "      <th>RegistrationYear</th>\n",
       "      <th>Price</th>\n",
       "    </tr>\n",
       "  </thead>\n",
       "  <tbody>\n",
       "    <tr>\n",
       "      <th>count</th>\n",
       "      <td>354365.000000</td>\n",
       "      <td>354365.000000</td>\n",
       "      <td>354365.000000</td>\n",
       "      <td>354365.000000</td>\n",
       "    </tr>\n",
       "    <tr>\n",
       "      <th>mean</th>\n",
       "      <td>110.093816</td>\n",
       "      <td>128211.363989</td>\n",
       "      <td>2004.234481</td>\n",
       "      <td>4416.679830</td>\n",
       "    </tr>\n",
       "    <tr>\n",
       "      <th>std</th>\n",
       "      <td>189.851330</td>\n",
       "      <td>37905.083858</td>\n",
       "      <td>90.228466</td>\n",
       "      <td>4514.176349</td>\n",
       "    </tr>\n",
       "    <tr>\n",
       "      <th>min</th>\n",
       "      <td>0.000000</td>\n",
       "      <td>5000.000000</td>\n",
       "      <td>1000.000000</td>\n",
       "      <td>0.000000</td>\n",
       "    </tr>\n",
       "    <tr>\n",
       "      <th>25%</th>\n",
       "      <td>69.000000</td>\n",
       "      <td>125000.000000</td>\n",
       "      <td>1999.000000</td>\n",
       "      <td>1050.000000</td>\n",
       "    </tr>\n",
       "    <tr>\n",
       "      <th>50%</th>\n",
       "      <td>105.000000</td>\n",
       "      <td>150000.000000</td>\n",
       "      <td>2003.000000</td>\n",
       "      <td>2700.000000</td>\n",
       "    </tr>\n",
       "    <tr>\n",
       "      <th>75%</th>\n",
       "      <td>143.000000</td>\n",
       "      <td>150000.000000</td>\n",
       "      <td>2008.000000</td>\n",
       "      <td>6400.000000</td>\n",
       "    </tr>\n",
       "    <tr>\n",
       "      <th>max</th>\n",
       "      <td>20000.000000</td>\n",
       "      <td>150000.000000</td>\n",
       "      <td>9999.000000</td>\n",
       "      <td>20000.000000</td>\n",
       "    </tr>\n",
       "  </tbody>\n",
       "</table>\n",
       "</div>"
      ],
      "text/plain": [
       "               Power      Kilometer  RegistrationYear          Price\n",
       "count  354365.000000  354365.000000     354365.000000  354365.000000\n",
       "mean      110.093816  128211.363989       2004.234481    4416.679830\n",
       "std       189.851330   37905.083858         90.228466    4514.176349\n",
       "min         0.000000    5000.000000       1000.000000       0.000000\n",
       "25%        69.000000  125000.000000       1999.000000    1050.000000\n",
       "50%       105.000000  150000.000000       2003.000000    2700.000000\n",
       "75%       143.000000  150000.000000       2008.000000    6400.000000\n",
       "max     20000.000000  150000.000000       9999.000000   20000.000000"
      ]
     },
     "metadata": {},
     "output_type": "display_data"
    }
   ],
   "source": [
    "display(data_new.describe())"
   ]
  },
  {
   "cell_type": "code",
   "execution_count": 13,
   "metadata": {},
   "outputs": [
    {
     "data": {
      "text/plain": [
       "0        40225\n",
       "75       24023\n",
       "60       15897\n",
       "150      14590\n",
       "101      13298\n",
       "         ...  \n",
       "323          1\n",
       "3454         1\n",
       "1056         1\n",
       "13636        1\n",
       "1158         1\n",
       "Name: Power, Length: 712, dtype: int64"
      ]
     },
     "metadata": {},
     "output_type": "display_data"
    },
    {
     "data": {
      "text/plain": [
       "0        10772\n",
       "500       5670\n",
       "1500      5394\n",
       "1000      4648\n",
       "1200      4594\n",
       "         ...  \n",
       "13180        1\n",
       "10879        1\n",
       "2683         1\n",
       "634          1\n",
       "8188         1\n",
       "Name: Price, Length: 3731, dtype: int64"
      ]
     },
     "metadata": {},
     "output_type": "display_data"
    },
    {
     "data": {
      "text/plain": [
       "2000    24490\n",
       "1999    22727\n",
       "2005    22109\n",
       "2001    20123\n",
       "2006    19900\n",
       "        ...  \n",
       "4100        1\n",
       "1200        1\n",
       "5300        1\n",
       "8888        1\n",
       "2290        1\n",
       "Name: RegistrationYear, Length: 151, dtype: int64"
      ]
     },
     "metadata": {},
     "output_type": "display_data"
    }
   ],
   "source": [
    "display(data_new['Power'].value_counts())\n",
    "display(data_new['Price'].value_counts())\n",
    "display(data_new['RegistrationYear'].value_counts())"
   ]
  },
  {
   "cell_type": "markdown",
   "metadata": {},
   "source": [
    "В данных есть аномалии:\n",
    "\n",
    "- В столбце RegistrationYear год регистрации не может быть больше 2020, и не может быть меньше 1930.\n",
    "- В Power присутствуют аномальные высокие значения - 20 000 лс.\n",
    "- Значения из столбца Price обладают высоким стандартным отклонениям. Нужно смотреть выбросы.\n"
   ]
  },
  {
   "cell_type": "markdown",
   "metadata": {},
   "source": [
    "Есть 0 значения, которых быть не должно в данных Price и Power. "
   ]
  },
  {
   "cell_type": "code",
   "execution_count": 14,
   "metadata": {},
   "outputs": [],
   "source": [
    "data_new = data_new[data_new['Price'] != 0]\n",
    "data_new = data_new[data_new['Power'] != 0]"
   ]
  },
  {
   "cell_type": "markdown",
   "metadata": {},
   "source": [
    "Для начала важные данные по году регистрации авто. Столбец RegistrationYear. Посмотрим уникальные и приведем к актуальным и возможным границам."
   ]
  },
  {
   "cell_type": "code",
   "execution_count": 15,
   "metadata": {},
   "outputs": [
    {
     "data": {
      "text/plain": [
       "array([2011, 2004, 2001, 2008, 1995, 2014, 1998, 2005, 2016, 2007, 2009,\n",
       "       2002, 2018, 1997, 1990, 2017, 1981, 2003, 1991, 1984, 2006, 1999,\n",
       "       2012, 1994, 2010, 2000, 1992, 2013, 1996, 1989, 2015, 1993, 1985,\n",
       "       1982, 1983, 1973, 1969, 1971, 1987, 1988, 1980, 1970, 1986, 1976,\n",
       "       1965, 1945, 1974, 1955, 1978, 1979, 1972, 1977, 1961, 1975, 1968,\n",
       "       1963, 1966, 1964, 1958, 1959, 1956, 1941, 1960, 1500, 1962, 1929,\n",
       "       1957, 1910, 1940, 1967, 1949, 1937, 1800, 1953, 2019, 1954, 1234,\n",
       "       2900, 6000, 5911, 1400, 5000, 4000, 8000, 1932, 1951, 1952, 1950,\n",
       "       4800, 1942, 1935, 6500, 1923, 1000, 1930, 9999, 1943, 1938, 1936,\n",
       "       1928, 3000, 2800, 1931, 1948, 4500, 1927, 1933, 8200, 1947, 1944,\n",
       "       1600])"
      ]
     },
     "execution_count": 15,
     "metadata": {},
     "output_type": "execute_result"
    }
   ],
   "source": [
    "data_new['RegistrationYear'].unique()"
   ]
  },
  {
   "cell_type": "markdown",
   "metadata": {},
   "source": [
    "В целом, год в данных столбца не может быть больше 2019, и не может быть меньше 1930. "
   ]
  },
  {
   "cell_type": "code",
   "execution_count": 16,
   "metadata": {},
   "outputs": [
    {
     "data": {
      "text/plain": [
       "count    290484.000000\n",
       "mean       2002.528422\n",
       "std           6.298113\n",
       "min        1931.000000\n",
       "25%        1999.000000\n",
       "50%        2003.000000\n",
       "75%        2007.000000\n",
       "max        2015.000000\n",
       "Name: RegistrationYear, dtype: float64"
      ]
     },
     "execution_count": 16,
     "metadata": {},
     "output_type": "execute_result"
    }
   ],
   "source": [
    "data_new = data_new.query('1930 < RegistrationYear < 2016')\n",
    "data_new['RegistrationYear'].describe()"
   ]
  },
  {
   "cell_type": "markdown",
   "metadata": {},
   "source": [
    "Далее изучим цены. Создадим базовую гистограмму по столбцу цен."
   ]
  },
  {
   "cell_type": "code",
   "execution_count": 17,
   "metadata": {},
   "outputs": [
    {
     "data": {
      "text/plain": [
       "<AxesSubplot:>"
      ]
     },
     "execution_count": 17,
     "metadata": {},
     "output_type": "execute_result"
    },
    {
     "data": {
      "image/png": "[encoded data removed]",
      "text/plain": [
       "<Figure size 864x648 with 1 Axes>"
      ]
     },
     "metadata": {
      "needs_background": "light"
     },
     "output_type": "display_data"
    }
   ],
   "source": [
    "data_new['Price'].hist(bins=100, figsize=(12,9))"
   ]
  },
  {
   "cell_type": "markdown",
   "metadata": {},
   "source": [
    "Посмотрим на разбросы"
   ]
  },
  {
   "cell_type": "code",
   "execution_count": 18,
   "metadata": {},
   "outputs": [
    {
     "data": {
      "image/png": "[encoded data removed]",
      "text/plain": [
       "<Figure size 432x288 with 1 Axes>"
      ]
     },
     "metadata": {
      "needs_background": "light"
     },
     "output_type": "display_data"
    }
   ],
   "source": [
    "data_new['Price'].plot(kind='box', title='Цена', grid= True)\n",
    "plt.show()"
   ]
  },
  {
   "cell_type": "markdown",
   "metadata": {},
   "source": [
    "По адекватности цен и большим разбросам после 7 000 установим квантили (5 и 75%)"
   ]
  },
  {
   "cell_type": "code",
   "execution_count": 19,
   "metadata": {},
   "outputs": [
    {
     "data": {
      "text/plain": [
       "0.05     450.0\n",
       "0.75    7000.0\n",
       "Name: Price, dtype: float64"
      ]
     },
     "execution_count": 19,
     "metadata": {},
     "output_type": "execute_result"
    }
   ],
   "source": [
    "data_new['Price'].quantile([.05, 0.75])"
   ]
  },
  {
   "cell_type": "code",
   "execution_count": 20,
   "metadata": {},
   "outputs": [],
   "source": [
    "data_new = data_new.query('450 <= Price <= 7000')"
   ]
  },
  {
   "cell_type": "markdown",
   "metadata": {},
   "source": [
    "Power — мощность (л. с.) - это также важные данные для обучения. Построим гистограмму по столбцу."
   ]
  },
  {
   "cell_type": "code",
   "execution_count": 21,
   "metadata": {},
   "outputs": [
    {
     "data": {
      "text/plain": [
       "count    205074.000000\n",
       "mean        113.423447\n",
       "std         190.090321\n",
       "min           1.000000\n",
       "25%          75.000000\n",
       "50%         103.000000\n",
       "75%         136.000000\n",
       "max       20000.000000\n",
       "Name: Power, dtype: float64"
      ]
     },
     "execution_count": 21,
     "metadata": {},
     "output_type": "execute_result"
    },
    {
     "data": {
      "image/png": "[encoded data removed]",
      "text/plain": [
       "<Figure size 720x576 with 1 Axes>"
      ]
     },
     "metadata": {
      "needs_background": "light"
     },
     "output_type": "display_data"
    }
   ],
   "source": [
    "data_new['Power'].hist(bins=100, figsize=(10,8))\n",
    "data_new['Power'].describe()"
   ]
  },
  {
   "cell_type": "code",
   "execution_count": 22,
   "metadata": {},
   "outputs": [
    {
     "data": {
      "image/png": "[encoded data removed]",
      "text/plain": [
       "<Figure size 432x288 with 1 Axes>"
      ]
     },
     "metadata": {
      "needs_background": "light"
     },
     "output_type": "display_data"
    }
   ],
   "source": [
    "data_new['Power'].plot(kind='box', grid= True)\n",
    "plt.show()"
   ]
  },
  {
   "cell_type": "markdown",
   "metadata": {},
   "source": [
    "В данных много выбросов, удалим все что больше 400 л.с."
   ]
  },
  {
   "cell_type": "code",
   "execution_count": 23,
   "metadata": {},
   "outputs": [
    {
     "data": {
      "text/plain": [
       "count    197631.000000\n",
       "mean        111.893165\n",
       "std          42.845956\n",
       "min          51.000000\n",
       "25%          75.000000\n",
       "50%         105.000000\n",
       "75%         136.000000\n",
       "max         399.000000\n",
       "Name: Power, dtype: float64"
      ]
     },
     "execution_count": 23,
     "metadata": {},
     "output_type": "execute_result"
    }
   ],
   "source": [
    "data_new = data_new.query('50 < Power < 400')\n",
    "data_new['Power'].describe()"
   ]
  },
  {
   "cell_type": "markdown",
   "metadata": {},
   "source": [
    "Итак, еще необходимо посмотреть на корреляцию."
   ]
  },
  {
   "cell_type": "code",
   "execution_count": 24,
   "metadata": {},
   "outputs": [
    {
     "data": {
      "text/plain": [
       "<AxesSubplot:>"
      ]
     },
     "execution_count": 24,
     "metadata": {},
     "output_type": "execute_result"
    },
    {
     "data": {
      "image/png": "[encoded data removed]",
      "text/plain": [
       "<Figure size 432x288 with 2 Axes>"
      ]
     },
     "metadata": {
      "needs_background": "light"
     },
     "output_type": "display_data"
    }
   ],
   "source": [
    "corr = data_new.corr()\n",
    "sns.heatmap(corr)"
   ]
  },
  {
   "cell_type": "markdown",
   "metadata": {},
   "source": [
    "Корелляция в пределах нормы."
   ]
  },
  {
   "cell_type": "markdown",
   "metadata": {},
   "source": [
    "Подготовим выборки для обучения моделей."
   ]
  },
  {
   "cell_type": "markdown",
   "metadata": {},
   "source": [
    "Определим признаки и разделим на тестовою и обучающую выборки."
   ]
  },
  {
   "cell_type": "code",
   "execution_count": 25,
   "metadata": {},
   "outputs": [],
   "source": [
    "features = data_new.drop('Price', axis=1)\n",
    "target = data_new['Price']\n",
    "features_train, features_test, target_train, target_test = train_test_split(features, target, test_size=0.25, random_state=12345)"
   ]
  },
  {
   "cell_type": "code",
   "execution_count": 26,
   "metadata": {
    "scrolled": true
   },
   "outputs": [
    {
     "name": "stdout",
     "output_type": "stream",
     "text": [
      "(148223, 9)\n",
      "(49408, 9)\n",
      "(148223,)\n",
      "(49408,)\n"
     ]
    }
   ],
   "source": [
    "print(features_train.shape)\n",
    "print(features_test.shape)\n",
    "print(target_train.shape)\n",
    "print(target_test.shape)"
   ]
  },
  {
   "cell_type": "code",
   "execution_count": 27,
   "metadata": {},
   "outputs": [
    {
     "name": "stdout",
     "output_type": "stream",
     "text": [
      "Requirement already satisfied: scikit-learn in /opt/conda/lib/python3.9/site-packages (1.2.1)\n",
      "Requirement already satisfied: joblib>=1.1.1 in /opt/conda/lib/python3.9/site-packages (from scikit-learn) (1.2.0)\n",
      "Requirement already satisfied: scipy>=1.3.2 in /opt/conda/lib/python3.9/site-packages (from scikit-learn) (1.9.1)\n",
      "Requirement already satisfied: numpy>=1.17.3 in /opt/conda/lib/python3.9/site-packages (from scikit-learn) (1.21.1)\n",
      "Requirement already satisfied: threadpoolctl>=2.0.0 in /opt/conda/lib/python3.9/site-packages (from scikit-learn) (3.1.0)\n"
     ]
    }
   ],
   "source": [
    "!pip install -U scikit-learn"
   ]
  },
  {
   "cell_type": "code",
   "execution_count": 28,
   "metadata": {},
   "outputs": [
    {
     "name": "stdout",
     "output_type": "stream",
     "text": [
      "['VehicleType', 'Gearbox', 'FuelType', 'Brand', 'Repaired', 'Model']\n"
     ]
    }
   ],
   "source": [
    "# категориальные признаки для OHE \n",
    "ohe_features = features_train.select_dtypes(include='object').columns.to_list()\n",
    "print(ohe_features)"
   ]
  },
  {
   "cell_type": "code",
   "execution_count": 29,
   "metadata": {},
   "outputs": [],
   "source": [
    "encoder_ohe = OneHotEncoder(drop='first', handle_unknown='ignore', sparse=False)"
   ]
  },
  {
   "cell_type": "code",
   "execution_count": 30,
   "metadata": {},
   "outputs": [
    {
     "name": "stderr",
     "output_type": "stream",
     "text": [
      "/opt/conda/lib/python3.9/site-packages/sklearn/preprocessing/_encoders.py:828: FutureWarning: `sparse` was renamed to `sparse_output` in version 1.2 and will be removed in 1.4. `sparse_output` is ignored unless you leave `sparse` to its default value.\n",
      "  warnings.warn(\n"
     ]
    },
    {
     "data": {
      "text/html": [
       "<style>#sk-container-id-1 {color: black;background-color: white;}#sk-container-id-1 pre{padding: 0;}#sk-container-id-1 div.sk-toggleable {background-color: white;}#sk-container-id-1 label.sk-toggleable__label {cursor: pointer;display: block;width: 100%;margin-bottom: 0;padding: 0.3em;box-sizing: border-box;text-align: center;}#sk-container-id-1 label.sk-toggleable__label-arrow:before {content: \"▸\";float: left;margin-right: 0.25em;color: #696969;}#sk-container-id-1 label.sk-toggleable__label-arrow:hover:before {color: black;}#sk-container-id-1 div.sk-estimator:hover label.sk-toggleable__label-arrow:before {color: black;}#sk-container-id-1 div.sk-toggleable__content {max-height: 0;max-width: 0;overflow: hidden;text-align: left;background-color: #f0f8ff;}#sk-container-id-1 div.sk-toggleable__content pre {margin: 0.2em;color: black;border-radius: 0.25em;background-color: #f0f8ff;}#sk-container-id-1 input.sk-toggleable__control:checked~div.sk-toggleable__content {max-height: 200px;max-width: 100%;overflow: auto;}#sk-container-id-1 input.sk-toggleable__control:checked~label.sk-toggleable__label-arrow:before {content: \"▾\";}#sk-container-id-1 div.sk-estimator input.sk-toggleable__control:checked~label.sk-toggleable__label {background-color: #d4ebff;}#sk-container-id-1 div.sk-label input.sk-toggleable__control:checked~label.sk-toggleable__label {background-color: #d4ebff;}#sk-container-id-1 input.sk-hidden--visually {border: 0;clip: rect(1px 1px 1px 1px);clip: rect(1px, 1px, 1px, 1px);height: 1px;margin: -1px;overflow: hidden;padding: 0;position: absolute;width: 1px;}#sk-container-id-1 div.sk-estimator {font-family: monospace;background-color: #f0f8ff;border: 1px dotted black;border-radius: 0.25em;box-sizing: border-box;margin-bottom: 0.5em;}#sk-container-id-1 div.sk-estimator:hover {background-color: #d4ebff;}#sk-container-id-1 div.sk-parallel-item::after {content: \"\";width: 100%;border-bottom: 1px solid gray;flex-grow: 1;}#sk-container-id-1 div.sk-label:hover label.sk-toggleable__label {background-color: #d4ebff;}#sk-container-id-1 div.sk-serial::before {content: \"\";position: absolute;border-left: 1px solid gray;box-sizing: border-box;top: 0;bottom: 0;left: 50%;z-index: 0;}#sk-container-id-1 div.sk-serial {display: flex;flex-direction: column;align-items: center;background-color: white;padding-right: 0.2em;padding-left: 0.2em;position: relative;}#sk-container-id-1 div.sk-item {position: relative;z-index: 1;}#sk-container-id-1 div.sk-parallel {display: flex;align-items: stretch;justify-content: center;background-color: white;position: relative;}#sk-container-id-1 div.sk-item::before, #sk-container-id-1 div.sk-parallel-item::before {content: \"\";position: absolute;border-left: 1px solid gray;box-sizing: border-box;top: 0;bottom: 0;left: 50%;z-index: -1;}#sk-container-id-1 div.sk-parallel-item {display: flex;flex-direction: column;z-index: 1;position: relative;background-color: white;}#sk-container-id-1 div.sk-parallel-item:first-child::after {align-self: flex-end;width: 50%;}#sk-container-id-1 div.sk-parallel-item:last-child::after {align-self: flex-start;width: 50%;}#sk-container-id-1 div.sk-parallel-item:only-child::after {width: 0;}#sk-container-id-1 div.sk-dashed-wrapped {border: 1px dashed gray;margin: 0 0.4em 0.5em 0.4em;box-sizing: border-box;padding-bottom: 0.4em;background-color: white;}#sk-container-id-1 div.sk-label label {font-family: monospace;font-weight: bold;display: inline-block;line-height: 1.2em;}#sk-container-id-1 div.sk-label-container {text-align: center;}#sk-container-id-1 div.sk-container {/* jupyter's `normalize.less` sets `[hidden] { display: none; }` but bootstrap.min.css set `[hidden] { display: none !important; }` so we also need the `!important` here to be able to override the default hidden behavior on the sphinx rendered scikit-learn.org. See: https://github.com/scikit-learn/scikit-learn/issues/21755 */display: inline-block !important;position: relative;}#sk-container-id-1 div.sk-text-repr-fallback {display: none;}</style><div id=\"sk-container-id-1\" class=\"sk-top-container\"><div class=\"sk-text-repr-fallback\"><pre>OneHotEncoder(drop=&#x27;first&#x27;, handle_unknown=&#x27;ignore&#x27;, sparse=False,\n",
       "              sparse_output=False)</pre><b>In a Jupyter environment, please rerun this cell to show the HTML representation or trust the notebook. <br />On GitHub, the HTML representation is unable to render, please try loading this page with nbviewer.org.</b></div><div class=\"sk-container\" hidden><div class=\"sk-item\"><div class=\"sk-estimator sk-toggleable\"><input class=\"sk-toggleable__control sk-hidden--visually\" id=\"sk-estimator-id-1\" type=\"checkbox\" checked><label for=\"sk-estimator-id-1\" class=\"sk-toggleable__label sk-toggleable__label-arrow\">OneHotEncoder</label><div class=\"sk-toggleable__content\"><pre>OneHotEncoder(drop=&#x27;first&#x27;, handle_unknown=&#x27;ignore&#x27;, sparse=False,\n",
       "              sparse_output=False)</pre></div></div></div></div></div>"
      ],
      "text/plain": [
       "OneHotEncoder(drop='first', handle_unknown='ignore', sparse=False,\n",
       "              sparse_output=False)"
      ]
     },
     "execution_count": 30,
     "metadata": {},
     "output_type": "execute_result"
    }
   ],
   "source": [
    "encoder_ohe.fit(features_train[ohe_features])"
   ]
  },
  {
   "cell_type": "code",
   "execution_count": 31,
   "metadata": {},
   "outputs": [],
   "source": [
    "features_train[\n",
    "    encoder_ohe.get_feature_names_out()\n",
    "] = encoder_ohe.transform(features_train[ohe_features])"
   ]
  },
  {
   "cell_type": "code",
   "execution_count": 32,
   "metadata": {},
   "outputs": [],
   "source": [
    "features_train = features_train.drop(ohe_features, axis=1)"
   ]
  },
  {
   "cell_type": "code",
   "execution_count": 33,
   "metadata": {},
   "outputs": [],
   "source": [
    "scaler = StandardScaler()"
   ]
  },
  {
   "cell_type": "code",
   "execution_count": 36,
   "metadata": {},
   "outputs": [
    {
     "data": {
      "text/html": [
       "<div>\n",
       "<style scoped>\n",
       "    .dataframe tbody tr th:only-of-type {\n",
       "        vertical-align: middle;\n",
       "    }\n",
       "\n",
       "    .dataframe tbody tr th {\n",
       "        vertical-align: top;\n",
       "    }\n",
       "\n",
       "    .dataframe thead th {\n",
       "        text-align: right;\n",
       "    }\n",
       "</style>\n",
       "<table border=\"1\" class=\"dataframe\">\n",
       "  <thead>\n",
       "    <tr style=\"text-align: right;\">\n",
       "      <th></th>\n",
       "      <th>Power</th>\n",
       "      <th>Kilometer</th>\n",
       "      <th>RegistrationYear</th>\n",
       "      <th>VehicleType_convertible</th>\n",
       "      <th>VehicleType_coupe</th>\n",
       "      <th>VehicleType_other</th>\n",
       "      <th>VehicleType_sedan</th>\n",
       "      <th>VehicleType_small</th>\n",
       "      <th>VehicleType_suv</th>\n",
       "      <th>VehicleType_wagon</th>\n",
       "      <th>...</th>\n",
       "      <th>Model_wrangler</th>\n",
       "      <th>Model_x_reihe</th>\n",
       "      <th>Model_x_trail</th>\n",
       "      <th>Model_x_type</th>\n",
       "      <th>Model_xc_reihe</th>\n",
       "      <th>Model_yaris</th>\n",
       "      <th>Model_yeti</th>\n",
       "      <th>Model_ypsilon</th>\n",
       "      <th>Model_z_reihe</th>\n",
       "      <th>Model_zafira</th>\n",
       "    </tr>\n",
       "  </thead>\n",
       "  <tbody>\n",
       "    <tr>\n",
       "      <th>309934</th>\n",
       "      <td>75</td>\n",
       "      <td>80000</td>\n",
       "      <td>2008</td>\n",
       "      <td>0.0</td>\n",
       "      <td>0.0</td>\n",
       "      <td>0.0</td>\n",
       "      <td>0.0</td>\n",
       "      <td>1.0</td>\n",
       "      <td>0.0</td>\n",
       "      <td>0.0</td>\n",
       "      <td>...</td>\n",
       "      <td>0.0</td>\n",
       "      <td>0.0</td>\n",
       "      <td>0.0</td>\n",
       "      <td>0.0</td>\n",
       "      <td>0.0</td>\n",
       "      <td>0.0</td>\n",
       "      <td>0.0</td>\n",
       "      <td>0.0</td>\n",
       "      <td>0.0</td>\n",
       "      <td>0.0</td>\n",
       "    </tr>\n",
       "    <tr>\n",
       "      <th>333502</th>\n",
       "      <td>125</td>\n",
       "      <td>150000</td>\n",
       "      <td>1996</td>\n",
       "      <td>0.0</td>\n",
       "      <td>0.0</td>\n",
       "      <td>0.0</td>\n",
       "      <td>0.0</td>\n",
       "      <td>0.0</td>\n",
       "      <td>1.0</td>\n",
       "      <td>0.0</td>\n",
       "      <td>...</td>\n",
       "      <td>0.0</td>\n",
       "      <td>0.0</td>\n",
       "      <td>0.0</td>\n",
       "      <td>0.0</td>\n",
       "      <td>0.0</td>\n",
       "      <td>0.0</td>\n",
       "      <td>0.0</td>\n",
       "      <td>0.0</td>\n",
       "      <td>0.0</td>\n",
       "      <td>0.0</td>\n",
       "    </tr>\n",
       "    <tr>\n",
       "      <th>254352</th>\n",
       "      <td>163</td>\n",
       "      <td>150000</td>\n",
       "      <td>2000</td>\n",
       "      <td>0.0</td>\n",
       "      <td>1.0</td>\n",
       "      <td>0.0</td>\n",
       "      <td>0.0</td>\n",
       "      <td>0.0</td>\n",
       "      <td>0.0</td>\n",
       "      <td>0.0</td>\n",
       "      <td>...</td>\n",
       "      <td>0.0</td>\n",
       "      <td>0.0</td>\n",
       "      <td>0.0</td>\n",
       "      <td>0.0</td>\n",
       "      <td>0.0</td>\n",
       "      <td>0.0</td>\n",
       "      <td>0.0</td>\n",
       "      <td>0.0</td>\n",
       "      <td>0.0</td>\n",
       "      <td>0.0</td>\n",
       "    </tr>\n",
       "    <tr>\n",
       "      <th>180238</th>\n",
       "      <td>231</td>\n",
       "      <td>150000</td>\n",
       "      <td>2000</td>\n",
       "      <td>0.0</td>\n",
       "      <td>1.0</td>\n",
       "      <td>0.0</td>\n",
       "      <td>0.0</td>\n",
       "      <td>0.0</td>\n",
       "      <td>0.0</td>\n",
       "      <td>0.0</td>\n",
       "      <td>...</td>\n",
       "      <td>0.0</td>\n",
       "      <td>0.0</td>\n",
       "      <td>0.0</td>\n",
       "      <td>0.0</td>\n",
       "      <td>0.0</td>\n",
       "      <td>0.0</td>\n",
       "      <td>0.0</td>\n",
       "      <td>0.0</td>\n",
       "      <td>0.0</td>\n",
       "      <td>0.0</td>\n",
       "    </tr>\n",
       "    <tr>\n",
       "      <th>61271</th>\n",
       "      <td>102</td>\n",
       "      <td>150000</td>\n",
       "      <td>2008</td>\n",
       "      <td>0.0</td>\n",
       "      <td>0.0</td>\n",
       "      <td>0.0</td>\n",
       "      <td>0.0</td>\n",
       "      <td>0.0</td>\n",
       "      <td>0.0</td>\n",
       "      <td>0.0</td>\n",
       "      <td>...</td>\n",
       "      <td>0.0</td>\n",
       "      <td>0.0</td>\n",
       "      <td>0.0</td>\n",
       "      <td>0.0</td>\n",
       "      <td>0.0</td>\n",
       "      <td>0.0</td>\n",
       "      <td>0.0</td>\n",
       "      <td>0.0</td>\n",
       "      <td>0.0</td>\n",
       "      <td>0.0</td>\n",
       "    </tr>\n",
       "  </tbody>\n",
       "</table>\n",
       "<p>5 rows × 299 columns</p>\n",
       "</div>"
      ],
      "text/plain": [
       "        Power  Kilometer  RegistrationYear  VehicleType_convertible  \\\n",
       "309934     75      80000              2008                      0.0   \n",
       "333502    125     150000              1996                      0.0   \n",
       "254352    163     150000              2000                      0.0   \n",
       "180238    231     150000              2000                      0.0   \n",
       "61271     102     150000              2008                      0.0   \n",
       "\n",
       "        VehicleType_coupe  VehicleType_other  VehicleType_sedan  \\\n",
       "309934                0.0                0.0                0.0   \n",
       "333502                0.0                0.0                0.0   \n",
       "254352                1.0                0.0                0.0   \n",
       "180238                1.0                0.0                0.0   \n",
       "61271                 0.0                0.0                0.0   \n",
       "\n",
       "        VehicleType_small  VehicleType_suv  VehicleType_wagon  ...  \\\n",
       "309934                1.0              0.0                0.0  ...   \n",
       "333502                0.0              1.0                0.0  ...   \n",
       "254352                0.0              0.0                0.0  ...   \n",
       "180238                0.0              0.0                0.0  ...   \n",
       "61271                 0.0              0.0                0.0  ...   \n",
       "\n",
       "        Model_wrangler  Model_x_reihe  Model_x_trail  Model_x_type  \\\n",
       "309934             0.0            0.0            0.0           0.0   \n",
       "333502             0.0            0.0            0.0           0.0   \n",
       "254352             0.0            0.0            0.0           0.0   \n",
       "180238             0.0            0.0            0.0           0.0   \n",
       "61271              0.0            0.0            0.0           0.0   \n",
       "\n",
       "        Model_xc_reihe  Model_yaris  Model_yeti  Model_ypsilon  Model_z_reihe  \\\n",
       "309934             0.0          0.0         0.0            0.0            0.0   \n",
       "333502             0.0          0.0         0.0            0.0            0.0   \n",
       "254352             0.0          0.0         0.0            0.0            0.0   \n",
       "180238             0.0          0.0         0.0            0.0            0.0   \n",
       "61271              0.0          0.0         0.0            0.0            0.0   \n",
       "\n",
       "        Model_zafira  \n",
       "309934           0.0  \n",
       "333502           0.0  \n",
       "254352           0.0  \n",
       "180238           0.0  \n",
       "61271            0.0  \n",
       "\n",
       "[5 rows x 299 columns]"
      ]
     },
     "execution_count": 36,
     "metadata": {},
     "output_type": "execute_result"
    }
   ],
   "source": [
    "features_train.head()"
   ]
  },
  {
   "cell_type": "code",
   "execution_count": 41,
   "metadata": {},
   "outputs": [],
   "source": [
    "features_test[\n",
    "    encoder_ohe.get_feature_names_out()\n",
    "] = encoder_ohe.transform(features_test[ohe_features])\n",
    "\n",
    "features_test = features_test.drop(ohe_features, axis=1)"
   ]
  },
  {
   "cell_type": "code",
   "execution_count": 43,
   "metadata": {},
   "outputs": [
    {
     "data": {
      "text/plain": [
       "((148223, 299), (49408, 299))"
      ]
     },
     "execution_count": 43,
     "metadata": {},
     "output_type": "execute_result"
    }
   ],
   "source": [
    "features_train.shape, features_test.shape"
   ]
  },
  {
   "cell_type": "code",
   "execution_count": 44,
   "metadata": {},
   "outputs": [
    {
     "data": {
      "text/plain": [
       "0"
      ]
     },
     "execution_count": 44,
     "metadata": {},
     "output_type": "execute_result"
    }
   ],
   "source": [
    "(features_train.columns != features_test.columns).sum()"
   ]
  },
  {
   "cell_type": "markdown",
   "metadata": {},
   "source": [
    "Масштабируем признаки"
   ]
  },
  {
   "cell_type": "code",
   "execution_count": 37,
   "metadata": {},
   "outputs": [],
   "source": [
    "numeric = ['RegistrationYear', 'Power', 'Kilometer']\n",
    "\n",
    "scaler = StandardScaler()\n",
    "scaler.fit(features_train[numeric])\n",
    "features_train[numeric] = scaler.transform(features_train[numeric])\n",
    "features_test[numeric] = scaler.transform(features_test[numeric])"
   ]
  },
  {
   "cell_type": "markdown",
   "metadata": {},
   "source": [
    "Выводы. Данные изучены, проведена предобработка.\n",
    "- Обработаны пропуски в данных: VehicleType и FuelType (заполнены по моделям авто по популярности); Gearbox (заполнен популярным типом – manual, ручным); пропущенные данные по моделям заполнили неизвестным; Repaired – пропуски заполнили 'no' (не был в ремонте)\n",
    "- Удалены столбцы, которые не потребуются в обучении: NumberOfPictures (0 значения в данных), PostalCode — почтовый индекс владельца анкеты (пользователя), LastSeen — дата последней активности пользователя, RegistrationMonth — месяц регистрации автомобиля, DateCrawled.\n",
    "- Обработаны аномальные значения в количественных данных: в столбце RegistrationYear год регистрации не может быть больше 2020, и не может быть меньше 1930 (ограничили в пределах этих данных); в данных мощности Power много выбросов (ограничили 50 и 400 л.с.); значения из столбца Price обладают высоким стандартным отклонениям (Ограничили значениями по 5% и 75% квантилям – от 450 до 7 000).\n",
    "- Проверена корреляция.\n",
    "- Подготовлены выборки для обучения (разделены выборки на обучающую и тестовую, определен целевой признак, закодированы категориальные признаки, проведено масштабирование числовых признаков)."
   ]
  },
  {
   "cell_type": "markdown",
   "metadata": {},
   "source": [
    "## Обучение моделей"
   ]
  },
  {
   "cell_type": "markdown",
   "metadata": {},
   "source": [
    "Напишем функцию для расчета метрики RMSE."
   ]
  },
  {
   "cell_type": "code",
   "execution_count": 38,
   "metadata": {},
   "outputs": [],
   "source": [
    "from sklearn.metrics import mean_squared_error\n",
    "def RMSE(target, predict):\n",
    "    return (mean_squared_error(target, predict))**0.5\n",
    "   \n",
    "RMSE_score = make_scorer(RMSE, greater_is_better=False)"
   ]
  },
  {
   "cell_type": "markdown",
   "metadata": {},
   "source": [
    "Обучим разные модели, одна из которых — LightGBM. Дополнительно, для задачи лучшим вариантом будет - линейная регрессия LinearRegression и случайный лес RandomForestRegressor. "
   ]
  },
  {
   "cell_type": "markdown",
   "metadata": {},
   "source": [
    "Линейная регрессия. LinearRegression."
   ]
  },
  {
   "cell_type": "code",
   "execution_count": 45,
   "metadata": {},
   "outputs": [
    {
     "name": "stdout",
     "output_type": "stream",
     "text": [
      "RMSE Линейной регрессии: 1195.311\n",
      "CPU times: user 20.6 s, sys: 23.8 s, total: 44.4 s\n",
      "Wall time: 44.4 s\n"
     ]
    }
   ],
   "source": [
    "%%time\n",
    "\n",
    "regression_model = LinearRegression()\n",
    "regression_model.fit(features_train, target_train)\n",
    "regression_model_predictions = regression_model.predict(features_train)\n",
    "\n",
    "# RMSE\n",
    "regression_RMSE = round(RMSE(target_train, regression_model_predictions), 3)\n",
    "print('RMSE Линейной регрессии:', regression_RMSE)"
   ]
  },
  {
   "cell_type": "markdown",
   "metadata": {},
   "source": [
    "Случайный лес. RandomForestRegressor."
   ]
  },
  {
   "cell_type": "code",
   "execution_count": 46,
   "metadata": {},
   "outputs": [
    {
     "name": "stdout",
     "output_type": "stream",
     "text": [
      "CPU times: user 16min 14s, sys: 35.5 s, total: 16min 49s\n",
      "Wall time: 16min 50s\n"
     ]
    },
    {
     "data": {
      "text/html": [
       "<style>#sk-container-id-2 {color: black;background-color: white;}#sk-container-id-2 pre{padding: 0;}#sk-container-id-2 div.sk-toggleable {background-color: white;}#sk-container-id-2 label.sk-toggleable__label {cursor: pointer;display: block;width: 100%;margin-bottom: 0;padding: 0.3em;box-sizing: border-box;text-align: center;}#sk-container-id-2 label.sk-toggleable__label-arrow:before {content: \"▸\";float: left;margin-right: 0.25em;color: #696969;}#sk-container-id-2 label.sk-toggleable__label-arrow:hover:before {color: black;}#sk-container-id-2 div.sk-estimator:hover label.sk-toggleable__label-arrow:before {color: black;}#sk-container-id-2 div.sk-toggleable__content {max-height: 0;max-width: 0;overflow: hidden;text-align: left;background-color: #f0f8ff;}#sk-container-id-2 div.sk-toggleable__content pre {margin: 0.2em;color: black;border-radius: 0.25em;background-color: #f0f8ff;}#sk-container-id-2 input.sk-toggleable__control:checked~div.sk-toggleable__content {max-height: 200px;max-width: 100%;overflow: auto;}#sk-container-id-2 input.sk-toggleable__control:checked~label.sk-toggleable__label-arrow:before {content: \"▾\";}#sk-container-id-2 div.sk-estimator input.sk-toggleable__control:checked~label.sk-toggleable__label {background-color: #d4ebff;}#sk-container-id-2 div.sk-label input.sk-toggleable__control:checked~label.sk-toggleable__label {background-color: #d4ebff;}#sk-container-id-2 input.sk-hidden--visually {border: 0;clip: rect(1px 1px 1px 1px);clip: rect(1px, 1px, 1px, 1px);height: 1px;margin: -1px;overflow: hidden;padding: 0;position: absolute;width: 1px;}#sk-container-id-2 div.sk-estimator {font-family: monospace;background-color: #f0f8ff;border: 1px dotted black;border-radius: 0.25em;box-sizing: border-box;margin-bottom: 0.5em;}#sk-container-id-2 div.sk-estimator:hover {background-color: #d4ebff;}#sk-container-id-2 div.sk-parallel-item::after {content: \"\";width: 100%;border-bottom: 1px solid gray;flex-grow: 1;}#sk-container-id-2 div.sk-label:hover label.sk-toggleable__label {background-color: #d4ebff;}#sk-container-id-2 div.sk-serial::before {content: \"\";position: absolute;border-left: 1px solid gray;box-sizing: border-box;top: 0;bottom: 0;left: 50%;z-index: 0;}#sk-container-id-2 div.sk-serial {display: flex;flex-direction: column;align-items: center;background-color: white;padding-right: 0.2em;padding-left: 0.2em;position: relative;}#sk-container-id-2 div.sk-item {position: relative;z-index: 1;}#sk-container-id-2 div.sk-parallel {display: flex;align-items: stretch;justify-content: center;background-color: white;position: relative;}#sk-container-id-2 div.sk-item::before, #sk-container-id-2 div.sk-parallel-item::before {content: \"\";position: absolute;border-left: 1px solid gray;box-sizing: border-box;top: 0;bottom: 0;left: 50%;z-index: -1;}#sk-container-id-2 div.sk-parallel-item {display: flex;flex-direction: column;z-index: 1;position: relative;background-color: white;}#sk-container-id-2 div.sk-parallel-item:first-child::after {align-self: flex-end;width: 50%;}#sk-container-id-2 div.sk-parallel-item:last-child::after {align-self: flex-start;width: 50%;}#sk-container-id-2 div.sk-parallel-item:only-child::after {width: 0;}#sk-container-id-2 div.sk-dashed-wrapped {border: 1px dashed gray;margin: 0 0.4em 0.5em 0.4em;box-sizing: border-box;padding-bottom: 0.4em;background-color: white;}#sk-container-id-2 div.sk-label label {font-family: monospace;font-weight: bold;display: inline-block;line-height: 1.2em;}#sk-container-id-2 div.sk-label-container {text-align: center;}#sk-container-id-2 div.sk-container {/* jupyter's `normalize.less` sets `[hidden] { display: none; }` but bootstrap.min.css set `[hidden] { display: none !important; }` so we also need the `!important` here to be able to override the default hidden behavior on the sphinx rendered scikit-learn.org. See: https://github.com/scikit-learn/scikit-learn/issues/21755 */display: inline-block !important;position: relative;}#sk-container-id-2 div.sk-text-repr-fallback {display: none;}</style><div id=\"sk-container-id-2\" class=\"sk-top-container\"><div class=\"sk-text-repr-fallback\"><pre>GridSearchCV(cv=3, estimator=RandomForestRegressor(),\n",
       "             param_grid={&#x27;max_depth&#x27;: range(1, 8, 2),\n",
       "                         &#x27;min_samples_leaf&#x27;: range(1, 4),\n",
       "                         &#x27;min_samples_split&#x27;: range(2, 6, 2),\n",
       "                         &#x27;n_estimators&#x27;: range(5, 20, 5)},\n",
       "             scoring=make_scorer(RMSE, greater_is_better=False))</pre><b>In a Jupyter environment, please rerun this cell to show the HTML representation or trust the notebook. <br />On GitHub, the HTML representation is unable to render, please try loading this page with nbviewer.org.</b></div><div class=\"sk-container\" hidden><div class=\"sk-item sk-dashed-wrapped\"><div class=\"sk-label-container\"><div class=\"sk-label sk-toggleable\"><input class=\"sk-toggleable__control sk-hidden--visually\" id=\"sk-estimator-id-2\" type=\"checkbox\" ><label for=\"sk-estimator-id-2\" class=\"sk-toggleable__label sk-toggleable__label-arrow\">GridSearchCV</label><div class=\"sk-toggleable__content\"><pre>GridSearchCV(cv=3, estimator=RandomForestRegressor(),\n",
       "             param_grid={&#x27;max_depth&#x27;: range(1, 8, 2),\n",
       "                         &#x27;min_samples_leaf&#x27;: range(1, 4),\n",
       "                         &#x27;min_samples_split&#x27;: range(2, 6, 2),\n",
       "                         &#x27;n_estimators&#x27;: range(5, 20, 5)},\n",
       "             scoring=make_scorer(RMSE, greater_is_better=False))</pre></div></div></div><div class=\"sk-parallel\"><div class=\"sk-parallel-item\"><div class=\"sk-item\"><div class=\"sk-label-container\"><div class=\"sk-label sk-toggleable\"><input class=\"sk-toggleable__control sk-hidden--visually\" id=\"sk-estimator-id-3\" type=\"checkbox\" ><label for=\"sk-estimator-id-3\" class=\"sk-toggleable__label sk-toggleable__label-arrow\">estimator: RandomForestRegressor</label><div class=\"sk-toggleable__content\"><pre>RandomForestRegressor()</pre></div></div></div><div class=\"sk-serial\"><div class=\"sk-item\"><div class=\"sk-estimator sk-toggleable\"><input class=\"sk-toggleable__control sk-hidden--visually\" id=\"sk-estimator-id-4\" type=\"checkbox\" ><label for=\"sk-estimator-id-4\" class=\"sk-toggleable__label sk-toggleable__label-arrow\">RandomForestRegressor</label><div class=\"sk-toggleable__content\"><pre>RandomForestRegressor()</pre></div></div></div></div></div></div></div></div></div></div>"
      ],
      "text/plain": [
       "GridSearchCV(cv=3, estimator=RandomForestRegressor(),\n",
       "             param_grid={'max_depth': range(1, 8, 2),\n",
       "                         'min_samples_leaf': range(1, 4),\n",
       "                         'min_samples_split': range(2, 6, 2),\n",
       "                         'n_estimators': range(5, 20, 5)},\n",
       "             scoring=make_scorer(RMSE, greater_is_better=False))"
      ]
     },
     "execution_count": 46,
     "metadata": {},
     "output_type": "execute_result"
    }
   ],
   "source": [
    "%%time\n",
    "\n",
    "forest = RandomForestRegressor()\n",
    "\n",
    "forest_parametrs = { 'n_estimators': range(5, 20, 5),\n",
    "                     'max_depth': range(1, 8, 2),\n",
    "                     'min_samples_leaf': range(1, 4),\n",
    "                     'min_samples_split': range(2, 6, 2) }\n",
    "\n",
    "#GridSearchCV с кросс-валидацией\n",
    "forest_grid = GridSearchCV(forest, forest_parametrs, scoring=RMSE_score, cv=3)\n",
    "forest_grid.fit(features_train, target_train)"
   ]
  },
  {
   "cell_type": "markdown",
   "metadata": {},
   "source": [
    "Определим лучшие параметры"
   ]
  },
  {
   "cell_type": "code",
   "execution_count": 47,
   "metadata": {},
   "outputs": [
    {
     "name": "stdout",
     "output_type": "stream",
     "text": [
      "{'max_depth': 7, 'min_samples_leaf': 2, 'min_samples_split': 2, 'n_estimators': 15}\n",
      "1091.7391095764212\n"
     ]
    }
   ],
   "source": [
    "forest_params = forest_grid.best_params_\n",
    "forest_score = forest_grid.score(features_train, target_train) * (-1)\n",
    "print(forest_params)\n",
    "print(forest_score)"
   ]
  },
  {
   "cell_type": "markdown",
   "metadata": {},
   "source": [
    "Градиентный бустинг. LightGBM"
   ]
  },
  {
   "cell_type": "code",
   "execution_count": 48,
   "metadata": {},
   "outputs": [],
   "source": [
    "from lightgbm import LGBMRegressor"
   ]
  },
  {
   "cell_type": "code",
   "execution_count": 49,
   "metadata": {},
   "outputs": [
    {
     "name": "stdout",
     "output_type": "stream",
     "text": [
      "CPU times: user 25min 38s, sys: 34 s, total: 26min 12s\n",
      "Wall time: 26min 19s\n"
     ]
    },
    {
     "data": {
      "text/html": [
       "<style>#sk-container-id-3 {color: black;background-color: white;}#sk-container-id-3 pre{padding: 0;}#sk-container-id-3 div.sk-toggleable {background-color: white;}#sk-container-id-3 label.sk-toggleable__label {cursor: pointer;display: block;width: 100%;margin-bottom: 0;padding: 0.3em;box-sizing: border-box;text-align: center;}#sk-container-id-3 label.sk-toggleable__label-arrow:before {content: \"▸\";float: left;margin-right: 0.25em;color: #696969;}#sk-container-id-3 label.sk-toggleable__label-arrow:hover:before {color: black;}#sk-container-id-3 div.sk-estimator:hover label.sk-toggleable__label-arrow:before {color: black;}#sk-container-id-3 div.sk-toggleable__content {max-height: 0;max-width: 0;overflow: hidden;text-align: left;background-color: #f0f8ff;}#sk-container-id-3 div.sk-toggleable__content pre {margin: 0.2em;color: black;border-radius: 0.25em;background-color: #f0f8ff;}#sk-container-id-3 input.sk-toggleable__control:checked~div.sk-toggleable__content {max-height: 200px;max-width: 100%;overflow: auto;}#sk-container-id-3 input.sk-toggleable__control:checked~label.sk-toggleable__label-arrow:before {content: \"▾\";}#sk-container-id-3 div.sk-estimator input.sk-toggleable__control:checked~label.sk-toggleable__label {background-color: #d4ebff;}#sk-container-id-3 div.sk-label input.sk-toggleable__control:checked~label.sk-toggleable__label {background-color: #d4ebff;}#sk-container-id-3 input.sk-hidden--visually {border: 0;clip: rect(1px 1px 1px 1px);clip: rect(1px, 1px, 1px, 1px);height: 1px;margin: -1px;overflow: hidden;padding: 0;position: absolute;width: 1px;}#sk-container-id-3 div.sk-estimator {font-family: monospace;background-color: #f0f8ff;border: 1px dotted black;border-radius: 0.25em;box-sizing: border-box;margin-bottom: 0.5em;}#sk-container-id-3 div.sk-estimator:hover {background-color: #d4ebff;}#sk-container-id-3 div.sk-parallel-item::after {content: \"\";width: 100%;border-bottom: 1px solid gray;flex-grow: 1;}#sk-container-id-3 div.sk-label:hover label.sk-toggleable__label {background-color: #d4ebff;}#sk-container-id-3 div.sk-serial::before {content: \"\";position: absolute;border-left: 1px solid gray;box-sizing: border-box;top: 0;bottom: 0;left: 50%;z-index: 0;}#sk-container-id-3 div.sk-serial {display: flex;flex-direction: column;align-items: center;background-color: white;padding-right: 0.2em;padding-left: 0.2em;position: relative;}#sk-container-id-3 div.sk-item {position: relative;z-index: 1;}#sk-container-id-3 div.sk-parallel {display: flex;align-items: stretch;justify-content: center;background-color: white;position: relative;}#sk-container-id-3 div.sk-item::before, #sk-container-id-3 div.sk-parallel-item::before {content: \"\";position: absolute;border-left: 1px solid gray;box-sizing: border-box;top: 0;bottom: 0;left: 50%;z-index: -1;}#sk-container-id-3 div.sk-parallel-item {display: flex;flex-direction: column;z-index: 1;position: relative;background-color: white;}#sk-container-id-3 div.sk-parallel-item:first-child::after {align-self: flex-end;width: 50%;}#sk-container-id-3 div.sk-parallel-item:last-child::after {align-self: flex-start;width: 50%;}#sk-container-id-3 div.sk-parallel-item:only-child::after {width: 0;}#sk-container-id-3 div.sk-dashed-wrapped {border: 1px dashed gray;margin: 0 0.4em 0.5em 0.4em;box-sizing: border-box;padding-bottom: 0.4em;background-color: white;}#sk-container-id-3 div.sk-label label {font-family: monospace;font-weight: bold;display: inline-block;line-height: 1.2em;}#sk-container-id-3 div.sk-label-container {text-align: center;}#sk-container-id-3 div.sk-container {/* jupyter's `normalize.less` sets `[hidden] { display: none; }` but bootstrap.min.css set `[hidden] { display: none !important; }` so we also need the `!important` here to be able to override the default hidden behavior on the sphinx rendered scikit-learn.org. See: https://github.com/scikit-learn/scikit-learn/issues/21755 */display: inline-block !important;position: relative;}#sk-container-id-3 div.sk-text-repr-fallback {display: none;}</style><div id=\"sk-container-id-3\" class=\"sk-top-container\"><div class=\"sk-text-repr-fallback\"><pre>GridSearchCV(cv=3, estimator=LGBMRegressor(),\n",
       "             param_grid={&#x27;learning_rate&#x27;: [0.1, 0.2], &#x27;max_depth&#x27;: [10, 40, 50],\n",
       "                         &#x27;n_estimators&#x27;: range(5, 15, 5),\n",
       "                         &#x27;num_leaves&#x27;: [60, 300]},\n",
       "             scoring=make_scorer(RMSE, greater_is_better=False))</pre><b>In a Jupyter environment, please rerun this cell to show the HTML representation or trust the notebook. <br />On GitHub, the HTML representation is unable to render, please try loading this page with nbviewer.org.</b></div><div class=\"sk-container\" hidden><div class=\"sk-item sk-dashed-wrapped\"><div class=\"sk-label-container\"><div class=\"sk-label sk-toggleable\"><input class=\"sk-toggleable__control sk-hidden--visually\" id=\"sk-estimator-id-5\" type=\"checkbox\" ><label for=\"sk-estimator-id-5\" class=\"sk-toggleable__label sk-toggleable__label-arrow\">GridSearchCV</label><div class=\"sk-toggleable__content\"><pre>GridSearchCV(cv=3, estimator=LGBMRegressor(),\n",
       "             param_grid={&#x27;learning_rate&#x27;: [0.1, 0.2], &#x27;max_depth&#x27;: [10, 40, 50],\n",
       "                         &#x27;n_estimators&#x27;: range(5, 15, 5),\n",
       "                         &#x27;num_leaves&#x27;: [60, 300]},\n",
       "             scoring=make_scorer(RMSE, greater_is_better=False))</pre></div></div></div><div class=\"sk-parallel\"><div class=\"sk-parallel-item\"><div class=\"sk-item\"><div class=\"sk-label-container\"><div class=\"sk-label sk-toggleable\"><input class=\"sk-toggleable__control sk-hidden--visually\" id=\"sk-estimator-id-6\" type=\"checkbox\" ><label for=\"sk-estimator-id-6\" class=\"sk-toggleable__label sk-toggleable__label-arrow\">estimator: LGBMRegressor</label><div class=\"sk-toggleable__content\"><pre>LGBMRegressor()</pre></div></div></div><div class=\"sk-serial\"><div class=\"sk-item\"><div class=\"sk-estimator sk-toggleable\"><input class=\"sk-toggleable__control sk-hidden--visually\" id=\"sk-estimator-id-7\" type=\"checkbox\" ><label for=\"sk-estimator-id-7\" class=\"sk-toggleable__label sk-toggleable__label-arrow\">LGBMRegressor</label><div class=\"sk-toggleable__content\"><pre>LGBMRegressor()</pre></div></div></div></div></div></div></div></div></div></div>"
      ],
      "text/plain": [
       "GridSearchCV(cv=3, estimator=LGBMRegressor(),\n",
       "             param_grid={'learning_rate': [0.1, 0.2], 'max_depth': [10, 40, 50],\n",
       "                         'n_estimators': range(5, 15, 5),\n",
       "                         'num_leaves': [60, 300]},\n",
       "             scoring=make_scorer(RMSE, greater_is_better=False))"
      ]
     },
     "execution_count": 49,
     "metadata": {},
     "output_type": "execute_result"
    }
   ],
   "source": [
    "%%time\n",
    "\n",
    "lg = LGBMRegressor()\n",
    "# словарь с набором параметров\n",
    "lg_parametrs = {\"max_depth\": [10, 40, 50],\n",
    "               \"learning_rate\" : [0.1, 0.2],\n",
    "               \"num_leaves\": [60, 300],\n",
    "               \"n_estimators\": range (5, 15, 5)\n",
    "             }\n",
    "# GridSearchCV с кросс-валидацией\n",
    "lg_grid = GridSearchCV(lg, lg_parametrs, scoring=RMSE_score, cv=3)\n",
    "lg_grid.fit(features_train, target_train)"
   ]
  },
  {
   "cell_type": "code",
   "execution_count": 50,
   "metadata": {},
   "outputs": [
    {
     "name": "stdout",
     "output_type": "stream",
     "text": [
      "{'learning_rate': 0.2, 'max_depth': 40, 'n_estimators': 10, 'num_leaves': 300}\n",
      "916.5468497496529\n",
      "CPU times: user 691 ms, sys: 170 ms, total: 862 ms\n",
      "Wall time: 808 ms\n"
     ]
    }
   ],
   "source": [
    "%%time\n",
    "\n",
    "lg_params = lg_grid.best_params_\n",
    "lg_score = lg_grid.score(features_train, target_train) * (-1)\n",
    "print(lg_params)\n",
    "print(lg_score)"
   ]
  },
  {
   "cell_type": "markdown",
   "metadata": {},
   "source": [
    "Изучим время обучения и предсказания по моделям с параметрами"
   ]
  },
  {
   "cell_type": "markdown",
   "metadata": {},
   "source": [
    "Линейная регрессия. LinearRegression."
   ]
  },
  {
   "cell_type": "code",
   "execution_count": 52,
   "metadata": {},
   "outputs": [
    {
     "name": "stdout",
     "output_type": "stream",
     "text": [
      "CPU times: user 14.5 s, sys: 14.5 s, total: 29 s\n",
      "Wall time: 29 s\n"
     ]
    },
    {
     "data": {
      "text/html": [
       "<style>#sk-container-id-4 {color: black;background-color: white;}#sk-container-id-4 pre{padding: 0;}#sk-container-id-4 div.sk-toggleable {background-color: white;}#sk-container-id-4 label.sk-toggleable__label {cursor: pointer;display: block;width: 100%;margin-bottom: 0;padding: 0.3em;box-sizing: border-box;text-align: center;}#sk-container-id-4 label.sk-toggleable__label-arrow:before {content: \"▸\";float: left;margin-right: 0.25em;color: #696969;}#sk-container-id-4 label.sk-toggleable__label-arrow:hover:before {color: black;}#sk-container-id-4 div.sk-estimator:hover label.sk-toggleable__label-arrow:before {color: black;}#sk-container-id-4 div.sk-toggleable__content {max-height: 0;max-width: 0;overflow: hidden;text-align: left;background-color: #f0f8ff;}#sk-container-id-4 div.sk-toggleable__content pre {margin: 0.2em;color: black;border-radius: 0.25em;background-color: #f0f8ff;}#sk-container-id-4 input.sk-toggleable__control:checked~div.sk-toggleable__content {max-height: 200px;max-width: 100%;overflow: auto;}#sk-container-id-4 input.sk-toggleable__control:checked~label.sk-toggleable__label-arrow:before {content: \"▾\";}#sk-container-id-4 div.sk-estimator input.sk-toggleable__control:checked~label.sk-toggleable__label {background-color: #d4ebff;}#sk-container-id-4 div.sk-label input.sk-toggleable__control:checked~label.sk-toggleable__label {background-color: #d4ebff;}#sk-container-id-4 input.sk-hidden--visually {border: 0;clip: rect(1px 1px 1px 1px);clip: rect(1px, 1px, 1px, 1px);height: 1px;margin: -1px;overflow: hidden;padding: 0;position: absolute;width: 1px;}#sk-container-id-4 div.sk-estimator {font-family: monospace;background-color: #f0f8ff;border: 1px dotted black;border-radius: 0.25em;box-sizing: border-box;margin-bottom: 0.5em;}#sk-container-id-4 div.sk-estimator:hover {background-color: #d4ebff;}#sk-container-id-4 div.sk-parallel-item::after {content: \"\";width: 100%;border-bottom: 1px solid gray;flex-grow: 1;}#sk-container-id-4 div.sk-label:hover label.sk-toggleable__label {background-color: #d4ebff;}#sk-container-id-4 div.sk-serial::before {content: \"\";position: absolute;border-left: 1px solid gray;box-sizing: border-box;top: 0;bottom: 0;left: 50%;z-index: 0;}#sk-container-id-4 div.sk-serial {display: flex;flex-direction: column;align-items: center;background-color: white;padding-right: 0.2em;padding-left: 0.2em;position: relative;}#sk-container-id-4 div.sk-item {position: relative;z-index: 1;}#sk-container-id-4 div.sk-parallel {display: flex;align-items: stretch;justify-content: center;background-color: white;position: relative;}#sk-container-id-4 div.sk-item::before, #sk-container-id-4 div.sk-parallel-item::before {content: \"\";position: absolute;border-left: 1px solid gray;box-sizing: border-box;top: 0;bottom: 0;left: 50%;z-index: -1;}#sk-container-id-4 div.sk-parallel-item {display: flex;flex-direction: column;z-index: 1;position: relative;background-color: white;}#sk-container-id-4 div.sk-parallel-item:first-child::after {align-self: flex-end;width: 50%;}#sk-container-id-4 div.sk-parallel-item:last-child::after {align-self: flex-start;width: 50%;}#sk-container-id-4 div.sk-parallel-item:only-child::after {width: 0;}#sk-container-id-4 div.sk-dashed-wrapped {border: 1px dashed gray;margin: 0 0.4em 0.5em 0.4em;box-sizing: border-box;padding-bottom: 0.4em;background-color: white;}#sk-container-id-4 div.sk-label label {font-family: monospace;font-weight: bold;display: inline-block;line-height: 1.2em;}#sk-container-id-4 div.sk-label-container {text-align: center;}#sk-container-id-4 div.sk-container {/* jupyter's `normalize.less` sets `[hidden] { display: none; }` but bootstrap.min.css set `[hidden] { display: none !important; }` so we also need the `!important` here to be able to override the default hidden behavior on the sphinx rendered scikit-learn.org. See: https://github.com/scikit-learn/scikit-learn/issues/21755 */display: inline-block !important;position: relative;}#sk-container-id-4 div.sk-text-repr-fallback {display: none;}</style><div id=\"sk-container-id-4\" class=\"sk-top-container\"><div class=\"sk-text-repr-fallback\"><pre>LinearRegression()</pre><b>In a Jupyter environment, please rerun this cell to show the HTML representation or trust the notebook. <br />On GitHub, the HTML representation is unable to render, please try loading this page with nbviewer.org.</b></div><div class=\"sk-container\" hidden><div class=\"sk-item\"><div class=\"sk-estimator sk-toggleable\"><input class=\"sk-toggleable__control sk-hidden--visually\" id=\"sk-estimator-id-8\" type=\"checkbox\" checked><label for=\"sk-estimator-id-8\" class=\"sk-toggleable__label sk-toggleable__label-arrow\">LinearRegression</label><div class=\"sk-toggleable__content\"><pre>LinearRegression()</pre></div></div></div></div></div>"
      ],
      "text/plain": [
       "LinearRegression()"
      ]
     },
     "execution_count": 52,
     "metadata": {},
     "output_type": "execute_result"
    }
   ],
   "source": [
    "%%time\n",
    "\n",
    "regression_model = LinearRegression()\n",
    "regression_model.fit(features_train, target_train)"
   ]
  },
  {
   "cell_type": "code",
   "execution_count": 53,
   "metadata": {},
   "outputs": [
    {
     "name": "stdout",
     "output_type": "stream",
     "text": [
      "RMSE Линейной регрессии: 1195.311\n",
      "CPU times: user 93.1 ms, sys: 20.3 ms, total: 113 ms\n",
      "Wall time: 73.8 ms\n"
     ]
    }
   ],
   "source": [
    "%%time\n",
    "\n",
    "regression_model_predictions = regression_model.predict(features_train)\n",
    "\n",
    "# RMSE\n",
    "regression_RMSE = round(RMSE(target_train, regression_model_predictions), 3)\n",
    "print('RMSE Линейной регрессии:', regression_RMSE)"
   ]
  },
  {
   "cell_type": "markdown",
   "metadata": {},
   "source": [
    "Случайный лес. RandomForestRegressor."
   ]
  },
  {
   "cell_type": "code",
   "execution_count": 54,
   "metadata": {},
   "outputs": [
    {
     "name": "stdout",
     "output_type": "stream",
     "text": [
      "CPU times: user 18.1 s, sys: 101 ms, total: 18.2 s\n",
      "Wall time: 18.3 s\n"
     ]
    },
    {
     "data": {
      "text/html": [
       "<style>#sk-container-id-5 {color: black;background-color: white;}#sk-container-id-5 pre{padding: 0;}#sk-container-id-5 div.sk-toggleable {background-color: white;}#sk-container-id-5 label.sk-toggleable__label {cursor: pointer;display: block;width: 100%;margin-bottom: 0;padding: 0.3em;box-sizing: border-box;text-align: center;}#sk-container-id-5 label.sk-toggleable__label-arrow:before {content: \"▸\";float: left;margin-right: 0.25em;color: #696969;}#sk-container-id-5 label.sk-toggleable__label-arrow:hover:before {color: black;}#sk-container-id-5 div.sk-estimator:hover label.sk-toggleable__label-arrow:before {color: black;}#sk-container-id-5 div.sk-toggleable__content {max-height: 0;max-width: 0;overflow: hidden;text-align: left;background-color: #f0f8ff;}#sk-container-id-5 div.sk-toggleable__content pre {margin: 0.2em;color: black;border-radius: 0.25em;background-color: #f0f8ff;}#sk-container-id-5 input.sk-toggleable__control:checked~div.sk-toggleable__content {max-height: 200px;max-width: 100%;overflow: auto;}#sk-container-id-5 input.sk-toggleable__control:checked~label.sk-toggleable__label-arrow:before {content: \"▾\";}#sk-container-id-5 div.sk-estimator input.sk-toggleable__control:checked~label.sk-toggleable__label {background-color: #d4ebff;}#sk-container-id-5 div.sk-label input.sk-toggleable__control:checked~label.sk-toggleable__label {background-color: #d4ebff;}#sk-container-id-5 input.sk-hidden--visually {border: 0;clip: rect(1px 1px 1px 1px);clip: rect(1px, 1px, 1px, 1px);height: 1px;margin: -1px;overflow: hidden;padding: 0;position: absolute;width: 1px;}#sk-container-id-5 div.sk-estimator {font-family: monospace;background-color: #f0f8ff;border: 1px dotted black;border-radius: 0.25em;box-sizing: border-box;margin-bottom: 0.5em;}#sk-container-id-5 div.sk-estimator:hover {background-color: #d4ebff;}#sk-container-id-5 div.sk-parallel-item::after {content: \"\";width: 100%;border-bottom: 1px solid gray;flex-grow: 1;}#sk-container-id-5 div.sk-label:hover label.sk-toggleable__label {background-color: #d4ebff;}#sk-container-id-5 div.sk-serial::before {content: \"\";position: absolute;border-left: 1px solid gray;box-sizing: border-box;top: 0;bottom: 0;left: 50%;z-index: 0;}#sk-container-id-5 div.sk-serial {display: flex;flex-direction: column;align-items: center;background-color: white;padding-right: 0.2em;padding-left: 0.2em;position: relative;}#sk-container-id-5 div.sk-item {position: relative;z-index: 1;}#sk-container-id-5 div.sk-parallel {display: flex;align-items: stretch;justify-content: center;background-color: white;position: relative;}#sk-container-id-5 div.sk-item::before, #sk-container-id-5 div.sk-parallel-item::before {content: \"\";position: absolute;border-left: 1px solid gray;box-sizing: border-box;top: 0;bottom: 0;left: 50%;z-index: -1;}#sk-container-id-5 div.sk-parallel-item {display: flex;flex-direction: column;z-index: 1;position: relative;background-color: white;}#sk-container-id-5 div.sk-parallel-item:first-child::after {align-self: flex-end;width: 50%;}#sk-container-id-5 div.sk-parallel-item:last-child::after {align-self: flex-start;width: 50%;}#sk-container-id-5 div.sk-parallel-item:only-child::after {width: 0;}#sk-container-id-5 div.sk-dashed-wrapped {border: 1px dashed gray;margin: 0 0.4em 0.5em 0.4em;box-sizing: border-box;padding-bottom: 0.4em;background-color: white;}#sk-container-id-5 div.sk-label label {font-family: monospace;font-weight: bold;display: inline-block;line-height: 1.2em;}#sk-container-id-5 div.sk-label-container {text-align: center;}#sk-container-id-5 div.sk-container {/* jupyter's `normalize.less` sets `[hidden] { display: none; }` but bootstrap.min.css set `[hidden] { display: none !important; }` so we also need the `!important` here to be able to override the default hidden behavior on the sphinx rendered scikit-learn.org. See: https://github.com/scikit-learn/scikit-learn/issues/21755 */display: inline-block !important;position: relative;}#sk-container-id-5 div.sk-text-repr-fallback {display: none;}</style><div id=\"sk-container-id-5\" class=\"sk-top-container\"><div class=\"sk-text-repr-fallback\"><pre>RandomForestRegressor(max_depth=7, min_samples_leaf=2, n_estimators=15,\n",
       "                      random_state=12345)</pre><b>In a Jupyter environment, please rerun this cell to show the HTML representation or trust the notebook. <br />On GitHub, the HTML representation is unable to render, please try loading this page with nbviewer.org.</b></div><div class=\"sk-container\" hidden><div class=\"sk-item\"><div class=\"sk-estimator sk-toggleable\"><input class=\"sk-toggleable__control sk-hidden--visually\" id=\"sk-estimator-id-9\" type=\"checkbox\" checked><label for=\"sk-estimator-id-9\" class=\"sk-toggleable__label sk-toggleable__label-arrow\">RandomForestRegressor</label><div class=\"sk-toggleable__content\"><pre>RandomForestRegressor(max_depth=7, min_samples_leaf=2, n_estimators=15,\n",
       "                      random_state=12345)</pre></div></div></div></div></div>"
      ],
      "text/plain": [
       "RandomForestRegressor(max_depth=7, min_samples_leaf=2, n_estimators=15,\n",
       "                      random_state=12345)"
      ]
     },
     "execution_count": 54,
     "metadata": {},
     "output_type": "execute_result"
    }
   ],
   "source": [
    "%%time\n",
    "\n",
    "forest_model = RandomForestRegressor(random_state=12345,\n",
    "                                     max_depth=forest_params['max_depth'],\n",
    "                                     min_samples_leaf = forest_params['min_samples_leaf'],\n",
    "                                     min_samples_split = forest_params['min_samples_split'],\n",
    "                                     n_estimators = forest_params['n_estimators'])\n",
    "\n",
    "forest_model.fit(features_train, target_train)"
   ]
  },
  {
   "cell_type": "code",
   "execution_count": 55,
   "metadata": {},
   "outputs": [
    {
     "name": "stdout",
     "output_type": "stream",
     "text": [
      "RMSE модели Случайного леса: 1091.7467708127783\n",
      "CPU times: user 194 ms, sys: 47.2 ms, total: 241 ms\n",
      "Wall time: 239 ms\n"
     ]
    }
   ],
   "source": [
    "%%time\n",
    "\n",
    "forest_model_predictions = forest_model.predict(features_train)\n",
    "\n",
    "# RMSE\n",
    "forest_RMSE = mean_squared_error(target_train, forest_model_predictions) ** 0.5\n",
    "print('RMSE модели Случайного леса:', forest_RMSE)"
   ]
  },
  {
   "cell_type": "markdown",
   "metadata": {},
   "source": [
    "Градиентный бустинг. LightGBM"
   ]
  },
  {
   "cell_type": "code",
   "execution_count": 59,
   "metadata": {},
   "outputs": [
    {
     "name": "stdout",
     "output_type": "stream",
     "text": [
      "CPU times: user 5min 33s, sys: 3.76 s, total: 5min 36s\n",
      "Wall time: 5min 38s\n"
     ]
    },
    {
     "data": {
      "text/html": [
       "<style>#sk-container-id-6 {color: black;background-color: white;}#sk-container-id-6 pre{padding: 0;}#sk-container-id-6 div.sk-toggleable {background-color: white;}#sk-container-id-6 label.sk-toggleable__label {cursor: pointer;display: block;width: 100%;margin-bottom: 0;padding: 0.3em;box-sizing: border-box;text-align: center;}#sk-container-id-6 label.sk-toggleable__label-arrow:before {content: \"▸\";float: left;margin-right: 0.25em;color: #696969;}#sk-container-id-6 label.sk-toggleable__label-arrow:hover:before {color: black;}#sk-container-id-6 div.sk-estimator:hover label.sk-toggleable__label-arrow:before {color: black;}#sk-container-id-6 div.sk-toggleable__content {max-height: 0;max-width: 0;overflow: hidden;text-align: left;background-color: #f0f8ff;}#sk-container-id-6 div.sk-toggleable__content pre {margin: 0.2em;color: black;border-radius: 0.25em;background-color: #f0f8ff;}#sk-container-id-6 input.sk-toggleable__control:checked~div.sk-toggleable__content {max-height: 200px;max-width: 100%;overflow: auto;}#sk-container-id-6 input.sk-toggleable__control:checked~label.sk-toggleable__label-arrow:before {content: \"▾\";}#sk-container-id-6 div.sk-estimator input.sk-toggleable__control:checked~label.sk-toggleable__label {background-color: #d4ebff;}#sk-container-id-6 div.sk-label input.sk-toggleable__control:checked~label.sk-toggleable__label {background-color: #d4ebff;}#sk-container-id-6 input.sk-hidden--visually {border: 0;clip: rect(1px 1px 1px 1px);clip: rect(1px, 1px, 1px, 1px);height: 1px;margin: -1px;overflow: hidden;padding: 0;position: absolute;width: 1px;}#sk-container-id-6 div.sk-estimator {font-family: monospace;background-color: #f0f8ff;border: 1px dotted black;border-radius: 0.25em;box-sizing: border-box;margin-bottom: 0.5em;}#sk-container-id-6 div.sk-estimator:hover {background-color: #d4ebff;}#sk-container-id-6 div.sk-parallel-item::after {content: \"\";width: 100%;border-bottom: 1px solid gray;flex-grow: 1;}#sk-container-id-6 div.sk-label:hover label.sk-toggleable__label {background-color: #d4ebff;}#sk-container-id-6 div.sk-serial::before {content: \"\";position: absolute;border-left: 1px solid gray;box-sizing: border-box;top: 0;bottom: 0;left: 50%;z-index: 0;}#sk-container-id-6 div.sk-serial {display: flex;flex-direction: column;align-items: center;background-color: white;padding-right: 0.2em;padding-left: 0.2em;position: relative;}#sk-container-id-6 div.sk-item {position: relative;z-index: 1;}#sk-container-id-6 div.sk-parallel {display: flex;align-items: stretch;justify-content: center;background-color: white;position: relative;}#sk-container-id-6 div.sk-item::before, #sk-container-id-6 div.sk-parallel-item::before {content: \"\";position: absolute;border-left: 1px solid gray;box-sizing: border-box;top: 0;bottom: 0;left: 50%;z-index: -1;}#sk-container-id-6 div.sk-parallel-item {display: flex;flex-direction: column;z-index: 1;position: relative;background-color: white;}#sk-container-id-6 div.sk-parallel-item:first-child::after {align-self: flex-end;width: 50%;}#sk-container-id-6 div.sk-parallel-item:last-child::after {align-self: flex-start;width: 50%;}#sk-container-id-6 div.sk-parallel-item:only-child::after {width: 0;}#sk-container-id-6 div.sk-dashed-wrapped {border: 1px dashed gray;margin: 0 0.4em 0.5em 0.4em;box-sizing: border-box;padding-bottom: 0.4em;background-color: white;}#sk-container-id-6 div.sk-label label {font-family: monospace;font-weight: bold;display: inline-block;line-height: 1.2em;}#sk-container-id-6 div.sk-label-container {text-align: center;}#sk-container-id-6 div.sk-container {/* jupyter's `normalize.less` sets `[hidden] { display: none; }` but bootstrap.min.css set `[hidden] { display: none !important; }` so we also need the `!important` here to be able to override the default hidden behavior on the sphinx rendered scikit-learn.org. See: https://github.com/scikit-learn/scikit-learn/issues/21755 */display: inline-block !important;position: relative;}#sk-container-id-6 div.sk-text-repr-fallback {display: none;}</style><div id=\"sk-container-id-6\" class=\"sk-top-container\"><div class=\"sk-text-repr-fallback\"><pre>LGBMRegressor(learning_rate=0.2, max_depth=40, n_estimators=10, num_leaves=300)</pre><b>In a Jupyter environment, please rerun this cell to show the HTML representation or trust the notebook. <br />On GitHub, the HTML representation is unable to render, please try loading this page with nbviewer.org.</b></div><div class=\"sk-container\" hidden><div class=\"sk-item\"><div class=\"sk-estimator sk-toggleable\"><input class=\"sk-toggleable__control sk-hidden--visually\" id=\"sk-estimator-id-10\" type=\"checkbox\" checked><label for=\"sk-estimator-id-10\" class=\"sk-toggleable__label sk-toggleable__label-arrow\">LGBMRegressor</label><div class=\"sk-toggleable__content\"><pre>LGBMRegressor(learning_rate=0.2, max_depth=40, n_estimators=10, num_leaves=300)</pre></div></div></div></div></div>"
      ],
      "text/plain": [
       "LGBMRegressor(learning_rate=0.2, max_depth=40, n_estimators=10, num_leaves=300)"
      ]
     },
     "execution_count": 59,
     "metadata": {},
     "output_type": "execute_result"
    }
   ],
   "source": [
    "%%time\n",
    "\n",
    "# с гиперпараметрами\n",
    "lg_model = LGBMRegressor(max_depth= lg_params['max_depth'],\n",
    "                             learning_rate = lg_params['learning_rate'],\n",
    "                             num_leaves = lg_params['num_leaves'],\n",
    "                             n_estimators = lg_params['n_estimators'])\n",
    "\n",
    "lg_model.fit(features_train, target_train)"
   ]
  },
  {
   "cell_type": "code",
   "execution_count": 60,
   "metadata": {},
   "outputs": [
    {
     "name": "stdout",
     "output_type": "stream",
     "text": [
      "RMSE модели LGBMRegressor: 916.5468497496529\n",
      "CPU times: user 635 ms, sys: 199 ms, total: 834 ms\n",
      "Wall time: 836 ms\n"
     ]
    }
   ],
   "source": [
    "%%time\n",
    "\n",
    "lg_model_predictions = lg_model.predict(features_train)\n",
    "\n",
    "lg_RMSE = mean_squared_error(target_train, lg_model_predictions) ** 0.5\n",
    "print('RMSE модели LGBMRegressor:', lg_RMSE)"
   ]
  },
  {
   "cell_type": "code",
   "execution_count": 62,
   "metadata": {},
   "outputs": [
    {
     "data": {
      "text/plain": [
       "933.9274435447953"
      ]
     },
     "execution_count": 62,
     "metadata": {},
     "output_type": "execute_result"
    }
   ],
   "source": [
    "predictions_test = lg_model.predict(features_test)\n",
    "rmse_test = mean_squared_error(target_test, predictions_test) ** 0.5\n",
    "rmse_test"
   ]
  },
  {
   "cell_type": "markdown",
   "metadata": {},
   "source": [
    "## Анализ моделей"
   ]
  },
  {
   "cell_type": "code",
   "execution_count": 80,
   "metadata": {},
   "outputs": [
    {
     "data": {
      "text/html": [
       "<div>\n",
       "<style scoped>\n",
       "    .dataframe tbody tr th:only-of-type {\n",
       "        vertical-align: middle;\n",
       "    }\n",
       "\n",
       "    .dataframe tbody tr th {\n",
       "        vertical-align: top;\n",
       "    }\n",
       "\n",
       "    .dataframe thead th {\n",
       "        text-align: right;\n",
       "    }\n",
       "</style>\n",
       "<table border=\"1\" class=\"dataframe\">\n",
       "  <thead>\n",
       "    <tr style=\"text-align: right;\">\n",
       "      <th></th>\n",
       "      <th>Модель</th>\n",
       "      <th>Время обучения, сек</th>\n",
       "      <th>Время предсказания, сек</th>\n",
       "      <th>RMSE</th>\n",
       "    </tr>\n",
       "  </thead>\n",
       "  <tbody>\n",
       "    <tr>\n",
       "      <th>0</th>\n",
       "      <td>Случайный лес</td>\n",
       "      <td>18.3</td>\n",
       "      <td>0.240</td>\n",
       "      <td>1091.746771</td>\n",
       "    </tr>\n",
       "    <tr>\n",
       "      <th>1</th>\n",
       "      <td>Линейная регрессия</td>\n",
       "      <td>29.0</td>\n",
       "      <td>0.074</td>\n",
       "      <td>1195.311000</td>\n",
       "    </tr>\n",
       "    <tr>\n",
       "      <th>2</th>\n",
       "      <td>LGBMRegressor</td>\n",
       "      <td>322.8</td>\n",
       "      <td>10.800</td>\n",
       "      <td>916.546850</td>\n",
       "    </tr>\n",
       "  </tbody>\n",
       "</table>\n",
       "</div>"
      ],
      "text/plain": [
       "               Модель  Время обучения, сек  Время предсказания, сек  \\\n",
       "0       Случайный лес                 18.3                    0.240   \n",
       "1  Линейная регрессия                 29.0                    0.074   \n",
       "2       LGBMRegressor                322.8                   10.800   \n",
       "\n",
       "          RMSE  \n",
       "0  1091.746771  \n",
       "1  1195.311000  \n",
       "2   916.546850  "
      ]
     },
     "metadata": {},
     "output_type": "display_data"
    }
   ],
   "source": [
    "columns = ['Модель', 'Время обучения, сек', 'Время предсказания, сек', 'RMSE']\n",
    "regression_model = ['Линейная регрессия', 29, 0.074, regression_RMSE]\n",
    "forest_model = ['Случайный лес', 18.3, 0.24, forest_RMSE]\n",
    "lg_model = ['LGBMRegressor', 322.8, 10.8, lg_RMSE]\n",
    "\n",
    "table = pd.DataFrame([forest_model, regression_model, lg_model], columns = columns)\n",
    "\n",
    "display(table)"
   ]
  },
  {
   "cell_type": "markdown",
   "metadata": {},
   "source": [
    "Итак, были обучены и проверены 3 модели: Линейная регрессия, Случайный лес, LGBMRegressor. Лучшие результаты по качеству показала модель LGBMRegressor, при параметрах learning_rate=0.2, max_depth=40, n_estimators=10, num_leaves=300 удалось достигнуть RMSE 916.54, однако время обучения длительное - 322,8 с. При тестировании результат: 933.9."
   ]
  },
  {
   "cell_type": "markdown",
   "metadata": {},
   "source": [
    "# Тестирование лучшей модели"
   ]
  },
  {
   "cell_type": "markdown",
   "metadata": {},
   "source": [
    "Таким образом, в ходе работы было произведена загрузка данных, ознакомление со статистическим набором показателей, подготовка и обучение моделей, анализ результатов. \n",
    "\n",
    "- Обработаны пропуски в данных: VehicleType, FuelType, Gearbox, Repaired.\n",
    "- Удалены столбцы, которые не потребовались в обучении.\n",
    "- Обработаны аномальные значения в количественных данных.\n",
    "- Проверена корреляция.\n",
    "- Подготовлены выборки для обучения (разделены выборки на обучающую и тестовую, определен целевой признак, закодированы категориальные признаки, проведено масштабирование числовых признаков).\n",
    "- GridSearchCV с кросс-валидацией подобраны гиперпараметры для моделей: Линейная регрессия, Случайный лес, LGBMRegressor.\n",
    "- Произведена проверка на тестовой выборке.\n",
    "\n",
    "В итоге, лучшие результаты по качеству показала модель LGBMRegressor, при параметрах learning_rate=0.2, max_depth=40, n_estimators=10, num_leaves=300 удалось достигнуть RMSE 916.54, однако время обучения длительное - 322,8 с. При тестировании результат: 933.9. Однако при небольшой разнице RMSE с моделью случайного леса - 1091.74. И при времени обучения модели в 18.3 с., результат модели вполне логично считать лучшим.\n",
    "Для работы заказчику рекомендуется все же применять модель на основе RandomForestRegressor."
   ]
  }
 ],
 "metadata": {
  "ExecuteTimeLog": [
   {
    "duration": 1612,
    "start_time": "2023-01-23T09:13:19.684Z"
   },
   {
    "duration": 1090,
    "start_time": "2023-01-23T09:19:37.043Z"
   },
   {
    "duration": 20,
    "start_time": "2023-01-23T09:19:56.459Z"
   },
   {
    "duration": 234,
    "start_time": "2023-01-23T09:20:41.649Z"
   },
   {
    "duration": 4,
    "start_time": "2023-01-23T09:21:09.698Z"
   },
   {
    "duration": 253,
    "start_time": "2023-01-23T09:21:11.995Z"
   },
   {
    "duration": 451,
    "start_time": "2023-01-23T09:21:49.514Z"
   },
   {
    "duration": 411,
    "start_time": "2023-01-23T11:11:54.813Z"
   },
   {
    "duration": 425,
    "start_time": "2023-01-23T11:12:27.180Z"
   },
   {
    "duration": 399,
    "start_time": "2023-01-23T11:12:36.860Z"
   },
   {
    "duration": 1687,
    "start_time": "2023-01-24T05:52:36.050Z"
   },
   {
    "duration": 3045,
    "start_time": "2023-01-24T05:52:38.897Z"
   },
   {
    "duration": 24,
    "start_time": "2023-01-24T05:52:41.944Z"
   },
   {
    "duration": 228,
    "start_time": "2023-01-24T05:52:43.889Z"
   },
   {
    "duration": 138,
    "start_time": "2023-01-24T05:52:47.410Z"
   },
   {
    "duration": 1028,
    "start_time": "2023-01-24T06:03:39.673Z"
   },
   {
    "duration": 422,
    "start_time": "2023-01-24T06:03:47.813Z"
   },
   {
    "duration": 880,
    "start_time": "2023-01-24T06:03:49.399Z"
   },
   {
    "duration": 113,
    "start_time": "2023-01-24T06:07:41.504Z"
   },
   {
    "duration": 122,
    "start_time": "2023-01-24T07:39:00.165Z"
   },
   {
    "duration": 89,
    "start_time": "2023-01-24T07:40:33.972Z"
   },
   {
    "duration": 116,
    "start_time": "2023-01-24T07:47:29.423Z"
   },
   {
    "duration": 112,
    "start_time": "2023-01-24T07:48:20.157Z"
   },
   {
    "duration": 73,
    "start_time": "2023-01-24T08:29:35.672Z"
   },
   {
    "duration": 674,
    "start_time": "2023-01-24T11:21:23.958Z"
   },
   {
    "duration": 1458,
    "start_time": "2023-01-24T11:27:08.554Z"
   },
   {
    "duration": 889,
    "start_time": "2023-01-24T11:27:11.272Z"
   },
   {
    "duration": 20,
    "start_time": "2023-01-24T11:27:13.306Z"
   },
   {
    "duration": 294,
    "start_time": "2023-01-24T11:27:15.936Z"
   },
   {
    "duration": 118,
    "start_time": "2023-01-24T11:27:19.153Z"
   },
   {
    "duration": 479,
    "start_time": "2023-01-24T11:27:22.130Z"
   },
   {
    "duration": 997,
    "start_time": "2023-01-24T11:27:24.256Z"
   },
   {
    "duration": 116,
    "start_time": "2023-01-24T11:27:36.369Z"
   },
   {
    "duration": 131,
    "start_time": "2023-01-24T11:27:44.633Z"
   },
   {
    "duration": 117,
    "start_time": "2023-01-24T11:27:54.754Z"
   },
   {
    "duration": 885,
    "start_time": "2023-01-24T11:28:26.562Z"
   },
   {
    "duration": 736,
    "start_time": "2023-01-24T11:29:42.246Z"
   },
   {
    "duration": 114,
    "start_time": "2023-01-24T11:33:20.003Z"
   },
   {
    "duration": 761,
    "start_time": "2023-01-24T11:33:24.776Z"
   },
   {
    "duration": 113,
    "start_time": "2023-01-24T11:33:48.286Z"
   },
   {
    "duration": 818,
    "start_time": "2023-01-24T11:34:51.656Z"
   },
   {
    "duration": 67,
    "start_time": "2023-01-24T11:51:16.515Z"
   },
   {
    "duration": 96,
    "start_time": "2023-01-24T11:55:17.269Z"
   },
   {
    "duration": 6,
    "start_time": "2023-01-24T11:55:23.076Z"
   },
   {
    "duration": 17,
    "start_time": "2023-01-24T11:56:41.990Z"
   },
   {
    "duration": 10,
    "start_time": "2023-01-24T11:57:36.465Z"
   },
   {
    "duration": 115,
    "start_time": "2023-01-24T11:59:10.506Z"
   },
   {
    "duration": 5,
    "start_time": "2023-01-24T11:59:20.970Z"
   },
   {
    "duration": 67,
    "start_time": "2023-01-24T12:00:25.580Z"
   },
   {
    "duration": 7,
    "start_time": "2023-01-24T12:02:56.932Z"
   },
   {
    "duration": 11,
    "start_time": "2023-01-24T12:03:32.406Z"
   },
   {
    "duration": 19,
    "start_time": "2023-01-24T12:03:38.886Z"
   },
   {
    "duration": 9,
    "start_time": "2023-01-24T12:04:01.461Z"
   },
   {
    "duration": 1803,
    "start_time": "2023-01-24T12:04:30.181Z"
   },
   {
    "duration": 8,
    "start_time": "2023-01-24T12:05:13.325Z"
   },
   {
    "duration": 15,
    "start_time": "2023-01-24T12:05:38.941Z"
   },
   {
    "duration": 25,
    "start_time": "2023-01-24T12:06:06.516Z"
   },
   {
    "duration": 343,
    "start_time": "2023-01-24T12:07:54.654Z"
   },
   {
    "duration": 500,
    "start_time": "2023-01-24T12:19:26.879Z"
   },
   {
    "duration": 531,
    "start_time": "2023-01-24T12:22:19.115Z"
   },
   {
    "duration": 350,
    "start_time": "2023-01-24T12:22:52.714Z"
   },
   {
    "duration": 512,
    "start_time": "2023-01-24T12:23:00.409Z"
   },
   {
    "duration": 637,
    "start_time": "2023-01-24T12:23:45.466Z"
   },
   {
    "duration": 475,
    "start_time": "2023-01-24T12:26:40.417Z"
   },
   {
    "duration": 9,
    "start_time": "2023-01-24T12:29:12.617Z"
   },
   {
    "duration": 163,
    "start_time": "2023-01-24T13:00:08.255Z"
   },
   {
    "duration": 146,
    "start_time": "2023-01-24T13:02:24.604Z"
   },
   {
    "duration": 163,
    "start_time": "2023-01-24T13:02:45.953Z"
   },
   {
    "duration": 153,
    "start_time": "2023-01-24T13:02:51.953Z"
   },
   {
    "duration": 323,
    "start_time": "2023-01-24T13:08:02.724Z"
   },
   {
    "duration": 299,
    "start_time": "2023-01-24T13:08:10.833Z"
   },
   {
    "duration": 1410,
    "start_time": "2023-01-24T13:26:16.628Z"
   },
   {
    "duration": 14,
    "start_time": "2023-01-24T13:31:19.096Z"
   },
   {
    "duration": 9,
    "start_time": "2023-01-24T13:31:27.313Z"
   },
   {
    "duration": 1823,
    "start_time": "2023-01-25T05:40:04.906Z"
   },
   {
    "duration": 3089,
    "start_time": "2023-01-25T05:40:07.979Z"
   },
   {
    "duration": 17,
    "start_time": "2023-01-25T05:40:11.820Z"
   },
   {
    "duration": 218,
    "start_time": "2023-01-25T05:40:14.761Z"
   },
   {
    "duration": 126,
    "start_time": "2023-01-25T05:40:17.224Z"
   },
   {
    "duration": 448,
    "start_time": "2023-01-25T05:40:20.009Z"
   },
   {
    "duration": 910,
    "start_time": "2023-01-25T05:40:21.826Z"
   },
   {
    "duration": 102,
    "start_time": "2023-01-25T05:41:17.114Z"
   },
   {
    "duration": 60,
    "start_time": "2023-01-25T05:41:21.850Z"
   },
   {
    "duration": 143,
    "start_time": "2023-01-25T05:42:38.443Z"
   },
   {
    "duration": 134,
    "start_time": "2023-01-25T05:42:50.877Z"
   },
   {
    "duration": 793,
    "start_time": "2023-01-25T05:45:50.472Z"
   },
   {
    "duration": 53,
    "start_time": "2023-01-25T05:46:58.320Z"
   },
   {
    "duration": 18,
    "start_time": "2023-01-25T05:47:14.353Z"
   },
   {
    "duration": 71,
    "start_time": "2023-01-25T05:51:40.116Z"
   },
   {
    "duration": 66,
    "start_time": "2023-01-25T05:54:28.681Z"
   },
   {
    "duration": 145,
    "start_time": "2023-01-25T05:58:22.896Z"
   },
   {
    "duration": 11,
    "start_time": "2023-01-25T05:58:37.637Z"
   },
   {
    "duration": 11,
    "start_time": "2023-01-25T05:59:00.581Z"
   },
   {
    "duration": 10,
    "start_time": "2023-01-25T06:01:22.088Z"
   },
   {
    "duration": 22,
    "start_time": "2023-01-25T06:02:05.839Z"
   },
   {
    "duration": 19,
    "start_time": "2023-01-25T06:03:24.475Z"
   },
   {
    "duration": 3,
    "start_time": "2023-01-25T06:06:01.725Z"
   },
   {
    "duration": 6,
    "start_time": "2023-01-25T06:06:04.636Z"
   },
   {
    "duration": 256,
    "start_time": "2023-01-25T06:10:02.008Z"
   },
   {
    "duration": 28,
    "start_time": "2023-01-25T06:10:49.329Z"
   },
   {
    "duration": 29,
    "start_time": "2023-01-25T06:11:57.881Z"
   },
   {
    "duration": 30,
    "start_time": "2023-01-25T06:12:04.551Z"
   },
   {
    "duration": 259,
    "start_time": "2023-01-25T06:25:08.366Z"
   },
   {
    "duration": 424,
    "start_time": "2023-01-25T06:25:16.294Z"
   },
   {
    "duration": 119,
    "start_time": "2023-01-25T06:26:28.495Z"
   },
   {
    "duration": 200,
    "start_time": "2023-01-25T06:27:40.608Z"
   },
   {
    "duration": 10,
    "start_time": "2023-01-25T06:29:16.682Z"
   },
   {
    "duration": 10,
    "start_time": "2023-01-25T06:30:20.443Z"
   },
   {
    "duration": 109,
    "start_time": "2023-01-25T06:32:00.381Z"
   },
   {
    "duration": 281,
    "start_time": "2023-01-25T06:32:27.605Z"
   },
   {
    "duration": 4,
    "start_time": "2023-01-25T06:37:05.865Z"
   },
   {
    "duration": 1140,
    "start_time": "2023-01-25T06:37:33.521Z"
   },
   {
    "duration": 111,
    "start_time": "2023-01-25T06:38:39.907Z"
   },
   {
    "duration": 210,
    "start_time": "2023-01-25T06:38:56.003Z"
   },
   {
    "duration": 80,
    "start_time": "2023-01-25T06:40:12.525Z"
   },
   {
    "duration": 27,
    "start_time": "2023-01-25T06:41:38.606Z"
   },
   {
    "duration": 28,
    "start_time": "2023-01-25T06:42:29.751Z"
   },
   {
    "duration": 98,
    "start_time": "2023-01-25T06:43:15.075Z"
   },
   {
    "duration": 406,
    "start_time": "2023-01-25T06:43:21.209Z"
   },
   {
    "duration": 331,
    "start_time": "2023-01-25T06:50:39.609Z"
   },
   {
    "duration": 365,
    "start_time": "2023-01-25T06:51:04.241Z"
   },
   {
    "duration": 10,
    "start_time": "2023-01-25T06:54:50.670Z"
   },
   {
    "duration": 169,
    "start_time": "2023-01-25T06:54:53.725Z"
   },
   {
    "duration": 166,
    "start_time": "2023-01-25T06:54:56.022Z"
   },
   {
    "duration": 207,
    "start_time": "2023-01-25T06:55:06.949Z"
   },
   {
    "duration": 179,
    "start_time": "2023-01-25T06:55:23.247Z"
   },
   {
    "duration": 132,
    "start_time": "2023-01-25T06:57:01.727Z"
   },
   {
    "duration": 91,
    "start_time": "2023-01-25T06:57:15.113Z"
   },
   {
    "duration": 3,
    "start_time": "2023-01-25T06:58:52.130Z"
   },
   {
    "duration": 112,
    "start_time": "2023-01-25T06:59:41.259Z"
   },
   {
    "duration": 4,
    "start_time": "2023-01-25T07:01:16.941Z"
   },
   {
    "duration": 122,
    "start_time": "2023-01-25T07:20:01.444Z"
   },
   {
    "duration": 10,
    "start_time": "2023-01-25T07:42:01.109Z"
   },
   {
    "duration": 3,
    "start_time": "2023-01-25T07:44:14.305Z"
   },
   {
    "duration": 11,
    "start_time": "2023-01-25T07:44:32.640Z"
   },
   {
    "duration": 18,
    "start_time": "2023-01-25T07:44:39.464Z"
   },
   {
    "duration": 18,
    "start_time": "2023-01-25T07:45:57.235Z"
   },
   {
    "duration": 36117,
    "start_time": "2023-01-25T07:58:07.843Z"
   },
   {
    "duration": 11,
    "start_time": "2023-01-25T08:08:01.082Z"
   },
   {
    "duration": 12,
    "start_time": "2023-01-25T08:09:12.685Z"
   },
   {
    "duration": 3950,
    "start_time": "2023-01-25T08:10:39.746Z"
   },
   {
    "duration": 4030,
    "start_time": "2023-01-25T08:11:49.651Z"
   },
   {
    "duration": 48,
    "start_time": "2023-01-25T08:30:43.159Z"
   },
   {
    "duration": 1084,
    "start_time": "2023-01-25T08:32:57.173Z"
   },
   {
    "duration": 10,
    "start_time": "2023-01-25T08:33:24.721Z"
   },
   {
    "duration": 8,
    "start_time": "2023-01-25T08:34:26.771Z"
   },
   {
    "duration": 10,
    "start_time": "2023-01-25T08:35:04.873Z"
   },
   {
    "duration": 1434,
    "start_time": "2023-01-25T08:35:18.961Z"
   },
   {
    "duration": 3066,
    "start_time": "2023-01-25T08:35:22.216Z"
   },
   {
    "duration": 19,
    "start_time": "2023-01-25T08:35:26.696Z"
   },
   {
    "duration": 261,
    "start_time": "2023-01-25T08:35:29.227Z"
   },
   {
    "duration": 133,
    "start_time": "2023-01-25T08:35:31.704Z"
   },
   {
    "duration": 499,
    "start_time": "2023-01-25T08:35:34.457Z"
   },
   {
    "duration": 1218,
    "start_time": "2023-01-25T08:35:36.369Z"
   },
   {
    "duration": 118,
    "start_time": "2023-01-25T08:35:39.161Z"
   },
   {
    "duration": 134,
    "start_time": "2023-01-25T08:35:41.984Z"
   },
   {
    "duration": 128,
    "start_time": "2023-01-25T08:35:44.418Z"
   },
   {
    "duration": 806,
    "start_time": "2023-01-25T08:35:46.793Z"
   },
   {
    "duration": 57,
    "start_time": "2023-01-25T08:35:49.828Z"
   },
   {
    "duration": 22,
    "start_time": "2023-01-25T08:35:52.057Z"
   },
   {
    "duration": 45,
    "start_time": "2023-01-25T08:35:54.625Z"
   },
   {
    "duration": 7,
    "start_time": "2023-01-25T08:35:56.961Z"
   },
   {
    "duration": 38,
    "start_time": "2023-01-25T08:35:59.034Z"
   },
   {
    "duration": 291,
    "start_time": "2023-01-25T08:36:01.793Z"
   },
   {
    "duration": 237,
    "start_time": "2023-01-25T08:36:04.393Z"
   },
   {
    "duration": 12,
    "start_time": "2023-01-25T08:36:06.809Z"
   },
   {
    "duration": 21,
    "start_time": "2023-01-25T08:36:08.825Z"
   },
   {
    "duration": 316,
    "start_time": "2023-01-25T08:36:10.562Z"
   },
   {
    "duration": 140,
    "start_time": "2023-01-25T08:36:13.729Z"
   },
   {
    "duration": 28,
    "start_time": "2023-01-25T08:36:15.738Z"
   },
   {
    "duration": 320,
    "start_time": "2023-01-25T08:36:18.018Z"
   },
   {
    "duration": 407,
    "start_time": "2023-01-25T08:36:20.643Z"
   },
   {
    "duration": 239,
    "start_time": "2023-01-25T08:36:23.050Z"
   },
   {
    "duration": 146,
    "start_time": "2023-01-25T08:36:26.210Z"
   },
   {
    "duration": 174,
    "start_time": "2023-01-25T08:36:29.338Z"
   },
   {
    "duration": 5,
    "start_time": "2023-01-25T08:36:34.553Z"
   },
   {
    "duration": 211997,
    "start_time": "2023-01-25T08:36:43.706Z"
   },
   {
    "duration": 12,
    "start_time": "2023-01-25T09:36:45.933Z"
   },
   {
    "duration": 6,
    "start_time": "2023-01-25T09:36:56.166Z"
   },
   {
    "duration": 16,
    "start_time": "2023-01-25T09:37:10.830Z"
   },
   {
    "duration": 106915,
    "start_time": "2023-01-25T11:07:25.738Z"
   },
   {
    "duration": 28857,
    "start_time": "2023-01-25T11:12:35.118Z"
   },
   {
    "duration": 39478,
    "start_time": "2023-01-25T11:34:30.046Z"
   },
   {
    "duration": 1759,
    "start_time": "2023-01-25T11:38:03.385Z"
   },
   {
    "duration": 27691,
    "start_time": "2023-01-25T11:42:10.968Z"
   },
   {
    "duration": 31620,
    "start_time": "2023-01-25T11:44:33.531Z"
   },
   {
    "duration": 136,
    "start_time": "2023-01-25T11:46:06.326Z"
   },
   {
    "duration": 1744,
    "start_time": "2023-01-26T05:08:14.414Z"
   },
   {
    "duration": 3178,
    "start_time": "2023-01-26T05:08:17.741Z"
   },
   {
    "duration": 18,
    "start_time": "2023-01-26T05:08:20.921Z"
   },
   {
    "duration": 234,
    "start_time": "2023-01-26T05:08:26.173Z"
   },
   {
    "duration": 104,
    "start_time": "2023-01-26T05:08:28.509Z"
   },
   {
    "duration": 499,
    "start_time": "2023-01-26T05:08:30.821Z"
   },
   {
    "duration": 1064,
    "start_time": "2023-01-26T05:08:32.614Z"
   },
   {
    "duration": 101,
    "start_time": "2023-01-26T05:08:35.173Z"
   },
   {
    "duration": 137,
    "start_time": "2023-01-26T05:08:37.726Z"
   },
   {
    "duration": 125,
    "start_time": "2023-01-26T05:08:39.909Z"
   },
   {
    "duration": 786,
    "start_time": "2023-01-26T05:08:42.485Z"
   },
   {
    "duration": 63,
    "start_time": "2023-01-26T05:08:45.189Z"
   },
   {
    "duration": 22,
    "start_time": "2023-01-26T05:08:47.454Z"
   },
   {
    "duration": 43,
    "start_time": "2023-01-26T05:08:49.918Z"
   },
   {
    "duration": 6,
    "start_time": "2023-01-26T05:08:51.757Z"
   },
   {
    "duration": 44,
    "start_time": "2023-01-26T05:08:53.981Z"
   },
   {
    "duration": 377,
    "start_time": "2023-01-26T05:08:56.902Z"
   },
   {
    "duration": 151,
    "start_time": "2023-01-26T05:08:59.262Z"
   },
   {
    "duration": 14,
    "start_time": "2023-01-26T05:09:01.461Z"
   },
   {
    "duration": 20,
    "start_time": "2023-01-26T05:09:03.277Z"
   },
   {
    "duration": 364,
    "start_time": "2023-01-26T05:09:05.221Z"
   },
   {
    "duration": 124,
    "start_time": "2023-01-26T05:09:08.402Z"
   },
   {
    "duration": 42,
    "start_time": "2023-01-26T05:09:10.190Z"
   },
   {
    "duration": 352,
    "start_time": "2023-01-26T05:09:12.357Z"
   },
   {
    "duration": 415,
    "start_time": "2023-01-26T05:09:14.846Z"
   },
   {
    "duration": 232,
    "start_time": "2023-01-26T05:09:17.822Z"
   },
   {
    "duration": 156,
    "start_time": "2023-01-26T05:09:23.047Z"
   },
   {
    "duration": 172,
    "start_time": "2023-01-26T05:09:24.934Z"
   },
   {
    "duration": 5,
    "start_time": "2023-01-26T05:09:27.373Z"
   },
   {
    "duration": 36636,
    "start_time": "2023-01-26T05:10:19.719Z"
   },
   {
    "duration": 70591,
    "start_time": "2023-01-26T05:11:18.344Z"
   },
   {
    "duration": 128,
    "start_time": "2023-01-26T05:26:21.086Z"
   },
   {
    "duration": 4860,
    "start_time": "2023-01-26T05:26:41.439Z"
   },
   {
    "duration": 1439077,
    "start_time": "2023-01-26T05:29:26.627Z"
   },
   {
    "duration": 10,
    "start_time": "2023-01-26T05:54:03.757Z"
   },
   {
    "duration": 3,
    "start_time": "2023-01-26T05:54:17.006Z"
   },
   {
    "duration": 3,
    "start_time": "2023-01-26T05:54:29.518Z"
   },
   {
    "duration": 1479,
    "start_time": "2023-01-26T06:20:22.409Z"
   },
   {
    "duration": 834,
    "start_time": "2023-01-26T06:20:24.806Z"
   },
   {
    "duration": 23,
    "start_time": "2023-01-26T06:20:26.596Z"
   },
   {
    "duration": 218,
    "start_time": "2023-01-26T06:20:29.056Z"
   },
   {
    "duration": 111,
    "start_time": "2023-01-26T06:20:31.107Z"
   },
   {
    "duration": 436,
    "start_time": "2023-01-26T06:20:33.280Z"
   },
   {
    "duration": 893,
    "start_time": "2023-01-26T06:20:35.065Z"
   },
   {
    "duration": 92,
    "start_time": "2023-01-26T06:20:37.320Z"
   },
   {
    "duration": 116,
    "start_time": "2023-01-26T06:20:39.313Z"
   },
   {
    "duration": 132,
    "start_time": "2023-01-26T06:20:41.707Z"
   },
   {
    "duration": 849,
    "start_time": "2023-01-26T06:20:43.672Z"
   },
   {
    "duration": 63,
    "start_time": "2023-01-26T06:20:46.640Z"
   },
   {
    "duration": 20,
    "start_time": "2023-01-26T06:20:48.752Z"
   },
   {
    "duration": 58,
    "start_time": "2023-01-26T06:20:52.521Z"
   },
   {
    "duration": 6,
    "start_time": "2023-01-26T06:20:54.307Z"
   },
   {
    "duration": 41,
    "start_time": "2023-01-26T06:20:56.520Z"
   },
   {
    "duration": 300,
    "start_time": "2023-01-26T06:20:58.840Z"
   },
   {
    "duration": 138,
    "start_time": "2023-01-26T06:21:01.041Z"
   },
   {
    "duration": 11,
    "start_time": "2023-01-26T06:21:03.472Z"
   },
   {
    "duration": 23,
    "start_time": "2023-01-26T06:21:05.160Z"
   },
   {
    "duration": 371,
    "start_time": "2023-01-26T06:21:06.808Z"
   },
   {
    "duration": 126,
    "start_time": "2023-01-26T06:21:10.473Z"
   },
   {
    "duration": 29,
    "start_time": "2023-01-26T06:21:12.329Z"
   },
   {
    "duration": 297,
    "start_time": "2023-01-26T06:21:14.585Z"
   },
   {
    "duration": 377,
    "start_time": "2023-01-26T06:21:16.929Z"
   },
   {
    "duration": 236,
    "start_time": "2023-01-26T06:21:22.009Z"
   },
   {
    "duration": 142,
    "start_time": "2023-01-26T06:21:24.337Z"
   },
   {
    "duration": 174,
    "start_time": "2023-01-26T06:21:26.513Z"
   },
   {
    "duration": 5,
    "start_time": "2023-01-26T06:21:28.360Z"
   },
   {
    "duration": 8923,
    "start_time": "2023-01-26T06:22:11.514Z"
   },
   {
    "duration": 116,
    "start_time": "2023-01-26T06:29:50.116Z"
   },
   {
    "duration": 12,
    "start_time": "2023-01-26T06:30:48.004Z"
   },
   {
    "duration": 12,
    "start_time": "2023-01-26T06:32:54.350Z"
   },
   {
    "duration": 4,
    "start_time": "2023-01-26T06:33:40.190Z"
   },
   {
    "duration": 11,
    "start_time": "2023-01-26T06:33:42.306Z"
   },
   {
    "duration": 4,
    "start_time": "2023-01-26T06:34:45.863Z"
   },
   {
    "duration": 17,
    "start_time": "2023-01-26T06:35:25.943Z"
   },
   {
    "duration": 723064,
    "start_time": "2023-01-26T06:38:40.643Z"
   },
   {
    "duration": 14,
    "start_time": "2023-01-26T07:01:10.850Z"
   },
   {
    "duration": 3,
    "start_time": "2023-01-26T07:03:12.508Z"
   },
   {
    "duration": 4,
    "start_time": "2023-01-26T07:03:58.606Z"
   },
   {
    "duration": 9,
    "start_time": "2023-01-26T07:04:11.821Z"
   },
   {
    "duration": 125,
    "start_time": "2023-01-26T07:04:45.271Z"
   },
   {
    "duration": 86,
    "start_time": "2023-01-26T07:04:55.077Z"
   },
   {
    "duration": 90,
    "start_time": "2023-01-26T07:05:51.686Z"
   },
   {
    "duration": 125621,
    "start_time": "2023-01-26T07:06:15.982Z"
   },
   {
    "duration": 12,
    "start_time": "2023-01-26T07:08:21.611Z"
   },
   {
    "duration": 4,
    "start_time": "2023-01-26T07:10:23.684Z"
   },
   {
    "duration": 127371,
    "start_time": "2023-01-26T07:10:26.851Z"
   },
   {
    "duration": 279,
    "start_time": "2023-01-26T07:13:21.654Z"
   },
   {
    "duration": 61,
    "start_time": "2023-01-26T07:27:25.070Z"
   },
   {
    "duration": 9609,
    "start_time": "2023-01-26T07:27:35.519Z"
   },
   {
    "duration": 21770,
    "start_time": "2023-01-26T07:28:23.648Z"
   },
   {
    "duration": 23677,
    "start_time": "2023-01-26T07:30:38.531Z"
   },
   {
    "duration": 10332,
    "start_time": "2023-01-26T07:31:09.683Z"
   },
   {
    "duration": 22033,
    "start_time": "2023-01-26T07:31:31.571Z"
   },
   {
    "duration": 28839,
    "start_time": "2023-01-26T07:31:59.068Z"
   },
   {
    "duration": 4574,
    "start_time": "2023-01-26T07:51:24.723Z"
   },
   {
    "duration": 699,
    "start_time": "2023-01-26T07:51:36.017Z"
   },
   {
    "duration": 2036,
    "start_time": "2023-01-26T07:51:47.250Z"
   },
   {
    "duration": 571,
    "start_time": "2023-01-26T07:52:09.347Z"
   },
   {
    "duration": 4440,
    "start_time": "2023-01-26T07:52:20.880Z"
   },
   {
    "duration": 1847,
    "start_time": "2023-01-26T07:52:46.659Z"
   },
   {
    "duration": 68242,
    "start_time": "2023-01-26T08:01:11.461Z"
   },
   {
    "duration": 693,
    "start_time": "2023-01-26T08:02:42.621Z"
   },
   {
    "duration": 708,
    "start_time": "2023-01-26T08:03:36.405Z"
   },
   {
    "duration": 4,
    "start_time": "2023-01-26T08:03:51.191Z"
   },
   {
    "duration": 78564,
    "start_time": "2023-01-26T08:03:53.047Z"
   },
   {
    "duration": 878,
    "start_time": "2023-01-26T08:05:18.529Z"
   },
   {
    "duration": 3,
    "start_time": "2023-01-26T08:10:29.640Z"
   },
   {
    "duration": 46567,
    "start_time": "2023-01-26T08:10:31.551Z"
   },
   {
    "duration": 905,
    "start_time": "2023-01-26T08:11:27.902Z"
   },
   {
    "duration": 16,
    "start_time": "2023-01-26T08:17:06.618Z"
   },
   {
    "duration": 4,
    "start_time": "2023-01-26T08:20:32.672Z"
   },
   {
    "duration": 6,
    "start_time": "2023-01-26T08:20:37.010Z"
   },
   {
    "duration": 192,
    "start_time": "2023-01-26T08:21:44.419Z"
   },
   {
    "duration": 7,
    "start_time": "2023-01-26T08:21:57.148Z"
   },
   {
    "duration": 33805,
    "start_time": "2023-01-26T08:33:25.586Z"
   },
   {
    "duration": 39145,
    "start_time": "2023-01-26T08:35:01.355Z"
   },
   {
    "duration": 11,
    "start_time": "2023-01-26T08:46:52.616Z"
   },
   {
    "duration": 17,
    "start_time": "2023-01-26T08:52:33.424Z"
   },
   {
    "duration": 14,
    "start_time": "2023-01-26T09:08:16.131Z"
   },
   {
    "duration": 12,
    "start_time": "2023-01-26T09:08:34.445Z"
   },
   {
    "duration": 763512,
    "start_time": "2023-01-26T09:13:05.798Z"
   },
   {
    "duration": 115648,
    "start_time": "2023-01-26T09:31:29.357Z"
   },
   {
    "duration": 1430,
    "start_time": "2023-01-26T11:17:34.140Z"
   },
   {
    "duration": 913,
    "start_time": "2023-01-26T11:17:36.636Z"
   },
   {
    "duration": 26,
    "start_time": "2023-01-26T11:17:39.707Z"
   },
   {
    "duration": 265,
    "start_time": "2023-01-26T11:17:42.164Z"
   },
   {
    "duration": 114,
    "start_time": "2023-01-26T11:17:44.652Z"
   },
   {
    "duration": 525,
    "start_time": "2023-01-26T11:17:47.164Z"
   },
   {
    "duration": 1135,
    "start_time": "2023-01-26T11:17:49.324Z"
   },
   {
    "duration": 96,
    "start_time": "2023-01-26T11:17:51.812Z"
   },
   {
    "duration": 123,
    "start_time": "2023-01-26T11:17:54.163Z"
   },
   {
    "duration": 162,
    "start_time": "2023-01-26T11:17:56.007Z"
   },
   {
    "duration": 928,
    "start_time": "2023-01-26T11:17:58.052Z"
   },
   {
    "duration": 62,
    "start_time": "2023-01-26T11:18:00.854Z"
   },
   {
    "duration": 20,
    "start_time": "2023-01-26T11:18:06.917Z"
   },
   {
    "duration": 49,
    "start_time": "2023-01-26T11:18:09.830Z"
   },
   {
    "duration": 7,
    "start_time": "2023-01-26T11:18:12.076Z"
   },
   {
    "duration": 40,
    "start_time": "2023-01-26T11:18:14.461Z"
   },
   {
    "duration": 351,
    "start_time": "2023-01-26T11:18:16.461Z"
   },
   {
    "duration": 139,
    "start_time": "2023-01-26T11:18:19.413Z"
   },
   {
    "duration": 11,
    "start_time": "2023-01-26T11:18:22.213Z"
   },
   {
    "duration": 26,
    "start_time": "2023-01-26T11:18:24.114Z"
   },
   {
    "duration": 440,
    "start_time": "2023-01-26T11:18:26.286Z"
   },
   {
    "duration": 141,
    "start_time": "2023-01-26T11:18:29.173Z"
   },
   {
    "duration": 38,
    "start_time": "2023-01-26T11:18:31.669Z"
   },
   {
    "duration": 325,
    "start_time": "2023-01-26T11:18:34.357Z"
   },
   {
    "duration": 446,
    "start_time": "2023-01-26T11:18:42.173Z"
   },
   {
    "duration": 318,
    "start_time": "2023-01-26T11:19:24.790Z"
   },
   {
    "duration": 121,
    "start_time": "2023-01-26T11:19:26.966Z"
   },
   {
    "duration": 5,
    "start_time": "2023-01-26T11:22:13.537Z"
   },
   {
    "duration": 10,
    "start_time": "2023-01-26T11:23:05.714Z"
   },
   {
    "duration": 4,
    "start_time": "2023-01-26T11:24:58.420Z"
   },
   {
    "duration": 99627,
    "start_time": "2023-01-26T11:25:33.876Z"
   },
   {
    "duration": 161230,
    "start_time": "2023-01-26T11:31:30.668Z"
   },
   {
    "duration": 271,
    "start_time": "2023-01-26T11:35:50.535Z"
   },
   {
    "duration": 5,
    "start_time": "2023-01-26T11:35:52.502Z"
   },
   {
    "duration": 84,
    "start_time": "2023-01-26T11:35:54.343Z"
   },
   {
    "duration": 99,
    "start_time": "2023-01-26T11:37:02.165Z"
   },
   {
    "duration": 12,
    "start_time": "2023-01-26T11:39:41.108Z"
   },
   {
    "duration": 1111500,
    "start_time": "2023-01-26T11:39:48.571Z"
   },
   {
    "duration": 31233,
    "start_time": "2023-01-26T12:02:21.280Z"
   },
   {
    "duration": 364,
    "start_time": "2023-01-26T12:04:46.312Z"
   },
   {
    "duration": 340,
    "start_time": "2023-01-26T12:05:03.221Z"
   },
   {
    "duration": 13,
    "start_time": "2023-01-26T12:06:58.732Z"
   },
   {
    "duration": 82,
    "start_time": "2023-01-26T12:07:32.860Z"
   },
   {
    "duration": 1583,
    "start_time": "2023-01-27T06:50:39.458Z"
   },
   {
    "duration": 2849,
    "start_time": "2023-01-27T06:50:46.624Z"
   },
   {
    "duration": 18,
    "start_time": "2023-01-27T06:50:50.799Z"
   },
   {
    "duration": 222,
    "start_time": "2023-01-27T06:50:53.216Z"
   },
   {
    "duration": 122,
    "start_time": "2023-01-27T06:50:55.647Z"
   },
   {
    "duration": 476,
    "start_time": "2023-01-27T06:50:57.919Z"
   },
   {
    "duration": 987,
    "start_time": "2023-01-27T06:50:59.823Z"
   },
   {
    "duration": 108,
    "start_time": "2023-01-27T06:51:02.351Z"
   },
   {
    "duration": 159,
    "start_time": "2023-01-27T06:51:04.407Z"
   },
   {
    "duration": 125,
    "start_time": "2023-01-27T06:51:06.560Z"
   },
   {
    "duration": 849,
    "start_time": "2023-01-27T06:51:08.343Z"
   },
   {
    "duration": 56,
    "start_time": "2023-01-27T06:51:10.999Z"
   },
   {
    "duration": 19,
    "start_time": "2023-01-27T06:51:13.087Z"
   },
   {
    "duration": 60,
    "start_time": "2023-01-27T06:51:15.231Z"
   },
   {
    "duration": 6,
    "start_time": "2023-01-27T06:51:17.272Z"
   },
   {
    "duration": 43,
    "start_time": "2023-01-27T06:51:19.112Z"
   },
   {
    "duration": 304,
    "start_time": "2023-01-27T06:51:21.399Z"
   },
   {
    "duration": 143,
    "start_time": "2023-01-27T06:51:23.616Z"
   },
   {
    "duration": 743,
    "start_time": "2023-01-27T06:53:30.818Z"
   },
   {
    "duration": 392,
    "start_time": "2023-01-27T06:54:07.026Z"
   },
   {
    "duration": 305,
    "start_time": "2023-01-27T06:54:14.244Z"
   },
   {
    "duration": 130,
    "start_time": "2023-01-27T06:54:20.771Z"
   },
   {
    "duration": 12,
    "start_time": "2023-01-27T06:54:23.109Z"
   },
   {
    "duration": 19,
    "start_time": "2023-01-27T06:54:25.138Z"
   },
   {
    "duration": 302,
    "start_time": "2023-01-27T06:54:26.828Z"
   },
   {
    "duration": 136,
    "start_time": "2023-01-27T06:54:29.242Z"
   },
   {
    "duration": 36,
    "start_time": "2023-01-27T06:54:31.114Z"
   },
   {
    "duration": 433,
    "start_time": "2023-01-27T06:54:33.516Z"
   },
   {
    "duration": 373,
    "start_time": "2023-01-27T06:54:35.476Z"
   },
   {
    "duration": 299,
    "start_time": "2023-01-27T06:54:37.764Z"
   },
   {
    "duration": 4,
    "start_time": "2023-01-27T06:54:39.443Z"
   },
   {
    "duration": 110,
    "start_time": "2023-01-27T06:54:45.035Z"
   },
   {
    "duration": 252,
    "start_time": "2023-01-27T06:54:51.755Z"
   },
   {
    "duration": 4,
    "start_time": "2023-01-27T06:54:53.267Z"
   },
   {
    "duration": 101,
    "start_time": "2023-01-27T06:54:55.500Z"
   },
   {
    "duration": 11,
    "start_time": "2023-01-27T06:55:00.719Z"
   },
   {
    "duration": 10,
    "start_time": "2023-01-27T06:55:22.268Z"
   },
   {
    "duration": 15,
    "start_time": "2023-01-27T07:00:14.473Z"
   },
   {
    "duration": 12,
    "start_time": "2023-01-27T07:00:23.601Z"
   },
   {
    "duration": 4,
    "start_time": "2023-01-27T07:10:22.476Z"
   },
   {
    "duration": 3,
    "start_time": "2023-01-27T07:10:31.700Z"
   },
   {
    "duration": 12183,
    "start_time": "2023-01-27T07:10:34.443Z"
   },
   {
    "duration": 40686,
    "start_time": "2023-01-27T07:11:17.340Z"
   },
   {
    "duration": 1088259,
    "start_time": "2023-01-27T07:12:26.501Z"
   },
   {
    "duration": 332,
    "start_time": "2023-01-27T07:39:19.425Z"
   },
   {
    "duration": 3,
    "start_time": "2023-01-27T07:39:27.608Z"
   },
   {
    "duration": 347226,
    "start_time": "2023-01-27T07:40:17.698Z"
   },
   {
    "duration": 893,
    "start_time": "2023-01-27T08:00:02.846Z"
   },
   {
    "duration": 108,
    "start_time": "2023-01-27T08:02:36.609Z"
   },
   {
    "duration": 287325,
    "start_time": "2023-01-27T08:03:23.329Z"
   },
   {
    "duration": 583,
    "start_time": "2023-01-27T08:08:10.656Z"
   },
   {
    "duration": 13595,
    "start_time": "2023-01-27T08:21:01.677Z"
   },
   {
    "duration": 8005,
    "start_time": "2023-01-27T08:26:17.417Z"
   },
   {
    "duration": 18623,
    "start_time": "2023-01-27T08:27:09.987Z"
   },
   {
    "duration": 8622,
    "start_time": "2023-01-27T08:28:13.811Z"
   },
   {
    "duration": 13637,
    "start_time": "2023-01-27T08:28:53.478Z"
   },
   {
    "duration": 17704,
    "start_time": "2023-01-27T08:36:35.228Z"
   },
   {
    "duration": 1680,
    "start_time": "2023-01-28T13:53:02.038Z"
   },
   {
    "duration": 1295,
    "start_time": "2023-01-28T13:53:06.388Z"
   },
   {
    "duration": 19,
    "start_time": "2023-01-28T13:53:08.926Z"
   },
   {
    "duration": 216,
    "start_time": "2023-01-28T13:53:15.347Z"
   },
   {
    "duration": 110,
    "start_time": "2023-01-28T13:53:20.339Z"
   },
   {
    "duration": 440,
    "start_time": "2023-01-28T13:53:25.599Z"
   },
   {
    "duration": 983,
    "start_time": "2023-01-28T13:53:27.279Z"
   },
   {
    "duration": 93,
    "start_time": "2023-01-28T13:53:32.542Z"
   },
   {
    "duration": 115,
    "start_time": "2023-01-28T13:53:35.751Z"
   },
   {
    "duration": 116,
    "start_time": "2023-01-28T13:53:41.791Z"
   },
   {
    "duration": 754,
    "start_time": "2023-01-28T13:53:50.701Z"
   },
   {
    "duration": 65,
    "start_time": "2023-01-28T13:53:53.436Z"
   },
   {
    "duration": 33,
    "start_time": "2023-01-28T13:53:58.445Z"
   },
   {
    "duration": 61,
    "start_time": "2023-01-28T13:54:02.856Z"
   },
   {
    "duration": 6,
    "start_time": "2023-01-28T13:54:04.971Z"
   },
   {
    "duration": 45,
    "start_time": "2023-01-28T13:54:10.120Z"
   },
   {
    "duration": 334,
    "start_time": "2023-01-28T13:54:19.176Z"
   },
   {
    "duration": 164,
    "start_time": "2023-01-28T13:54:24.661Z"
   },
   {
    "duration": 11,
    "start_time": "2023-01-28T13:54:30.016Z"
   },
   {
    "duration": 22,
    "start_time": "2023-01-28T13:54:34.973Z"
   },
   {
    "duration": 363,
    "start_time": "2023-01-28T13:54:36.745Z"
   },
   {
    "duration": 114,
    "start_time": "2023-01-28T13:54:41.277Z"
   },
   {
    "duration": 28,
    "start_time": "2023-01-28T13:54:46.250Z"
   },
   {
    "duration": 368,
    "start_time": "2023-01-28T13:54:48.132Z"
   },
   {
    "duration": 535,
    "start_time": "2023-01-28T13:54:53.904Z"
   },
   {
    "duration": 108,
    "start_time": "2023-01-28T13:56:30.678Z"
   },
   {
    "duration": 341,
    "start_time": "2023-01-28T13:56:33.743Z"
   },
   {
    "duration": 5,
    "start_time": "2023-01-28T13:56:35.305Z"
   },
   {
    "duration": 117,
    "start_time": "2023-01-28T13:56:36.899Z"
   },
   {
    "duration": 3,
    "start_time": "2023-01-28T13:57:16.048Z"
   },
   {
    "duration": 21303,
    "start_time": "2023-01-28T13:57:17.701Z"
   },
   {
    "duration": 86691,
    "start_time": "2023-01-28T13:57:39.010Z"
   },
   {
    "duration": 1109658,
    "start_time": "2023-01-28T13:59:24.878Z"
   },
   {
    "duration": 73,
    "start_time": "2023-01-28T14:23:45.300Z"
   },
   {
    "duration": 371,
    "start_time": "2023-01-28T14:24:15.522Z"
   },
   {
    "duration": 3,
    "start_time": "2023-01-28T14:24:52.805Z"
   },
   {
    "duration": 3319277,
    "start_time": "2023-01-28T14:24:55.129Z"
   },
   {
    "duration": 814,
    "start_time": "2023-01-28T15:20:32.404Z"
   },
   {
    "duration": 443800,
    "start_time": "2023-01-28T15:21:14.262Z"
   },
   {
    "duration": 485,
    "start_time": "2023-01-28T15:33:17.954Z"
   },
   {
    "duration": 58,
    "start_time": "2023-01-28T15:54:35.242Z"
   },
   {
    "duration": 54,
    "start_time": "2023-01-28T15:56:51.435Z"
   },
   {
    "duration": 1505,
    "start_time": "2023-01-29T07:55:34.426Z"
   },
   {
    "duration": 1132,
    "start_time": "2023-01-29T07:55:44.249Z"
   },
   {
    "duration": 200,
    "start_time": "2023-01-29T07:57:26.354Z"
   },
   {
    "duration": 68,
    "start_time": "2023-01-29T07:58:30.186Z"
   },
   {
    "duration": 888,
    "start_time": "2023-01-29T07:59:33.438Z"
   },
   {
    "duration": 18,
    "start_time": "2023-01-29T07:59:37.037Z"
   },
   {
    "duration": 1400,
    "start_time": "2023-01-29T07:59:51.293Z"
   },
   {
    "duration": 762,
    "start_time": "2023-01-29T07:59:52.824Z"
   },
   {
    "duration": 18,
    "start_time": "2023-01-29T07:59:54.977Z"
   },
   {
    "duration": 210,
    "start_time": "2023-01-29T07:59:59.594Z"
   },
   {
    "duration": 125,
    "start_time": "2023-01-29T08:00:03.992Z"
   },
   {
    "duration": 438,
    "start_time": "2023-01-29T08:00:08.545Z"
   },
   {
    "duration": 943,
    "start_time": "2023-01-29T08:00:10.543Z"
   },
   {
    "duration": 99,
    "start_time": "2023-01-29T08:00:16.712Z"
   },
   {
    "duration": 108,
    "start_time": "2023-01-29T08:00:24.571Z"
   },
   {
    "duration": 96,
    "start_time": "2023-01-29T08:00:26.414Z"
   },
   {
    "duration": 845,
    "start_time": "2023-01-29T08:00:28.264Z"
   },
   {
    "duration": 59,
    "start_time": "2023-01-29T08:00:33.481Z"
   },
   {
    "duration": 22,
    "start_time": "2023-01-29T08:00:37.579Z"
   },
   {
    "duration": 44,
    "start_time": "2023-01-29T08:00:42.594Z"
   },
   {
    "duration": 6,
    "start_time": "2023-01-29T08:00:44.540Z"
   },
   {
    "duration": 35,
    "start_time": "2023-01-29T08:00:48.817Z"
   },
   {
    "duration": 299,
    "start_time": "2023-01-29T08:00:51.196Z"
   },
   {
    "duration": 136,
    "start_time": "2023-01-29T08:00:55.771Z"
   },
   {
    "duration": 14,
    "start_time": "2023-01-29T08:00:58.057Z"
   },
   {
    "duration": 28,
    "start_time": "2023-01-29T08:01:03.133Z"
   },
   {
    "duration": 560,
    "start_time": "2023-01-29T08:01:04.824Z"
   },
   {
    "duration": 135,
    "start_time": "2023-01-29T08:01:09.835Z"
   },
   {
    "duration": 35,
    "start_time": "2023-01-29T08:01:14.852Z"
   },
   {
    "duration": 362,
    "start_time": "2023-01-29T08:01:16.407Z"
   },
   {
    "duration": 582,
    "start_time": "2023-01-29T08:01:21.593Z"
   },
   {
    "duration": 404,
    "start_time": "2023-01-29T08:01:24.176Z"
   },
   {
    "duration": 4,
    "start_time": "2023-01-29T08:01:26.321Z"
   },
   {
    "duration": 161,
    "start_time": "2023-01-29T08:01:31.214Z"
   },
   {
    "duration": 96,
    "start_time": "2023-01-29T08:02:53.054Z"
   },
   {
    "duration": 16618,
    "start_time": "2023-01-29T08:03:09.065Z"
   },
   {
    "duration": 4,
    "start_time": "2023-01-29T08:03:32.740Z"
   },
   {
    "duration": 63380,
    "start_time": "2023-01-29T08:03:34.943Z"
   },
   {
    "duration": 1152877,
    "start_time": "2023-01-29T08:04:45.180Z"
   },
   {
    "duration": 379,
    "start_time": "2023-01-29T08:31:46.402Z"
   },
   {
    "duration": 3,
    "start_time": "2023-01-29T08:31:53.361Z"
   },
   {
    "duration": 1604,
    "start_time": "2023-01-29T19:06:48.744Z"
   },
   {
    "duration": 997,
    "start_time": "2023-01-29T19:06:51.639Z"
   },
   {
    "duration": 17,
    "start_time": "2023-01-29T19:06:55.788Z"
   },
   {
    "duration": 218,
    "start_time": "2023-01-29T19:07:01.010Z"
   },
   {
    "duration": 105,
    "start_time": "2023-01-29T19:07:09.884Z"
   },
   {
    "duration": 395,
    "start_time": "2023-01-29T19:07:14.395Z"
   },
   {
    "duration": 840,
    "start_time": "2023-01-29T19:07:15.933Z"
   },
   {
    "duration": 99,
    "start_time": "2023-01-29T19:07:18.480Z"
   },
   {
    "duration": 115,
    "start_time": "2023-01-29T19:07:22.364Z"
   },
   {
    "duration": 118,
    "start_time": "2023-01-29T19:07:24.382Z"
   },
   {
    "duration": 773,
    "start_time": "2023-01-29T19:07:26.436Z"
   },
   {
    "duration": 57,
    "start_time": "2023-01-29T19:07:31.221Z"
   },
   {
    "duration": 25,
    "start_time": "2023-01-29T19:07:33.030Z"
   },
   {
    "duration": 46,
    "start_time": "2023-01-29T19:07:37.445Z"
   },
   {
    "duration": 6,
    "start_time": "2023-01-29T19:07:39.024Z"
   },
   {
    "duration": 37,
    "start_time": "2023-01-29T19:07:40.863Z"
   },
   {
    "duration": 281,
    "start_time": "2023-01-29T19:07:45.314Z"
   },
   {
    "duration": 139,
    "start_time": "2023-01-29T19:07:50.010Z"
   },
   {
    "duration": 12,
    "start_time": "2023-01-29T19:07:52.073Z"
   },
   {
    "duration": 21,
    "start_time": "2023-01-29T19:07:54.787Z"
   },
   {
    "duration": 19,
    "start_time": "2023-01-29T19:08:07.952Z"
   },
   {
    "duration": 327,
    "start_time": "2023-01-29T19:08:10.520Z"
   },
   {
    "duration": 111,
    "start_time": "2023-01-29T19:08:14.696Z"
   },
   {
    "duration": 33,
    "start_time": "2023-01-29T19:08:16.604Z"
   },
   {
    "duration": 344,
    "start_time": "2023-01-29T19:08:20.774Z"
   },
   {
    "duration": 307,
    "start_time": "2023-01-29T19:08:24.984Z"
   },
   {
    "duration": 226,
    "start_time": "2023-01-29T19:08:27.189Z"
   },
   {
    "duration": 3,
    "start_time": "2023-01-29T19:08:31.865Z"
   },
   {
    "duration": 90,
    "start_time": "2023-01-29T19:08:34.293Z"
   },
   {
    "duration": 3,
    "start_time": "2023-01-29T19:08:39.955Z"
   },
   {
    "duration": 30845,
    "start_time": "2023-01-29T19:08:44.371Z"
   },
   {
    "duration": 835001,
    "start_time": "2023-01-29T19:09:38.805Z"
   },
   {
    "duration": 341,
    "start_time": "2023-01-29T19:24:07.503Z"
   },
   {
    "duration": 3,
    "start_time": "2023-01-29T19:24:12.493Z"
   },
   {
    "duration": 204526,
    "start_time": "2023-01-29T19:24:40.386Z"
   },
   {
    "duration": 854,
    "start_time": "2023-01-29T19:38:26.971Z"
   },
   {
    "duration": 7,
    "start_time": "2023-01-29T19:38:36.241Z"
   },
   {
    "duration": 10764,
    "start_time": "2023-01-29T19:38:39.747Z"
   },
   {
    "duration": 15201,
    "start_time": "2023-01-29T19:46:30.797Z"
   },
   {
    "duration": 4717,
    "start_time": "2023-01-29T19:48:08.094Z"
   },
   {
    "duration": 6,
    "start_time": "2023-01-29T19:49:56.903Z"
   },
   {
    "duration": 10,
    "start_time": "2023-01-29T19:59:35.383Z"
   },
   {
    "duration": 84,
    "start_time": "2023-01-30T09:12:11.509Z"
   },
   {
    "duration": 41,
    "start_time": "2023-01-30T09:12:38.429Z"
   },
   {
    "duration": 1518,
    "start_time": "2023-01-30T09:12:54.453Z"
   },
   {
    "duration": 2727,
    "start_time": "2023-01-30T09:12:56.684Z"
   },
   {
    "duration": 16,
    "start_time": "2023-01-30T09:13:00.660Z"
   },
   {
    "duration": 216,
    "start_time": "2023-01-30T09:13:02.901Z"
   },
   {
    "duration": 121,
    "start_time": "2023-01-30T09:13:05.773Z"
   },
   {
    "duration": 405,
    "start_time": "2023-01-30T09:13:08.260Z"
   },
   {
    "duration": 856,
    "start_time": "2023-01-30T09:13:10.491Z"
   },
   {
    "duration": 96,
    "start_time": "2023-01-30T09:13:13.149Z"
   },
   {
    "duration": 121,
    "start_time": "2023-01-30T09:13:16.077Z"
   },
   {
    "duration": 117,
    "start_time": "2023-01-30T09:13:17.813Z"
   },
   {
    "duration": 733,
    "start_time": "2023-01-30T09:13:20.229Z"
   },
   {
    "duration": 50,
    "start_time": "2023-01-30T09:13:24.052Z"
   },
   {
    "duration": 20,
    "start_time": "2023-01-30T09:13:27.206Z"
   },
   {
    "duration": 41,
    "start_time": "2023-01-30T09:13:29.709Z"
   },
   {
    "duration": 6,
    "start_time": "2023-01-30T09:13:32.421Z"
   },
   {
    "duration": 1299,
    "start_time": "2023-01-30T09:13:41.989Z"
   },
   {
    "duration": 31,
    "start_time": "2023-01-30T09:14:36.670Z"
   },
   {
    "duration": 258,
    "start_time": "2023-01-30T09:14:46.734Z"
   },
   {
    "duration": 121,
    "start_time": "2023-01-30T09:14:49.102Z"
   },
   {
    "duration": 10,
    "start_time": "2023-01-30T09:14:51.367Z"
   },
   {
    "duration": 20,
    "start_time": "2023-01-30T09:14:53.646Z"
   },
   {
    "duration": 314,
    "start_time": "2023-01-30T09:14:56.062Z"
   },
   {
    "duration": 104,
    "start_time": "2023-01-30T09:14:58.519Z"
   },
   {
    "duration": 24,
    "start_time": "2023-01-30T09:15:00.879Z"
   },
   {
    "duration": 306,
    "start_time": "2023-01-30T09:15:02.959Z"
   },
   {
    "duration": 11,
    "start_time": "2023-01-30T09:17:07.617Z"
   },
   {
    "duration": 47,
    "start_time": "2023-01-30T09:17:29.880Z"
   },
   {
    "duration": 3,
    "start_time": "2023-01-30T09:17:32.073Z"
   },
   {
    "duration": 335,
    "start_time": "2023-01-30T09:17:42.433Z"
   },
   {
    "duration": 320,
    "start_time": "2023-01-30T09:18:28.098Z"
   },
   {
    "duration": 374,
    "start_time": "2023-01-30T09:19:49.532Z"
   },
   {
    "duration": 159,
    "start_time": "2023-01-30T09:21:58.799Z"
   },
   {
    "duration": 3,
    "start_time": "2023-01-30T09:22:10.750Z"
   },
   {
    "duration": 136,
    "start_time": "2023-01-30T11:08:55.922Z"
   },
   {
    "duration": 1551,
    "start_time": "2023-01-30T11:10:01.058Z"
   },
   {
    "duration": 920,
    "start_time": "2023-01-30T11:10:03.841Z"
   },
   {
    "duration": 18,
    "start_time": "2023-01-30T11:10:06.496Z"
   },
   {
    "duration": 231,
    "start_time": "2023-01-30T11:10:08.737Z"
   },
   {
    "duration": 174,
    "start_time": "2023-01-30T11:10:11.121Z"
   },
   {
    "duration": 497,
    "start_time": "2023-01-30T11:10:13.280Z"
   },
   {
    "duration": 913,
    "start_time": "2023-01-30T11:10:15.312Z"
   },
   {
    "duration": 105,
    "start_time": "2023-01-30T11:10:17.993Z"
   },
   {
    "duration": 120,
    "start_time": "2023-01-30T11:10:20.378Z"
   },
   {
    "duration": 127,
    "start_time": "2023-01-30T11:10:22.118Z"
   },
   {
    "duration": 751,
    "start_time": "2023-01-30T11:10:23.986Z"
   },
   {
    "duration": 69,
    "start_time": "2023-01-30T11:10:26.418Z"
   },
   {
    "duration": 30,
    "start_time": "2023-01-30T11:10:28.434Z"
   },
   {
    "duration": 49,
    "start_time": "2023-01-30T11:10:30.937Z"
   },
   {
    "duration": 7,
    "start_time": "2023-01-30T11:10:32.681Z"
   },
   {
    "duration": 34,
    "start_time": "2023-01-30T11:10:37.577Z"
   },
   {
    "duration": 293,
    "start_time": "2023-01-30T11:10:42.289Z"
   },
   {
    "duration": 149,
    "start_time": "2023-01-30T11:10:44.521Z"
   },
   {
    "duration": 10,
    "start_time": "2023-01-30T11:10:46.777Z"
   },
   {
    "duration": 19,
    "start_time": "2023-01-30T11:10:48.593Z"
   },
   {
    "duration": 335,
    "start_time": "2023-01-30T11:10:50.577Z"
   },
   {
    "duration": 108,
    "start_time": "2023-01-30T11:10:52.792Z"
   },
   {
    "duration": 35,
    "start_time": "2023-01-30T11:10:55.082Z"
   },
   {
    "duration": 287,
    "start_time": "2023-01-30T11:10:57.426Z"
   },
   {
    "duration": 41,
    "start_time": "2023-01-30T11:11:26.505Z"
   },
   {
    "duration": 4,
    "start_time": "2023-01-30T11:11:28.753Z"
   },
   {
    "duration": 335,
    "start_time": "2023-01-30T11:11:35.324Z"
   },
   {
    "duration": 85,
    "start_time": "2023-01-30T11:11:39.467Z"
   },
   {
    "duration": 4,
    "start_time": "2023-01-30T11:11:44.738Z"
   },
   {
    "duration": 219,
    "start_time": "2023-01-30T11:11:47.139Z"
   },
   {
    "duration": 176,
    "start_time": "2023-01-30T11:23:29.185Z"
   },
   {
    "duration": 1426,
    "start_time": "2023-01-30T11:53:54.844Z"
   },
   {
    "duration": 791,
    "start_time": "2023-01-30T11:53:57.457Z"
   },
   {
    "duration": 19,
    "start_time": "2023-01-30T11:54:00.065Z"
   },
   {
    "duration": 220,
    "start_time": "2023-01-30T11:54:02.330Z"
   },
   {
    "duration": 113,
    "start_time": "2023-01-30T11:54:05.353Z"
   },
   {
    "duration": 452,
    "start_time": "2023-01-30T11:54:07.388Z"
   },
   {
    "duration": 907,
    "start_time": "2023-01-30T11:54:09.145Z"
   },
   {
    "duration": 104,
    "start_time": "2023-01-30T11:54:12.025Z"
   },
   {
    "duration": 124,
    "start_time": "2023-01-30T11:54:14.345Z"
   },
   {
    "duration": 120,
    "start_time": "2023-01-30T11:54:15.921Z"
   },
   {
    "duration": 819,
    "start_time": "2023-01-30T11:54:18.122Z"
   },
   {
    "duration": 57,
    "start_time": "2023-01-30T11:54:21.914Z"
   },
   {
    "duration": 18,
    "start_time": "2023-01-30T11:54:24.113Z"
   },
   {
    "duration": 58,
    "start_time": "2023-01-30T11:54:27.394Z"
   },
   {
    "duration": 6,
    "start_time": "2023-01-30T11:54:29.382Z"
   },
   {
    "duration": 42,
    "start_time": "2023-01-30T11:54:31.497Z"
   },
   {
    "duration": 313,
    "start_time": "2023-01-30T11:54:33.931Z"
   },
   {
    "duration": 132,
    "start_time": "2023-01-30T11:54:36.314Z"
   },
   {
    "duration": 11,
    "start_time": "2023-01-30T11:54:39.385Z"
   },
   {
    "duration": 20,
    "start_time": "2023-01-30T11:54:41.459Z"
   },
   {
    "duration": 363,
    "start_time": "2023-01-30T11:54:44.082Z"
   },
   {
    "duration": 116,
    "start_time": "2023-01-30T11:54:46.387Z"
   },
   {
    "duration": 32,
    "start_time": "2023-01-30T11:54:48.617Z"
   },
   {
    "duration": 309,
    "start_time": "2023-01-30T11:54:51.499Z"
   },
   {
    "duration": 116,
    "start_time": "2023-01-30T12:36:06.434Z"
   },
   {
    "duration": 17,
    "start_time": "2023-01-30T13:13:46.487Z"
   },
   {
    "duration": 597,
    "start_time": "2023-01-30T13:14:12.180Z"
   },
   {
    "duration": 12,
    "start_time": "2023-01-30T13:14:20.924Z"
   },
   {
    "duration": 291,
    "start_time": "2023-01-30T13:15:22.068Z"
   },
   {
    "duration": 41,
    "start_time": "2023-01-30T13:34:55.252Z"
   },
   {
    "duration": 4,
    "start_time": "2023-01-30T13:34:57.615Z"
   },
   {
    "duration": 12,
    "start_time": "2023-01-30T13:35:45.812Z"
   },
   {
    "duration": 9,
    "start_time": "2023-01-30T13:38:25.127Z"
   },
   {
    "duration": 332,
    "start_time": "2023-01-30T13:42:08.756Z"
   },
   {
    "duration": 330,
    "start_time": "2023-01-30T13:42:32.610Z"
   },
   {
    "duration": 91,
    "start_time": "2023-01-30T13:43:19.097Z"
   },
   {
    "duration": 3,
    "start_time": "2023-01-30T13:43:23.019Z"
   },
   {
    "duration": 110,
    "start_time": "2023-01-30T13:43:25.203Z"
   },
   {
    "duration": 6853,
    "start_time": "2023-01-30T13:54:02.273Z"
   },
   {
    "duration": 148,
    "start_time": "2023-01-30T13:54:14.610Z"
   },
   {
    "duration": 1601,
    "start_time": "2023-01-30T19:21:11.662Z"
   },
   {
    "duration": 1160,
    "start_time": "2023-01-30T19:21:13.399Z"
   },
   {
    "duration": 19,
    "start_time": "2023-01-30T19:21:20.585Z"
   },
   {
    "duration": 197,
    "start_time": "2023-01-30T19:21:23.692Z"
   },
   {
    "duration": 105,
    "start_time": "2023-01-30T19:21:29.499Z"
   },
   {
    "duration": 429,
    "start_time": "2023-01-30T19:21:31.725Z"
   },
   {
    "duration": 855,
    "start_time": "2023-01-30T19:21:33.350Z"
   },
   {
    "duration": 90,
    "start_time": "2023-01-30T19:21:37.970Z"
   },
   {
    "duration": 109,
    "start_time": "2023-01-30T19:21:42.173Z"
   },
   {
    "duration": 171,
    "start_time": "2023-01-30T19:21:44.123Z"
   },
   {
    "duration": 778,
    "start_time": "2023-01-30T19:21:48.894Z"
   },
   {
    "duration": 55,
    "start_time": "2023-01-30T19:21:52.624Z"
   },
   {
    "duration": 21,
    "start_time": "2023-01-30T19:21:58.729Z"
   },
   {
    "duration": 43,
    "start_time": "2023-01-30T19:22:09.943Z"
   },
   {
    "duration": 6,
    "start_time": "2023-01-30T19:22:11.791Z"
   },
   {
    "duration": 36,
    "start_time": "2023-01-30T19:22:16.110Z"
   },
   {
    "duration": 322,
    "start_time": "2023-01-30T19:22:20.675Z"
   },
   {
    "duration": 141,
    "start_time": "2023-01-30T19:22:25.417Z"
   },
   {
    "duration": 12,
    "start_time": "2023-01-30T19:22:27.995Z"
   },
   {
    "duration": 21,
    "start_time": "2023-01-30T19:22:34.401Z"
   },
   {
    "duration": 381,
    "start_time": "2023-01-30T19:22:36.083Z"
   },
   {
    "duration": 119,
    "start_time": "2023-01-30T19:22:40.538Z"
   },
   {
    "duration": 27,
    "start_time": "2023-01-30T19:22:42.791Z"
   },
   {
    "duration": 345,
    "start_time": "2023-01-30T19:22:47.920Z"
   },
   {
    "duration": 46,
    "start_time": "2023-01-30T19:23:03.327Z"
   },
   {
    "duration": 4,
    "start_time": "2023-01-30T19:23:05.328Z"
   },
   {
    "duration": 5,
    "start_time": "2023-01-30T19:36:58.678Z"
   },
   {
    "duration": 292,
    "start_time": "2023-01-30T19:37:06.458Z"
   },
   {
    "duration": 674,
    "start_time": "2023-01-30T19:41:45.044Z"
   },
   {
    "duration": 1504,
    "start_time": "2023-01-30T19:41:54.295Z"
   },
   {
    "duration": 287,
    "start_time": "2023-01-30T19:42:02.709Z"
   },
   {
    "duration": 5948,
    "start_time": "2023-01-30T19:42:42.537Z"
   },
   {
    "duration": 275,
    "start_time": "2023-01-30T19:42:53.482Z"
   },
   {
    "duration": 2333,
    "start_time": "2023-01-30T19:43:35.774Z"
   },
   {
    "duration": 326,
    "start_time": "2023-01-30T19:43:41.306Z"
   },
   {
    "duration": 272,
    "start_time": "2023-01-30T19:43:44.482Z"
   },
   {
    "duration": 187,
    "start_time": "2023-01-30T19:52:55.829Z"
   },
   {
    "duration": 145,
    "start_time": "2023-01-30T19:53:43.831Z"
   },
   {
    "duration": 162,
    "start_time": "2023-01-30T19:54:01.548Z"
   },
   {
    "duration": 5,
    "start_time": "2023-01-30T19:54:23.062Z"
   },
   {
    "duration": 13,
    "start_time": "2023-01-30T19:54:51.159Z"
   },
   {
    "duration": 89,
    "start_time": "2023-01-30T19:56:19.891Z"
   },
   {
    "duration": 4,
    "start_time": "2023-01-30T19:56:24.734Z"
   },
   {
    "duration": 121,
    "start_time": "2023-01-30T19:56:30.906Z"
   },
   {
    "duration": 116,
    "start_time": "2023-01-30T19:57:06.294Z"
   },
   {
    "duration": 3,
    "start_time": "2023-01-30T19:57:08.126Z"
   },
   {
    "duration": 13,
    "start_time": "2023-01-30T19:57:10.169Z"
   },
   {
    "duration": 349,
    "start_time": "2023-01-30T19:57:21.376Z"
   },
   {
    "duration": 87,
    "start_time": "2023-01-30T19:57:36.486Z"
   },
   {
    "duration": 3,
    "start_time": "2023-01-30T19:57:41.505Z"
   },
   {
    "duration": 127,
    "start_time": "2023-01-30T19:57:47.344Z"
   },
   {
    "duration": 121,
    "start_time": "2023-01-30T19:58:16.024Z"
   },
   {
    "duration": 3,
    "start_time": "2023-01-30T19:58:18.062Z"
   },
   {
    "duration": 14,
    "start_time": "2023-01-30T19:58:20.831Z"
   },
   {
    "duration": 41,
    "start_time": "2023-01-30T19:58:28.626Z"
   },
   {
    "duration": 4,
    "start_time": "2023-01-30T19:58:33.329Z"
   },
   {
    "duration": 572,
    "start_time": "2023-01-30T19:58:38.132Z"
   },
   {
    "duration": 182,
    "start_time": "2023-01-30T19:58:46.222Z"
   },
   {
    "duration": 35,
    "start_time": "2023-01-30T19:59:35.322Z"
   },
   {
    "duration": 114923,
    "start_time": "2023-01-30T19:59:51.554Z"
   },
   {
    "duration": 117,
    "start_time": "2023-01-30T20:01:55.788Z"
   },
   {
    "duration": 3,
    "start_time": "2023-01-30T20:02:13.484Z"
   },
   {
    "duration": 1653,
    "start_time": "2023-01-31T05:17:34.229Z"
   },
   {
    "duration": 3566,
    "start_time": "2023-01-31T05:17:37.118Z"
   },
   {
    "duration": 16,
    "start_time": "2023-01-31T05:17:42.116Z"
   },
   {
    "duration": 243,
    "start_time": "2023-01-31T05:17:44.886Z"
   },
   {
    "duration": 136,
    "start_time": "2023-01-31T05:17:47.190Z"
   },
   {
    "duration": 456,
    "start_time": "2023-01-31T05:17:49.572Z"
   },
   {
    "duration": 956,
    "start_time": "2023-01-31T05:17:51.380Z"
   },
   {
    "duration": 115,
    "start_time": "2023-01-31T05:17:54.005Z"
   },
   {
    "duration": 173,
    "start_time": "2023-01-31T05:17:56.221Z"
   },
   {
    "duration": 149,
    "start_time": "2023-01-31T05:17:57.838Z"
   },
   {
    "duration": 819,
    "start_time": "2023-01-31T05:18:00.172Z"
   },
   {
    "duration": 59,
    "start_time": "2023-01-31T05:18:03.118Z"
   },
   {
    "duration": 20,
    "start_time": "2023-01-31T05:18:05.285Z"
   },
   {
    "duration": 51,
    "start_time": "2023-01-31T05:18:08.133Z"
   },
   {
    "duration": 9,
    "start_time": "2023-01-31T05:18:10.534Z"
   },
   {
    "duration": 41,
    "start_time": "2023-01-31T05:18:12.790Z"
   },
   {
    "duration": 344,
    "start_time": "2023-01-31T05:18:15.038Z"
   },
   {
    "duration": 155,
    "start_time": "2023-01-31T05:18:17.364Z"
   },
   {
    "duration": 16,
    "start_time": "2023-01-31T05:18:19.733Z"
   },
   {
    "duration": 24,
    "start_time": "2023-01-31T05:18:21.569Z"
   },
   {
    "duration": 347,
    "start_time": "2023-01-31T05:18:23.572Z"
   },
   {
    "duration": 113,
    "start_time": "2023-01-31T05:18:26.318Z"
   },
   {
    "duration": 30,
    "start_time": "2023-01-31T05:18:28.616Z"
   },
   {
    "duration": 320,
    "start_time": "2023-01-31T05:18:30.534Z"
   },
   {
    "duration": 45,
    "start_time": "2023-01-31T05:18:40.065Z"
   },
   {
    "duration": 4,
    "start_time": "2023-01-31T05:18:42.503Z"
   },
   {
    "duration": 7429,
    "start_time": "2023-01-31T05:18:46.980Z"
   },
   {
    "duration": 260,
    "start_time": "2023-01-31T05:19:29.970Z"
   },
   {
    "duration": 68,
    "start_time": "2023-01-31T05:20:39.137Z"
   },
   {
    "duration": 5,
    "start_time": "2023-01-31T05:20:41.776Z"
   },
   {
    "duration": 9,
    "start_time": "2023-01-31T05:20:49.417Z"
   },
   {
    "duration": 247,
    "start_time": "2023-01-31T05:21:14.730Z"
   },
   {
    "duration": 4,
    "start_time": "2023-01-31T05:21:19.573Z"
   },
   {
    "duration": 11,
    "start_time": "2023-01-31T05:21:21.393Z"
   },
   {
    "duration": 57,
    "start_time": "2023-01-31T05:21:26.097Z"
   },
   {
    "duration": 251,
    "start_time": "2023-01-31T05:21:31.173Z"
   },
   {
    "duration": 14,
    "start_time": "2023-01-31T05:21:34.266Z"
   },
   {
    "duration": 122,
    "start_time": "2023-01-31T05:22:13.451Z"
   },
   {
    "duration": 431,
    "start_time": "2023-01-31T05:22:24.219Z"
   },
   {
    "duration": 4,
    "start_time": "2023-01-31T05:22:28.578Z"
   },
   {
    "duration": 488,
    "start_time": "2023-01-31T05:22:30.492Z"
   },
   {
    "duration": 88,
    "start_time": "2023-01-31T05:22:42.361Z"
   },
   {
    "duration": 111732,
    "start_time": "2023-01-31T05:33:47.505Z"
   },
   {
    "duration": 80,
    "start_time": "2023-01-31T05:35:45.343Z"
   },
   {
    "duration": 2,
    "start_time": "2023-01-31T05:36:03.273Z"
   },
   {
    "duration": 1323,
    "start_time": "2023-01-31T06:06:41.719Z"
   },
   {
    "duration": 916,
    "start_time": "2023-01-31T06:06:43.910Z"
   },
   {
    "duration": 22,
    "start_time": "2023-01-31T06:06:46.572Z"
   },
   {
    "duration": 297,
    "start_time": "2023-01-31T06:06:48.318Z"
   },
   {
    "duration": 144,
    "start_time": "2023-01-31T06:06:50.800Z"
   },
   {
    "duration": 479,
    "start_time": "2023-01-31T06:06:52.974Z"
   },
   {
    "duration": 1033,
    "start_time": "2023-01-31T06:06:54.542Z"
   },
   {
    "duration": 112,
    "start_time": "2023-01-31T06:06:57.451Z"
   },
   {
    "duration": 159,
    "start_time": "2023-01-31T06:06:59.589Z"
   },
   {
    "duration": 141,
    "start_time": "2023-01-31T06:07:01.196Z"
   },
   {
    "duration": 836,
    "start_time": "2023-01-31T06:07:03.518Z"
   },
   {
    "duration": 71,
    "start_time": "2023-01-31T06:07:06.535Z"
   },
   {
    "duration": 20,
    "start_time": "2023-01-31T06:07:08.468Z"
   },
   {
    "duration": 53,
    "start_time": "2023-01-31T06:07:10.607Z"
   },
   {
    "duration": 6,
    "start_time": "2023-01-31T06:07:12.591Z"
   },
   {
    "duration": 342,
    "start_time": "2023-01-31T06:07:17.104Z"
   },
   {
    "duration": 136,
    "start_time": "2023-01-31T06:07:19.798Z"
   },
   {
    "duration": 11,
    "start_time": "2023-01-31T06:07:22.487Z"
   },
   {
    "duration": 21,
    "start_time": "2023-01-31T06:07:24.406Z"
   },
   {
    "duration": 374,
    "start_time": "2023-01-31T06:07:26.191Z"
   },
   {
    "duration": 118,
    "start_time": "2023-01-31T06:07:28.302Z"
   },
   {
    "duration": 37,
    "start_time": "2023-01-31T06:07:30.452Z"
   },
   {
    "duration": 309,
    "start_time": "2023-01-31T06:07:32.584Z"
   },
   {
    "duration": 43,
    "start_time": "2023-01-31T06:07:35.487Z"
   },
   {
    "duration": 3,
    "start_time": "2023-01-31T06:07:40.486Z"
   },
   {
    "duration": 247,
    "start_time": "2023-01-31T06:08:03.992Z"
   },
   {
    "duration": 5,
    "start_time": "2023-01-31T06:08:05.982Z"
   },
   {
    "duration": 14,
    "start_time": "2023-01-31T06:08:08.544Z"
   },
   {
    "duration": 108,
    "start_time": "2023-01-31T06:08:20.943Z"
   },
   {
    "duration": 3,
    "start_time": "2023-01-31T06:08:24.287Z"
   },
   {
    "duration": 2,
    "start_time": "2023-01-31T06:08:39.504Z"
   },
   {
    "duration": 1286,
    "start_time": "2023-01-31T06:58:00.783Z"
   },
   {
    "duration": 976,
    "start_time": "2023-01-31T06:58:04.597Z"
   },
   {
    "duration": 19,
    "start_time": "2023-01-31T06:58:06.911Z"
   },
   {
    "duration": 231,
    "start_time": "2023-01-31T06:58:09.071Z"
   },
   {
    "duration": 133,
    "start_time": "2023-01-31T06:58:11.326Z"
   },
   {
    "duration": 464,
    "start_time": "2023-01-31T06:58:13.574Z"
   },
   {
    "duration": 949,
    "start_time": "2023-01-31T06:58:15.325Z"
   },
   {
    "duration": 113,
    "start_time": "2023-01-31T06:58:17.672Z"
   },
   {
    "duration": 133,
    "start_time": "2023-01-31T06:58:19.873Z"
   },
   {
    "duration": 144,
    "start_time": "2023-01-31T06:58:22.038Z"
   },
   {
    "duration": 918,
    "start_time": "2023-01-31T06:58:24.280Z"
   },
   {
    "duration": 62,
    "start_time": "2023-01-31T06:58:27.591Z"
   },
   {
    "duration": 17,
    "start_time": "2023-01-31T06:58:30.302Z"
   },
   {
    "duration": 50,
    "start_time": "2023-01-31T06:58:33.134Z"
   },
   {
    "duration": 6,
    "start_time": "2023-01-31T06:58:35.085Z"
   },
   {
    "duration": 89,
    "start_time": "2023-01-31T06:58:37.789Z"
   },
   {
    "duration": 33,
    "start_time": "2023-01-31T06:58:53.679Z"
   },
   {
    "duration": 305,
    "start_time": "2023-01-31T06:58:57.085Z"
   },
   {
    "duration": 143,
    "start_time": "2023-01-31T06:59:01.038Z"
   },
   {
    "duration": 11,
    "start_time": "2023-01-31T06:59:03.668Z"
   },
   {
    "duration": 19,
    "start_time": "2023-01-31T06:59:06.013Z"
   },
   {
    "duration": 27,
    "start_time": "2023-01-31T06:59:14.637Z"
   },
   {
    "duration": 398,
    "start_time": "2023-01-31T06:59:17.134Z"
   },
   {
    "duration": 124,
    "start_time": "2023-01-31T06:59:20.238Z"
   },
   {
    "duration": 28,
    "start_time": "2023-01-31T06:59:22.813Z"
   },
   {
    "duration": 268,
    "start_time": "2023-01-31T06:59:25.061Z"
   },
   {
    "duration": 47,
    "start_time": "2023-01-31T06:59:28.560Z"
   },
   {
    "duration": 6,
    "start_time": "2023-01-31T06:59:30.774Z"
   },
   {
    "duration": 2842,
    "start_time": "2023-01-31T06:59:39.022Z"
   },
   {
    "duration": 257,
    "start_time": "2023-01-31T06:59:59.718Z"
   },
   {
    "duration": 4,
    "start_time": "2023-01-31T07:00:02.095Z"
   },
   {
    "duration": 18,
    "start_time": "2023-01-31T07:00:04.694Z"
   },
   {
    "duration": 139,
    "start_time": "2023-01-31T07:00:30.929Z"
   },
   {
    "duration": 5,
    "start_time": "2023-01-31T07:00:34.783Z"
   },
   {
    "duration": 3,
    "start_time": "2023-01-31T07:00:44.518Z"
   },
   {
    "duration": 8029,
    "start_time": "2023-01-31T07:00:58.382Z"
   },
   {
    "duration": 234,
    "start_time": "2023-01-31T07:01:16.383Z"
   },
   {
    "duration": 1013,
    "start_time": "2023-01-31T07:02:54.712Z"
   },
   {
    "duration": 1382,
    "start_time": "2023-01-31T07:03:07.320Z"
   },
   {
    "duration": 897,
    "start_time": "2023-01-31T07:03:08.705Z"
   },
   {
    "duration": 21,
    "start_time": "2023-01-31T07:03:11.684Z"
   },
   {
    "duration": 249,
    "start_time": "2023-01-31T07:03:16.008Z"
   },
   {
    "duration": 154,
    "start_time": "2023-01-31T07:03:18.384Z"
   },
   {
    "duration": 530,
    "start_time": "2023-01-31T07:03:21.104Z"
   },
   {
    "duration": 1103,
    "start_time": "2023-01-31T07:03:22.823Z"
   },
   {
    "duration": 136,
    "start_time": "2023-01-31T07:03:25.560Z"
   },
   {
    "duration": 151,
    "start_time": "2023-01-31T07:03:27.867Z"
   },
   {
    "duration": 161,
    "start_time": "2023-01-31T07:03:30.226Z"
   },
   {
    "duration": 916,
    "start_time": "2023-01-31T07:03:32.281Z"
   },
   {
    "duration": 65,
    "start_time": "2023-01-31T07:03:35.525Z"
   },
   {
    "duration": 32,
    "start_time": "2023-01-31T07:03:37.705Z"
   },
   {
    "duration": 45,
    "start_time": "2023-01-31T07:03:40.381Z"
   },
   {
    "duration": 6,
    "start_time": "2023-01-31T07:03:42.482Z"
   },
   {
    "duration": 36,
    "start_time": "2023-01-31T07:03:45.085Z"
   },
   {
    "duration": 347,
    "start_time": "2023-01-31T07:03:47.762Z"
   },
   {
    "duration": 177,
    "start_time": "2023-01-31T07:03:51.585Z"
   },
   {
    "duration": 13,
    "start_time": "2023-01-31T07:03:54.284Z"
   },
   {
    "duration": 26,
    "start_time": "2023-01-31T07:03:56.468Z"
   },
   {
    "duration": 380,
    "start_time": "2023-01-31T07:03:58.441Z"
   },
   {
    "duration": 127,
    "start_time": "2023-01-31T07:04:02.171Z"
   },
   {
    "duration": 41,
    "start_time": "2023-01-31T07:04:04.232Z"
   },
   {
    "duration": 265,
    "start_time": "2023-01-31T07:04:06.466Z"
   },
   {
    "duration": 44,
    "start_time": "2023-01-31T07:04:10.592Z"
   },
   {
    "duration": 4,
    "start_time": "2023-01-31T07:04:14.597Z"
   },
   {
    "duration": 2989,
    "start_time": "2023-01-31T07:04:20.500Z"
   },
   {
    "duration": 268,
    "start_time": "2023-01-31T07:04:25.482Z"
   },
   {
    "duration": 5,
    "start_time": "2023-01-31T07:04:27.601Z"
   },
   {
    "duration": 13,
    "start_time": "2023-01-31T07:04:30.425Z"
   },
   {
    "duration": 122,
    "start_time": "2023-01-31T07:04:51.929Z"
   },
   {
    "duration": 5,
    "start_time": "2023-01-31T07:04:54.771Z"
   },
   {
    "duration": 2,
    "start_time": "2023-01-31T07:05:02.684Z"
   },
   {
    "duration": 1356,
    "start_time": "2023-01-31T07:15:41.815Z"
   },
   {
    "duration": 934,
    "start_time": "2023-01-31T07:15:44.860Z"
   },
   {
    "duration": 23,
    "start_time": "2023-01-31T07:15:47.277Z"
   },
   {
    "duration": 298,
    "start_time": "2023-01-31T07:15:49.497Z"
   },
   {
    "duration": 140,
    "start_time": "2023-01-31T07:15:52.793Z"
   },
   {
    "duration": 527,
    "start_time": "2023-01-31T07:15:55.074Z"
   },
   {
    "duration": 1111,
    "start_time": "2023-01-31T07:15:56.871Z"
   },
   {
    "duration": 125,
    "start_time": "2023-01-31T07:15:59.388Z"
   },
   {
    "duration": 168,
    "start_time": "2023-01-31T07:16:02.425Z"
   },
   {
    "duration": 176,
    "start_time": "2023-01-31T07:16:05.219Z"
   },
   {
    "duration": 870,
    "start_time": "2023-01-31T07:16:07.619Z"
   },
   {
    "duration": 76,
    "start_time": "2023-01-31T07:16:10.609Z"
   },
   {
    "duration": 19,
    "start_time": "2023-01-31T07:16:12.403Z"
   },
   {
    "duration": 79,
    "start_time": "2023-01-31T07:16:15.513Z"
   },
   {
    "duration": 6,
    "start_time": "2023-01-31T07:16:17.799Z"
   },
   {
    "duration": 48,
    "start_time": "2023-01-31T07:16:19.842Z"
   },
   {
    "duration": 332,
    "start_time": "2023-01-31T07:16:22.572Z"
   },
   {
    "duration": 149,
    "start_time": "2023-01-31T07:16:25.153Z"
   },
   {
    "duration": 10,
    "start_time": "2023-01-31T07:16:28.199Z"
   },
   {
    "duration": 22,
    "start_time": "2023-01-31T07:16:38.575Z"
   },
   {
    "duration": 394,
    "start_time": "2023-01-31T07:16:40.706Z"
   },
   {
    "duration": 145,
    "start_time": "2023-01-31T07:16:44.989Z"
   },
   {
    "duration": 47,
    "start_time": "2023-01-31T07:16:47.034Z"
   },
   {
    "duration": 286,
    "start_time": "2023-01-31T07:16:49.590Z"
   },
   {
    "duration": 67,
    "start_time": "2023-01-31T07:16:57.731Z"
   },
   {
    "duration": 7,
    "start_time": "2023-01-31T07:16:59.649Z"
   },
   {
    "duration": 278,
    "start_time": "2023-01-31T07:18:39.157Z"
   },
   {
    "duration": 5,
    "start_time": "2023-01-31T07:18:40.972Z"
   },
   {
    "duration": 15,
    "start_time": "2023-01-31T07:18:43.170Z"
   },
   {
    "duration": 935,
    "start_time": "2023-01-31T07:19:01.108Z"
   },
   {
    "duration": 99,
    "start_time": "2023-01-31T07:19:20.962Z"
   },
   {
    "duration": 3,
    "start_time": "2023-01-31T07:19:24.074Z"
   },
   {
    "duration": 133,
    "start_time": "2023-01-31T07:19:59.589Z"
   },
   {
    "duration": 993,
    "start_time": "2023-01-31T07:20:04.659Z"
   },
   {
    "duration": 22,
    "start_time": "2023-01-31T07:20:31.686Z"
   },
   {
    "duration": 1270,
    "start_time": "2023-01-31T07:23:17.818Z"
   },
   {
    "duration": 843,
    "start_time": "2023-01-31T07:23:20.289Z"
   },
   {
    "duration": 16,
    "start_time": "2023-01-31T07:23:23.069Z"
   },
   {
    "duration": 275,
    "start_time": "2023-01-31T07:23:25.493Z"
   },
   {
    "duration": 134,
    "start_time": "2023-01-31T07:23:28.017Z"
   },
   {
    "duration": 522,
    "start_time": "2023-01-31T07:23:30.147Z"
   },
   {
    "duration": 1066,
    "start_time": "2023-01-31T07:23:32.490Z"
   },
   {
    "duration": 149,
    "start_time": "2023-01-31T07:23:34.802Z"
   },
   {
    "duration": 172,
    "start_time": "2023-01-31T07:23:37.305Z"
   },
   {
    "duration": 136,
    "start_time": "2023-01-31T07:23:40.055Z"
   },
   {
    "duration": 837,
    "start_time": "2023-01-31T07:23:42.148Z"
   },
   {
    "duration": 823,
    "start_time": "2023-01-31T07:23:54.670Z"
   },
   {
    "duration": 65,
    "start_time": "2023-01-31T07:23:57.329Z"
   },
   {
    "duration": 20,
    "start_time": "2023-01-31T07:23:59.168Z"
   },
   {
    "duration": 55,
    "start_time": "2023-01-31T07:24:01.642Z"
   },
   {
    "duration": 5,
    "start_time": "2023-01-31T07:24:04.130Z"
   },
   {
    "duration": 39,
    "start_time": "2023-01-31T07:24:06.033Z"
   },
   {
    "duration": 309,
    "start_time": "2023-01-31T07:24:08.290Z"
   },
   {
    "duration": 134,
    "start_time": "2023-01-31T07:24:10.602Z"
   },
   {
    "duration": 12,
    "start_time": "2023-01-31T07:24:12.625Z"
   },
   {
    "duration": 20,
    "start_time": "2023-01-31T07:24:14.970Z"
   },
   {
    "duration": 380,
    "start_time": "2023-01-31T07:24:17.442Z"
   },
   {
    "duration": 119,
    "start_time": "2023-01-31T07:24:19.965Z"
   },
   {
    "duration": 26,
    "start_time": "2023-01-31T07:24:22.099Z"
   },
   {
    "duration": 294,
    "start_time": "2023-01-31T07:24:24.441Z"
   },
   {
    "duration": 50,
    "start_time": "2023-01-31T07:24:30.291Z"
   },
   {
    "duration": 4,
    "start_time": "2023-01-31T07:24:32.002Z"
   },
   {
    "duration": 234,
    "start_time": "2023-01-31T07:24:36.026Z"
   },
   {
    "duration": 3,
    "start_time": "2023-01-31T07:24:41.299Z"
   },
   {
    "duration": 17,
    "start_time": "2023-01-31T07:24:44.590Z"
   },
   {
    "duration": 112,
    "start_time": "2023-01-31T07:24:48.195Z"
   },
   {
    "duration": 3,
    "start_time": "2023-01-31T07:24:53.123Z"
   },
   {
    "duration": 3,
    "start_time": "2023-01-31T07:25:00.065Z"
   },
   {
    "duration": 12,
    "start_time": "2023-01-31T07:25:42.108Z"
   },
   {
    "duration": 3,
    "start_time": "2023-01-31T07:28:38.792Z"
   },
   {
    "duration": 5,
    "start_time": "2023-01-31T07:31:29.812Z"
   },
   {
    "duration": 1456,
    "start_time": "2023-01-31T07:43:33.610Z"
   },
   {
    "duration": 1018,
    "start_time": "2023-01-31T07:43:35.164Z"
   },
   {
    "duration": 19,
    "start_time": "2023-01-31T07:43:37.368Z"
   },
   {
    "duration": 269,
    "start_time": "2023-01-31T07:43:39.712Z"
   },
   {
    "duration": 171,
    "start_time": "2023-01-31T07:43:42.825Z"
   },
   {
    "duration": 586,
    "start_time": "2023-01-31T07:43:45.214Z"
   },
   {
    "duration": 1237,
    "start_time": "2023-01-31T07:43:47.066Z"
   },
   {
    "duration": 180,
    "start_time": "2023-01-31T07:43:49.457Z"
   },
   {
    "duration": 235,
    "start_time": "2023-01-31T07:43:51.502Z"
   },
   {
    "duration": 223,
    "start_time": "2023-01-31T07:43:54.436Z"
   },
   {
    "duration": 1055,
    "start_time": "2023-01-31T07:43:56.318Z"
   },
   {
    "duration": 84,
    "start_time": "2023-01-31T07:43:59.641Z"
   },
   {
    "duration": 32,
    "start_time": "2023-01-31T07:44:01.768Z"
   },
   {
    "duration": 59,
    "start_time": "2023-01-31T07:44:04.242Z"
   },
   {
    "duration": 7,
    "start_time": "2023-01-31T07:44:06.806Z"
   },
   {
    "duration": 54,
    "start_time": "2023-01-31T07:44:10.034Z"
   },
   {
    "duration": 359,
    "start_time": "2023-01-31T07:44:12.218Z"
   },
   {
    "duration": 209,
    "start_time": "2023-01-31T07:44:16.550Z"
   },
   {
    "duration": 15,
    "start_time": "2023-01-31T07:44:18.830Z"
   },
   {
    "duration": 24,
    "start_time": "2023-01-31T07:44:22.814Z"
   },
   {
    "duration": 507,
    "start_time": "2023-01-31T07:44:24.613Z"
   },
   {
    "duration": 144,
    "start_time": "2023-01-31T07:44:28.234Z"
   },
   {
    "duration": 40,
    "start_time": "2023-01-31T07:44:30.711Z"
   },
   {
    "duration": 347,
    "start_time": "2023-01-31T07:44:32.923Z"
   },
   {
    "duration": 63,
    "start_time": "2023-01-31T07:44:41.510Z"
   },
   {
    "duration": 10,
    "start_time": "2023-01-31T07:44:43.856Z"
   },
   {
    "duration": 3403,
    "start_time": "2023-01-31T07:44:45.998Z"
   },
   {
    "duration": 14,
    "start_time": "2023-01-31T07:47:50.709Z"
   },
   {
    "duration": 2,
    "start_time": "2023-01-31T07:49:09.872Z"
   },
   {
    "duration": 40,
    "start_time": "2023-01-31T07:49:40.201Z"
   },
   {
    "duration": 39962,
    "start_time": "2023-01-31T07:51:13.735Z"
   },
   {
    "duration": 130,
    "start_time": "2023-01-31T07:52:54.268Z"
   },
   {
    "duration": 144,
    "start_time": "2023-01-31T07:53:00.754Z"
   },
   {
    "duration": 3,
    "start_time": "2023-01-31T07:53:04.267Z"
   },
   {
    "duration": 10,
    "start_time": "2023-01-31T07:53:59.509Z"
   },
   {
    "duration": 24,
    "start_time": "2023-01-31T07:54:57.898Z"
   },
   {
    "duration": 17,
    "start_time": "2023-01-31T07:55:19.969Z"
   },
   {
    "duration": 4,
    "start_time": "2023-01-31T07:55:41.403Z"
   },
   {
    "duration": 7,
    "start_time": "2023-01-31T07:55:50.654Z"
   },
   {
    "duration": 5827322,
    "start_time": "2023-01-31T07:55:53.127Z"
   },
   {
    "duration": 935,
    "start_time": "2023-01-31T09:33:00.450Z"
   },
   {
    "duration": 980,
    "start_time": "2023-01-31T09:33:54.412Z"
   },
   {
    "duration": 128,
    "start_time": "2023-01-31T09:34:01.084Z"
   },
   {
    "duration": 1366,
    "start_time": "2023-01-31T11:33:10.410Z"
   },
   {
    "duration": 894,
    "start_time": "2023-01-31T11:33:13.696Z"
   },
   {
    "duration": 25,
    "start_time": "2023-01-31T11:33:15.868Z"
   },
   {
    "duration": 246,
    "start_time": "2023-01-31T11:33:18.272Z"
   },
   {
    "duration": 154,
    "start_time": "2023-01-31T11:33:20.536Z"
   },
   {
    "duration": 507,
    "start_time": "2023-01-31T11:33:22.776Z"
   },
   {
    "duration": 1062,
    "start_time": "2023-01-31T11:33:24.399Z"
   },
   {
    "duration": 104,
    "start_time": "2023-01-31T11:33:26.764Z"
   },
   {
    "duration": 143,
    "start_time": "2023-01-31T11:33:29.312Z"
   },
   {
    "duration": 152,
    "start_time": "2023-01-31T11:33:30.946Z"
   },
   {
    "duration": 873,
    "start_time": "2023-01-31T11:33:32.974Z"
   },
   {
    "duration": 58,
    "start_time": "2023-01-31T11:33:36.070Z"
   },
   {
    "duration": 20,
    "start_time": "2023-01-31T11:33:37.815Z"
   },
   {
    "duration": 45,
    "start_time": "2023-01-31T11:33:40.164Z"
   },
   {
    "duration": 6,
    "start_time": "2023-01-31T11:33:42.120Z"
   },
   {
    "duration": 35,
    "start_time": "2023-01-31T11:33:44.366Z"
   },
   {
    "duration": 317,
    "start_time": "2023-01-31T11:33:47.841Z"
   },
   {
    "duration": 134,
    "start_time": "2023-01-31T11:33:50.056Z"
   },
   {
    "duration": 10,
    "start_time": "2023-01-31T11:33:56.185Z"
   },
   {
    "duration": 19,
    "start_time": "2023-01-31T11:33:59.669Z"
   },
   {
    "duration": 364,
    "start_time": "2023-01-31T11:34:02.184Z"
   },
   {
    "duration": 129,
    "start_time": "2023-01-31T11:34:04.529Z"
   },
   {
    "duration": 26,
    "start_time": "2023-01-31T11:34:06.601Z"
   },
   {
    "duration": 272,
    "start_time": "2023-01-31T11:34:08.880Z"
   },
   {
    "duration": 47,
    "start_time": "2023-01-31T11:34:16.128Z"
   },
   {
    "duration": 4,
    "start_time": "2023-01-31T11:34:18.088Z"
   },
   {
    "duration": 2786,
    "start_time": "2023-01-31T11:34:21.032Z"
   },
   {
    "duration": 11,
    "start_time": "2023-01-31T11:34:35.713Z"
   },
   {
    "duration": 3,
    "start_time": "2023-01-31T11:34:40.377Z"
   },
   {
    "duration": 40,
    "start_time": "2023-01-31T11:34:42.489Z"
   },
   {
    "duration": 43397,
    "start_time": "2023-01-31T11:34:56.241Z"
   },
   {
    "duration": 149,
    "start_time": "2023-01-31T11:37:55.723Z"
   },
   {
    "duration": 136,
    "start_time": "2023-01-31T11:38:15.444Z"
   },
   {
    "duration": 3,
    "start_time": "2023-01-31T11:38:17.567Z"
   },
   {
    "duration": 275,
    "start_time": "2023-01-31T11:38:38.100Z"
   },
   {
    "duration": 130,
    "start_time": "2023-01-31T11:38:44.998Z"
   },
   {
    "duration": 7377,
    "start_time": "2023-01-31T11:39:16.568Z"
   },
   {
    "duration": 29,
    "start_time": "2023-01-31T11:39:36.552Z"
   },
   {
    "duration": 27,
    "start_time": "2023-01-31T11:40:27.524Z"
   },
   {
    "duration": 290,
    "start_time": "2023-01-31T11:40:40.933Z"
   },
   {
    "duration": 2827,
    "start_time": "2023-01-31T11:40:44.685Z"
   },
   {
    "duration": 6,
    "start_time": "2023-01-31T11:40:48.605Z"
   },
   {
    "duration": 3,
    "start_time": "2023-01-31T11:40:51.109Z"
   },
   {
    "duration": 1257,
    "start_time": "2023-01-31T11:40:59.390Z"
   },
   {
    "duration": 864,
    "start_time": "2023-01-31T11:41:02.542Z"
   },
   {
    "duration": 39,
    "start_time": "2023-01-31T11:41:04.926Z"
   },
   {
    "duration": 258,
    "start_time": "2023-01-31T11:41:07.463Z"
   },
   {
    "duration": 138,
    "start_time": "2023-01-31T11:41:09.967Z"
   },
   {
    "duration": 489,
    "start_time": "2023-01-31T11:41:11.918Z"
   },
   {
    "duration": 1117,
    "start_time": "2023-01-31T11:41:14.413Z"
   },
   {
    "duration": 123,
    "start_time": "2023-01-31T11:41:16.928Z"
   },
   {
    "duration": 143,
    "start_time": "2023-01-31T11:41:19.867Z"
   },
   {
    "duration": 141,
    "start_time": "2023-01-31T11:41:22.182Z"
   },
   {
    "duration": 921,
    "start_time": "2023-01-31T11:41:24.158Z"
   },
   {
    "duration": 63,
    "start_time": "2023-01-31T11:41:26.638Z"
   },
   {
    "duration": 19,
    "start_time": "2023-01-31T11:41:29.221Z"
   },
   {
    "duration": 54,
    "start_time": "2023-01-31T11:41:31.580Z"
   },
   {
    "duration": 14,
    "start_time": "2023-01-31T11:41:33.438Z"
   },
   {
    "duration": 42,
    "start_time": "2023-01-31T11:41:35.638Z"
   },
   {
    "duration": 296,
    "start_time": "2023-01-31T11:41:38.526Z"
   },
   {
    "duration": 156,
    "start_time": "2023-01-31T11:41:41.670Z"
   },
   {
    "duration": 17,
    "start_time": "2023-01-31T11:41:44.334Z"
   },
   {
    "duration": 26,
    "start_time": "2023-01-31T11:41:46.753Z"
   },
   {
    "duration": 375,
    "start_time": "2023-01-31T11:41:48.699Z"
   },
   {
    "duration": 130,
    "start_time": "2023-01-31T11:41:51.430Z"
   },
   {
    "duration": 36,
    "start_time": "2023-01-31T11:41:53.781Z"
   },
   {
    "duration": 286,
    "start_time": "2023-01-31T11:41:55.673Z"
   },
   {
    "duration": 56,
    "start_time": "2023-01-31T11:41:58.682Z"
   },
   {
    "duration": 4,
    "start_time": "2023-01-31T11:42:00.302Z"
   },
   {
    "duration": 3007,
    "start_time": "2023-01-31T11:42:02.838Z"
   },
   {
    "duration": 13,
    "start_time": "2023-01-31T11:42:06.278Z"
   },
   {
    "duration": 3,
    "start_time": "2023-01-31T11:42:08.197Z"
   },
   {
    "duration": 49,
    "start_time": "2023-01-31T11:42:10.393Z"
   },
   {
    "duration": 41991,
    "start_time": "2023-01-31T11:42:15.807Z"
   },
   {
    "duration": 629,
    "start_time": "2023-01-31T11:43:00.495Z"
   },
   {
    "duration": 3,
    "start_time": "2023-01-31T11:43:20.770Z"
   },
   {
    "duration": 28,
    "start_time": "2023-01-31T11:43:41.929Z"
   },
   {
    "duration": 44,
    "start_time": "2023-01-31T11:43:48.828Z"
   },
   {
    "duration": 29,
    "start_time": "2023-01-31T11:44:27.283Z"
   },
   {
    "duration": 116,
    "start_time": "2023-01-31T11:44:31.468Z"
   },
   {
    "duration": 3,
    "start_time": "2023-01-31T11:44:35.721Z"
   },
   {
    "duration": 140784,
    "start_time": "2023-01-31T11:44:38.683Z"
   },
   {
    "duration": 120,
    "start_time": "2023-01-31T11:48:34.502Z"
   },
   {
    "duration": 10079,
    "start_time": "2023-01-31T11:50:06.870Z"
   },
   {
    "duration": 27,
    "start_time": "2023-01-31T11:50:39.792Z"
   },
   {
    "duration": 4,
    "start_time": "2023-01-31T11:51:17.665Z"
   },
   {
    "duration": 5,
    "start_time": "2023-01-31T11:52:01.529Z"
   },
   {
    "duration": 44468,
    "start_time": "2023-01-31T11:52:20.481Z"
   },
   {
    "duration": 1010986,
    "start_time": "2023-01-31T11:56:08.182Z"
   },
   {
    "duration": 219,
    "start_time": "2023-01-31T12:19:33.620Z"
   },
   {
    "duration": 3,
    "start_time": "2023-01-31T12:19:48.788Z"
   },
   {
    "duration": 1579397,
    "start_time": "2023-01-31T12:20:03.671Z"
   },
   {
    "duration": 812,
    "start_time": "2023-01-31T12:52:15.475Z"
   },
   {
    "duration": 115,
    "start_time": "2023-01-31T12:52:27.123Z"
   },
   {
    "duration": 28980,
    "start_time": "2023-01-31T12:52:52.804Z"
   },
   {
    "duration": 80,
    "start_time": "2023-01-31T12:53:28.075Z"
   },
   {
    "duration": 18348,
    "start_time": "2023-01-31T12:53:35.621Z"
   },
   {
    "duration": 243,
    "start_time": "2023-01-31T12:54:19.683Z"
   },
   {
    "duration": 102,
    "start_time": "2023-01-31T12:54:30.078Z"
   },
   {
    "duration": 119,
    "start_time": "2023-01-31T12:54:53.094Z"
   },
   {
    "duration": 177,
    "start_time": "2023-01-31T12:55:01.696Z"
   },
   {
    "duration": 338728,
    "start_time": "2023-01-31T12:55:17.422Z"
   },
   {
    "duration": 841,
    "start_time": "2023-01-31T13:01:17.711Z"
   },
   {
    "duration": 13,
    "start_time": "2023-01-31T13:06:21.959Z"
   },
   {
    "duration": 266,
    "start_time": "2023-01-31T13:18:14.504Z"
   },
   {
    "duration": 16,
    "start_time": "2023-01-31T13:22:38.788Z"
   },
   {
    "duration": 10,
    "start_time": "2023-01-31T13:22:58.574Z"
   },
   {
    "duration": 121,
    "start_time": "2023-01-31T13:25:44.586Z"
   },
   {
    "duration": 89,
    "start_time": "2023-01-31T13:26:10.024Z"
   },
   {
    "duration": 103,
    "start_time": "2023-01-31T13:32:59.329Z"
   },
   {
    "duration": 73,
    "start_time": "2023-01-31T13:33:41.755Z"
   },
   {
    "duration": 14,
    "start_time": "2023-01-31T13:55:11.623Z"
   },
   {
    "duration": 21,
    "start_time": "2023-01-31T13:55:37.592Z"
   },
   {
    "duration": 14,
    "start_time": "2023-01-31T13:56:18.167Z"
   },
   {
    "duration": 11,
    "start_time": "2023-01-31T13:56:41.249Z"
   },
   {
    "duration": 78,
    "start_time": "2023-01-31T13:57:01.021Z"
   },
   {
    "duration": 18,
    "start_time": "2023-01-31T13:57:08.553Z"
   },
   {
    "duration": 20,
    "start_time": "2023-01-31T13:58:20.730Z"
   },
   {
    "duration": 18,
    "start_time": "2023-01-31T13:58:57.452Z"
   },
   {
    "duration": 15,
    "start_time": "2023-01-31T13:59:18.259Z"
   },
   {
    "duration": 21,
    "start_time": "2023-01-31T14:00:08.112Z"
   },
   {
    "duration": 19,
    "start_time": "2023-01-31T14:00:55.033Z"
   },
   {
    "duration": 10,
    "start_time": "2023-01-31T14:01:23.526Z"
   },
   {
    "duration": 72,
    "start_time": "2023-01-31T14:11:25.145Z"
   }
  ],
  "kernelspec": {
   "display_name": "Python 3 (ipykernel)",
   "language": "python",
   "name": "python3"
  },
  "language_info": {
   "codemirror_mode": {
    "name": "ipython",
    "version": 3
   },
   "file_extension": ".py",
   "mimetype": "text/x-python",
   "name": "python",
   "nbconvert_exporter": "python",
   "pygments_lexer": "ipython3",
   "version": "3.9.5"
  },
  "toc": {
   "base_numbering": 1,
   "nav_menu": {},
   "number_sections": true,
   "sideBar": true,
   "skip_h1_title": true,
   "title_cell": "Table of Contents",
   "title_sidebar": "Contents",
   "toc_cell": false,
   "toc_position": {},
   "toc_section_display": true,
   "toc_window_display": false
  }
 },
 "nbformat": 4,
 "nbformat_minor": 2
}
